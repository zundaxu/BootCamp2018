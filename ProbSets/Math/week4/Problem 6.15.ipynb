{
 "cells": [
  {
   "cell_type": "markdown",
   "metadata": {},
   "source": [
    "This problem credit to Ari."
   ]
  },
  {
   "cell_type": "code",
   "execution_count": 1,
   "metadata": {
    "collapsed": true
   },
   "outputs": [],
   "source": [
    "import numpy as np\n",
    "from matplotlib import pyplot as plt"
   ]
  },
  {
   "cell_type": "code",
   "execution_count": 2,
   "metadata": {
    "collapsed": true
   },
   "outputs": [],
   "source": [
    "def f_prime(x):\n",
    "    y = 4*x**3 - 3*14*x**2 + 120*x - 70\n",
    "    return y"
   ]
  },
  {
   "cell_type": "code",
   "execution_count": 3,
   "metadata": {
    "collapsed": true
   },
   "outputs": [],
   "source": [
    "def secant(x0, x1, pts, f, tol=1e-8, max_iters=200, iters = 0):\n",
    "    x2 = x1 - f(x1)*((x1 - x0)/(f(x1)-f(x0)))\n",
    "    h = np.abs(x2-x1)\n",
    "    if h < tol or iters > max_iters:\n",
    "        return(x2, pts)\n",
    "    else:\n",
    "        pts.append(x2)\n",
    "        return secant(x1, x2, pts, f, tol, max_iters, iters+1)"
   ]
  },
  {
   "cell_type": "code",
   "execution_count": 4,
   "metadata": {
    "collapsed": true
   },
   "outputs": [],
   "source": [
    "pts = []\n",
    "x_star, pts = secant(0,-1, pts, f_prime)"
   ]
  },
  {
   "cell_type": "code",
   "execution_count": 6,
   "metadata": {},
   "outputs": [
    {
     "data": {
      "image/png": "[encoded data removed]",
      "text/plain": [
       "<Figure size 432x288 with 1 Axes>"
      ]
     },
     "metadata": {},
     "output_type": "display_data"
    }
   ],
   "source": [
    "x = np.linspace(0,1.5,100)\n",
    "f = x**4 -14*x**3 + 60*x**2 - 70*x\n",
    "plt.plot(x, f)\n",
    "plt.xlabel('x')\n",
    "for i in range(len(pts)):\n",
    "    plt.plot(pts[i], -25, marker='o', markersize=5)\n",
    "plt.show()"
   ]
  },
  {
   "cell_type": "code",
   "execution_count": null,
   "metadata": {
    "collapsed": true
   },
   "outputs": [],
   "source": []
  }
 ],
 "metadata": {
  "kernelspec": {
   "display_name": "Python 3",
   "language": "python",
   "name": "python3"
  },
  "language_info": {
   "codemirror_mode": {
    "name": "ipython",
    "version": 3
   },
   "file_extension": ".py",
   "mimetype": "text/x-python",
   "name": "python",
   "nbconvert_exporter": "python",
   "pygments_lexer": "ipython3",
   "version": "3.6.3"
  }
 },
 "nbformat": 4,
 "nbformat_minor": 2
}
