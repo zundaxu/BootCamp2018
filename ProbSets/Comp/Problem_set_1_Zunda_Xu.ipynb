{
 "cells": [
  {
   "cell_type": "markdown",
   "metadata": {},
   "source": [
    "### Problem Set 1-- Numpy Part"
   ]
  },
  {
   "cell_type": "markdown",
   "metadata": {},
   "source": [
    "#### Name: Zunda Xu (zunda@uchicago.edu)"
   ]
  },
  {
   "cell_type": "markdown",
   "metadata": {},
   "source": [
    "#### Problem 1"
   ]
  },
  {
   "cell_type": "code",
   "execution_count": 2,
   "metadata": {
    "collapsed": true
   },
   "outputs": [],
   "source": [
    "# Import the library \n",
    "import numpy as np"
   ]
  },
  {
   "cell_type": "code",
   "execution_count": 8,
   "metadata": {
    "collapsed": true
   },
   "outputs": [],
   "source": [
    "def array_multiple():\n",
    "    A = np.array( [ [3, 1, -4],[1, 5, -9] ] )\n",
    "    B = np.array( [ [2, 6, -5, 3],[5, -8, 9, 7], [9, -3, -2, -3] ] )\n",
    "    inner_product = np.dot(A, B)\n",
    "    return inner_product"
   ]
  },
  {
   "cell_type": "code",
   "execution_count": 9,
   "metadata": {
    "collapsed": true
   },
   "outputs": [],
   "source": [
    "inner_product = array_multiple()"
   ]
  },
  {
   "cell_type": "code",
   "execution_count": 11,
   "metadata": {
    "scrolled": true
   },
   "outputs": [
    {
     "name": "stdout",
     "output_type": "stream",
     "text": [
      "The matrix product AB is: [[-25  22   2  28]\n",
      " [-54  -7  58  65]]\n"
     ]
    }
   ],
   "source": [
    "print(\"The matrix product AB is:\", inner_product)"
   ]
  },
  {
   "cell_type": "markdown",
   "metadata": {},
   "source": [
    "#### Problem 2"
   ]
  },
  {
   "cell_type": "code",
   "execution_count": 12,
   "metadata": {
    "collapsed": true
   },
   "outputs": [],
   "source": [
    "def matrix_function():\n",
    "    A = np.array( [ [3, 1, 4],[1, 5, 9], [-5, 3, 1] ] )\n",
    "    F = -(A @ A @ A) + 9 * (A @ A) - 15 * A\n",
    "    return F"
   ]
  },
  {
   "cell_type": "code",
   "execution_count": 14,
   "metadata": {},
   "outputs": [
    {
     "name": "stdout",
     "output_type": "stream",
     "text": [
      "The answer to problem set 2 is: [[0 0 0]\n",
      " [0 0 0]\n",
      " [0 0 0]]\n"
     ]
    }
   ],
   "source": [
    "F = matrix_function()\n",
    "print(\"The answer to problem  2 is:\", F)"
   ]
  },
  {
   "cell_type": "markdown",
   "metadata": {},
   "source": [
    "#### Problem 3"
   ]
  },
  {
   "cell_type": "code",
   "execution_count": 12,
   "metadata": {
    "collapsed": true
   },
   "outputs": [],
   "source": [
    "def matrix_product():\n",
    "    A = np.triu(np.ones((7,7), dtype=np.int))\n",
    "    B = np.full_like(A, -1)\n",
    "    index = np.triu_indices(7,1)\n",
    "    B[index] = 5\n",
    "    product = A @ B @ A\n",
    "    return product.astype(np.int64)"
   ]
  },
  {
   "cell_type": "code",
   "execution_count": 13,
   "metadata": {},
   "outputs": [
    {
     "name": "stdout",
     "output_type": "stream",
     "text": [
      "The answer of problem 3 is: [[ -7  -8  -3   8  25  48  77]\n",
      " [ -6 -12 -12  -6   6  24  48]\n",
      " [ -5 -10 -15 -14  -7   6  25]\n",
      " [ -4  -8 -12 -16 -14  -6   8]\n",
      " [ -3  -6  -9 -12 -15 -12  -3]\n",
      " [ -2  -4  -6  -8 -10 -12  -8]\n",
      " [ -1  -2  -3  -4  -5  -6  -7]]\n"
     ]
    }
   ],
   "source": [
    "ABA = matrix_product()\n",
    "print(\"The answer of problem 3 is:\", ABA)"
   ]
  },
  {
   "cell_type": "markdown",
   "metadata": {},
   "source": [
    "#### Problem 4"
   ]
  },
  {
   "cell_type": "code",
   "execution_count": 14,
   "metadata": {
    "collapsed": true
   },
   "outputs": [],
   "source": [
    "def fancy_index(A):\n",
    "    array_1 = A.copy()\n",
    "    mask = array_1 < 0 \n",
    "    array_1[mask] = 0\n",
    "    return array_1"
   ]
  },
  {
   "cell_type": "code",
   "execution_count": 15,
   "metadata": {},
   "outputs": [
    {
     "name": "stdout",
     "output_type": "stream",
     "text": [
      "[1 0 0 0 0 0 4 0]\n"
     ]
    }
   ],
   "source": [
    "A = np.array([1,0,0,-1,-2,0,4,-3])\n",
    "array_1 = fancy_index(A)\n",
    "print(array_1)"
   ]
  },
  {
   "cell_type": "markdown",
   "metadata": {},
   "source": [
    "#### Problem 5"
   ]
  },
  {
   "cell_type": "code",
   "execution_count": 29,
   "metadata": {
    "collapsed": true
   },
   "outputs": [],
   "source": [
    "def stack():\n",
    "    A = np.arange(6).reshape((2,3))\n",
    "    B = np.tril(np.ones((3,3))) *3\n",
    "    C = np.eye(3)*3\n",
    "    z1 = np.zeros((3,3))\n",
    "    z2 = np.zeros((5,2))\n",
    "    z3 = np.zeros((2,3))\n",
    "    I = np.eye(3)\n",
    "    col1 = np.vstack((z1,A,B))\n",
    "    col2 = np.vstack((A.T,z2))\n",
    "    col3 = np.vstack((I,z3,C))\n",
    "    matrix = np.hstack((col1,col2,col3))\n",
    "    return matrix"
   ]
  },
  {
   "cell_type": "code",
   "execution_count": 30,
   "metadata": {},
   "outputs": [
    {
     "name": "stdout",
     "output_type": "stream",
     "text": [
      "The answer of problem 5 is: [[ 0.  0.  0.  0.  3.  1.  0.  0.]\n",
      " [ 0.  0.  0.  1.  4.  0.  1.  0.]\n",
      " [ 0.  0.  0.  2.  5.  0.  0.  1.]\n",
      " [ 0.  1.  2.  0.  0.  0.  0.  0.]\n",
      " [ 3.  4.  5.  0.  0.  0.  0.  0.]\n",
      " [ 3.  0.  0.  0.  0.  3.  0.  0.]\n",
      " [ 3.  3.  0.  0.  0.  0.  3.  0.]\n",
      " [ 3.  3.  3.  0.  0.  0.  0.  3.]]\n"
     ]
    }
   ],
   "source": [
    "matrix = stack()\n",
    "print(\"The answer of problem 5 is:\", matrix)"
   ]
  },
  {
   "cell_type": "markdown",
   "metadata": {},
   "source": [
    "#### Problem 6"
   ]
  },
  {
   "cell_type": "code",
   "execution_count": 31,
   "metadata": {
    "collapsed": true
   },
   "outputs": [],
   "source": [
    "def row_stochastics(A):\n",
    "    row_sum = A.sum(axis = 1)\n",
    "    new_matrix = A/ row_sum[:, np.newaxis]\n",
    "    return new_matrix"
   ]
  },
  {
   "cell_type": "code",
   "execution_count": 40,
   "metadata": {},
   "outputs": [
    {
     "name": "stdout",
     "output_type": "stream",
     "text": [
      "The answer of problem 6 is: [[ 0.25        0.75      ]\n",
      " [ 0.28571429  0.71428571]]\n"
     ]
    }
   ],
   "source": [
    "new_matrix = row_stochastics(np.array([[1,3],[2,5]]))\n",
    "print(\"The answer of problem 6 is:\", new_matrix)"
   ]
  },
  {
   "cell_type": "markdown",
   "metadata": {},
   "source": [
    "#### Problem 7"
   ]
  },
  {
   "cell_type": "code",
   "execution_count": 49,
   "metadata": {
    "collapsed": true
   },
   "outputs": [],
   "source": [
    "grid = np.load(\"grid.npy\")"
   ]
  },
  {
   "cell_type": "code",
   "execution_count": 54,
   "metadata": {
    "collapsed": true
   },
   "outputs": [],
   "source": [
    "def four_max():\n",
    "    h_max = np.max(grid[:,:-3] * grid[:,1:-2] * grid[:,2:-1] * grid[:,3:])\n",
    "    v_max = np.max(grid[:-3, :]* grid[1:-2, :] * grid[2:-1, :] * grid[3:, :])\n",
    "    r_max = np.max(grid[:-3, :-3]* grid[1:-2, 1:-2] * grid[2:-1, 2:-1] * grid[3:, 3:])\n",
    "    l_max = np.max(grid[:-3, 3:]* grid[1:-2, 2:-1] * grid[2:-1, 1:-2] * grid[3:, :-3])\n",
    "    return max(h_max, v_max, r_max, l_max)"
   ]
  },
  {
   "cell_type": "code",
   "execution_count": 55,
   "metadata": {},
   "outputs": [
    {
     "name": "stdout",
     "output_type": "stream",
     "text": [
      "The answer of problem 7 is: 70600674\n"
     ]
    }
   ],
   "source": [
    "max_product = four_max()\n",
    "print(\"The answer of problem 7 is:\", max_product)"
   ]
  },
  {
   "cell_type": "markdown",
   "metadata": {},
   "source": [
    "###  Problem Set 1-- Standard Library Part"
   ]
  },
  {
   "cell_type": "markdown",
   "metadata": {},
   "source": [
    "#### Problem 1"
   ]
  },
  {
   "cell_type": "code",
   "execution_count": 171,
   "metadata": {
    "collapsed": true
   },
   "outputs": [],
   "source": [
    "def list_statistics(l):\n",
    "    print(min(l), max(l), sum(l)/len(l))"
   ]
  },
  {
   "cell_type": "code",
   "execution_count": 172,
   "metadata": {},
   "outputs": [
    {
     "name": "stdout",
     "output_type": "stream",
     "text": [
      "2 13 6.2\n"
     ]
    }
   ],
   "source": [
    "list_statistics([4,9,13,2,3])"
   ]
  },
  {
   "cell_type": "markdown",
   "metadata": {},
   "source": [
    "#### Problem 2"
   ]
  },
  {
   "cell_type": "code",
   "execution_count": 174,
   "metadata": {},
   "outputs": [
    {
     "name": "stdout",
     "output_type": "stream",
     "text": [
      "False\n",
      "False\n",
      "True\n",
      "False\n",
      "False\n"
     ]
    }
   ],
   "source": [
    "A = 1\n",
    "new_A = A\n",
    "new_A = 2\n",
    "print(new_A == A)\n",
    "B = \"A\"\n",
    "new_B = B\n",
    "new_B = \"B\"\n",
    "print(new_B == B)\n",
    "\n",
    "C = [1,2,3]\n",
    "new_C = C\n",
    "new_C[2] = 4\n",
    "print(new_C == C)\n",
    "\n",
    "D = (1,3)\n",
    "new_D = D\n",
    "new_D = (3,1)\n",
    "print(new_D == D)\n",
    "\n",
    "E = set([1,2])\n",
    "new_E = E\n",
    "new_E = set([2,2])\n",
    "print(new_E == E)"
   ]
  },
  {
   "cell_type": "markdown",
   "metadata": {},
   "source": [
    "#### Problem 3"
   ]
  },
  {
   "cell_type": "code",
   "execution_count": 175,
   "metadata": {
    "collapsed": true
   },
   "outputs": [],
   "source": [
    "import math\n",
    "def calculator_sum(a,b):\n",
    "    return a+b\n",
    "def calculator_hyp(a,b):\n",
    "    return math.sqrt(calculator_sum(a*a, b*b))"
   ]
  },
  {
   "cell_type": "code",
   "execution_count": 176,
   "metadata": {},
   "outputs": [
    {
     "data": {
      "text/plain": [
       "5.0"
      ]
     },
     "execution_count": 176,
     "metadata": {},
     "output_type": "execute_result"
    }
   ],
   "source": [
    "calculator_hyp(3,4)"
   ]
  },
  {
   "cell_type": "markdown",
   "metadata": {},
   "source": [
    "#### Problem 4"
   ]
  },
  {
   "cell_type": "code",
   "execution_count": 179,
   "metadata": {
    "collapsed": true
   },
   "outputs": [],
   "source": [
    "def power_set(A):\n",
    "    lenth = len(A)\n",
    "    for i in range(1 << lenth):\n",
    "        print([A[j] for j in range(lenth) if (i & (1 << j))])"
   ]
  },
  {
   "cell_type": "code",
   "execution_count": 180,
   "metadata": {},
   "outputs": [
    {
     "name": "stdout",
     "output_type": "stream",
     "text": [
      "[]\n",
      "[1]\n",
      "[2]\n",
      "[1, 2]\n",
      "[3]\n",
      "[1, 3]\n",
      "[2, 3]\n",
      "[1, 2, 3]\n",
      "[4]\n",
      "[1, 4]\n",
      "[2, 4]\n",
      "[1, 2, 4]\n",
      "[3, 4]\n",
      "[1, 3, 4]\n",
      "[2, 3, 4]\n",
      "[1, 2, 3, 4]\n"
     ]
    }
   ],
   "source": [
    "power_set([1,2,3,4])"
   ]
  },
  {
   "cell_type": "markdown",
   "metadata": {},
   "source": [
    "###  Problem Set 1-- Unit Testing"
   ]
  },
  {
   "cell_type": "markdown",
   "metadata": {},
   "source": [
    "###  Problem Set 1-- Object Oriented Programming"
   ]
  },
  {
   "cell_type": "markdown",
   "metadata": {},
   "source": [
    "#### Problem 1"
   ]
  },
  {
   "cell_type": "code",
   "execution_count": 181,
   "metadata": {
    "collapsed": true
   },
   "outputs": [],
   "source": [
    "class Backpack:\n",
    "    def __init__(self, name, color, max_size = 5): # This function is the constructor.\n",
    "        '''\n",
    "        Set the name and initialize an empty list of contents.\n",
    "        Parameters:\n",
    "        name (str): the name of the backpack's owner.\n",
    "        '''\n",
    "        self.name = name # Initialize some attributes.\n",
    "        self.contents = []\n",
    "        self.color = color\n",
    "        self.max_size = max_size\n",
    "\n",
    "    def put(self, item):\n",
    "        '''\n",
    "        Add 'item' to the backpack's list of contents.\n",
    "        '''\n",
    "        if len(self.contents) > self.max_size:\n",
    "            print(\"Overcapacity\")\n",
    "        else:\n",
    "            self.contents.append(item) # Use 'self.contents', not just 'contents'.\n",
    "            \n",
    "    def take(self, item):\n",
    "        '''\n",
    "        Remove 'item' from the backpack's list of contents.\n",
    "        '''\n",
    "        self.contents.remove(item)\n",
    "        \n",
    "    def dump(self): # remove contents\n",
    "        self.contents = []"
   ]
  },
  {
   "cell_type": "code",
   "execution_count": 182,
   "metadata": {
    "collapsed": true
   },
   "outputs": [],
   "source": [
    "def test_backpack(name):\n",
    "    testpack = Backpack(name, \"black\") # Instantiate the object.\n",
    "    if testpack.name != \"Barry\": # Test an attribute.\n",
    "        print(\"Backpack.name assigned incorrectly\")\n",
    "    for item in [\"pencil\", \"pen\", \"paper\", \"computer\"]:\n",
    "        testpack.put(item) # Test a method.\n",
    "    print(\"Contents:\", testpack.contents)"
   ]
  },
  {
   "cell_type": "code",
   "execution_count": 183,
   "metadata": {},
   "outputs": [
    {
     "name": "stdout",
     "output_type": "stream",
     "text": [
      "Contents: ['pencil', 'pen', 'paper', 'computer']\n"
     ]
    }
   ],
   "source": [
    "test_backpack(\"Barry\")"
   ]
  },
  {
   "cell_type": "code",
   "execution_count": 184,
   "metadata": {},
   "outputs": [
    {
     "name": "stdout",
     "output_type": "stream",
     "text": [
      "Backpack.name assigned incorrectly\n",
      "Contents: ['pencil', 'pen', 'paper', 'computer']\n"
     ]
    }
   ],
   "source": [
    "test_backpack(\"no\")"
   ]
  },
  {
   "cell_type": "markdown",
   "metadata": {},
   "source": [
    "#### Problem 2"
   ]
  },
  {
   "cell_type": "code",
   "execution_count": 185,
   "metadata": {
    "collapsed": true
   },
   "outputs": [],
   "source": [
    "class Jetpack(Backpack):\n",
    "    # this is a jetpack which is a backpack but with fuel\n",
    "    def __init__(self, name, color, max_size=2, fuel=10):\n",
    "        Backpack.__init__(self, name, color, max_size)\n",
    "        self.fuel = fuel\n",
    "        \n",
    "    def fly(self, fuel_burned): # bunrs the fuel\n",
    "        self.fuel = self.fuel - fuel_burned \n",
    "        \n",
    "    def dump(self): # dumps everything including fuel\n",
    "        Backpack.dump(self)\n",
    "        self.fuel = 0"
   ]
  },
  {
   "cell_type": "code",
   "execution_count": 190,
   "metadata": {
    "collapsed": true
   },
   "outputs": [],
   "source": [
    "jetpack = Jetpack(\"Ari\", \"blue\")"
   ]
  },
  {
   "cell_type": "code",
   "execution_count": 191,
   "metadata": {},
   "outputs": [
    {
     "data": {
      "text/plain": [
       "6"
      ]
     },
     "execution_count": 191,
     "metadata": {},
     "output_type": "execute_result"
    }
   ],
   "source": [
    "jetpack.fly(4)\n",
    "jetpack.fuel"
   ]
  },
  {
   "cell_type": "code",
   "execution_count": 192,
   "metadata": {
    "collapsed": true
   },
   "outputs": [],
   "source": [
    "jetpack.dump()"
   ]
  },
  {
   "cell_type": "code",
   "execution_count": 193,
   "metadata": {},
   "outputs": [
    {
     "data": {
      "text/plain": [
       "0"
      ]
     },
     "execution_count": 193,
     "metadata": {},
     "output_type": "execute_result"
    }
   ],
   "source": [
    "jetpack.fuel"
   ]
  },
  {
   "cell_type": "markdown",
   "metadata": {},
   "source": [
    "#### Problem 3"
   ]
  },
  {
   "cell_type": "code",
   "execution_count": 198,
   "metadata": {
    "collapsed": true
   },
   "outputs": [],
   "source": [
    "class Backpack(object):\n",
    "    \n",
    "    def __init__(self, name, color, max_size = 5): # This function is the constructor.\n",
    "        '''\n",
    "        Set the name and initialize an empty list of contents.\n",
    "        Parameters:\n",
    "        name (str): the name of the backpack's owner.\n",
    "        '''\n",
    "        self.name = name # Initialize some attributes.\n",
    "        self.contents = []\n",
    "        self.color = color\n",
    "        self.max_size = max_size\n",
    "\n",
    "    def put(self, item):\n",
    "        '''\n",
    "        Add 'item' to the backpack's list of contents.\n",
    "        '''\n",
    "        if len(self.contents) > self.max_size:\n",
    "            print(\"Overcapacity\")\n",
    "        else:\n",
    "            self.contents.append(item) # Use 'self.contents', not just 'contents'.\n",
    "            \n",
    "    def take(self, item):\n",
    "        '''\n",
    "        Remove 'item' from the backpack's list of contents.\n",
    "        '''\n",
    "        self.contents.remove(item)\n",
    "        \n",
    "    def dump(self): # remove contents\n",
    "        self.contents = []\n",
    "        \n",
    "    def __eq__(self, other): # is it the same\n",
    "        if (self.name == other.name) & (self.color == other.color) & (len(self.contents) == len(other.contents)):\n",
    "            return True\n",
    "        \n",
    "    def __str__():\n",
    "        return '''Owner:\\t\\t{}\n",
    "        \\nColor:\\t\\t{} \n",
    "        \\nSize:\\t\\t{}\n",
    "        \\nMax Size:\\t{}\n",
    "        \\nContents:\\t{}'''.format(self.name,self.color,len(self.contents),\n",
    "                                  self.max_size, self.contents)"
   ]
  },
  {
   "cell_type": "markdown",
   "metadata": {},
   "source": [
    "#### Problem 4"
   ]
  },
  {
   "cell_type": "code",
   "execution_count": 195,
   "metadata": {
    "collapsed": true
   },
   "outputs": [],
   "source": [
    "class ComplexNumber(object):\n",
    "    \n",
    "    def __init__(self, a ,b):\n",
    "        self.real = a\n",
    "        self.imag = b\n",
    "    \n",
    "    def conjugate(self):\n",
    "        b = -self.imag\n",
    "        return ComplexNumber(self.real, b)\n",
    "    \n",
    "    def __str__(self):\n",
    "        return(\"(\"+str(self.real) + \"\" + str(self.imag) + \"j)\")\n",
    "    \n",
    "    def __abs__(self):\n",
    "        return math.sqrt(self.real ** 2 + self.imag ** 2)\n",
    "    \n",
    "    def __eq__(self, other):\n",
    "        return (self.real == other.real) and (self.imag == other.imag)\n",
    "    \n",
    "    def __add__(self, other):\n",
    "        real = self.real + other.real\n",
    "        imag = self.imag + other.imag\n",
    "        return ComplexNumber(real, imag)\n",
    "\n",
    "    def __sub__(self, other):\n",
    "        real = self.real - other.real\n",
    "        imag = self.imag - other.imag\n",
    "        return ComplexNumber(real, imag)\n",
    "\n",
    "    def __mul__(self, other):\n",
    "        real = self.real*other.real - self.imag*other.imag\n",
    "        imag = self.imag*other.real + other.imag*self.real\n",
    "        return ComplexNumber(real, imag)\n",
    "        \n",
    "    def __truediv__(self, other):\n",
    "            t = self*other.conjugate()\n",
    "            b = (other*other.conjugate()).real\n",
    "            res = ComplexNumber(t.real / b, t.imag/b)\n",
    "            return res"
   ]
  },
  {
   "cell_type": "code",
   "execution_count": 196,
   "metadata": {
    "collapsed": true
   },
   "outputs": [],
   "source": [
    "def test_ComplexNumber(a, b):\n",
    "    py_cnum, my_cnum = complex(a, b), ComplexNumber(a, b)\n",
    "    # Validate the constructor.\n",
    "    if my_cnum.real != a or my_cnum.imag != b:\n",
    "        print(\"__init__() set self.real and self.imag incorrectly\")\n",
    "    # Validate conjugate() by checking the new number's imag attribute.\n",
    "    if py_cnum.conjugate().imag != my_cnum.conjugate().imag:\n",
    "        print(\"conjugate() failed for\", py_cnum)\n",
    "    # Validate __str__().\n",
    "    if str(py_cnum) != str(my_cnum):\n",
    "        print(\"__str__() failed for\", py_cnum)\n",
    "        if str(py_cnum) != str(my_cnum):\n",
    "            print(\"__str__() failed for\", py_cnum)\n",
    "    print(my_cnum-my_cnum)\n",
    "    print(my_cnum*my_cnum)\n",
    "    print(my_cnum-my_cnum)\n",
    "    print(abs(my_cnum))\n",
    "    print(my_cnum==py_cnum)"
   ]
  },
  {
   "cell_type": "code",
   "execution_count": 197,
   "metadata": {},
   "outputs": [
    {
     "name": "stdout",
     "output_type": "stream",
     "text": [
      "(00j)\n",
      "(-20-48j)\n",
      "(00j)\n",
      "7.211102550927978\n",
      "True\n"
     ]
    }
   ],
   "source": [
    "test_ComplexNumber(4,-6)"
   ]
  },
  {
   "cell_type": "markdown",
   "metadata": {},
   "source": [
    "###  Problem Set 1-- Exceptions and File I/O"
   ]
  },
  {
   "cell_type": "markdown",
   "metadata": {},
   "source": [
    "#### Problem 1"
   ]
  },
  {
   "cell_type": "code",
   "execution_count": 62,
   "metadata": {
    "collapsed": true
   },
   "outputs": [],
   "source": [
    "def arithmagic():\n",
    "    step_1 = input(\"Enter a 3-digit number where the first and last \"\n",
    "                                           \"digits differ by 2 or more: \")\n",
    "    if len(step_1) != 3:\n",
    "        raise ValueError(\"The first number is not a 3-digit number.\")\n",
    "    if abs(int(step_1[2])-int(step_1[0])) < 2:\n",
    "        raise ValueError(\"The first number’s first and last digits differ by less than 2.\")\n",
    "    step_2 = input(\"Enter the reverse of the first number, obtained \"\n",
    "                                              \"by reading it backwards: \")\n",
    "    if int(step_2[2]) != int(step_1[0]) or int(step_2[0]) != int(step_1[2]) or int(step_2[1]) != int(step_1[1]):\n",
    "        raise ValueError(\"The second number is not the reverse of the first number.\")\n",
    "    step_3 = input(\"Enter the positive difference of these numbers: \")\n",
    "    if int(step_3) != abs(int(step_1)-int(step_2)):\n",
    "        raise ValueError(\"The third number is not the positive difference of the first two numbers.\")\n",
    "    step_4 = input(\"Enter the reverse of the previous result: \")\n",
    "    if int(step_4[2]) != int(step_3[0]) or int(step_4[0]) != int(step_3[2]) or int(step_4[1]) != int(step_3[1]):\n",
    "        raise ValueError(\"The fourth number is not the reverse of the third number.\")\n",
    "    print(str(step_3), \"+\", str(step_4), \"= 1089 (ta-da!)\")"
   ]
  },
  {
   "cell_type": "code",
   "execution_count": 63,
   "metadata": {},
   "outputs": [
    {
     "name": "stdout",
     "output_type": "stream",
     "text": [
      "Enter a 3-digit number where the first and last digits differ by 2 or more: 124\n",
      "Enter the reverse of the first number, obtained by reading it backwards: 421\n",
      "Enter the positive difference of these numbers: 297\n",
      "Enter the reverse of the previous result: 792\n",
      "297 + 792 = 1089 (ta-da!)\n"
     ]
    }
   ],
   "source": [
    "arithmagic()"
   ]
  },
  {
   "cell_type": "markdown",
   "metadata": {},
   "source": [
    "#### Problem 2"
   ]
  },
  {
   "cell_type": "code",
   "execution_count": 16,
   "metadata": {},
   "outputs": [],
   "source": [
    "from random import choice\n",
    "\n",
    "def random_walk(max_iters=1e12):\n",
    "    walk = 0\n",
    "    directions = [1, -1]\n",
    "    try:\n",
    "        for i in range(int(max_iters)):\n",
    "            walk += choice(directions)\n",
    "    except KeyboardInterrupt:\n",
    "        print(\"Process interrupted at iteration {}\".format(i))\n",
    "    else:\n",
    "        print(\"Process completed\")\n",
    "    finally:\n",
    "        return(walk)"
   ]
  },
  {
   "cell_type": "code",
   "execution_count": 17,
   "metadata": {},
   "outputs": [
    {
     "name": "stdout",
     "output_type": "stream",
     "text": [
      "Process interrupted at iteration 2817140\n",
      "-630\n"
     ]
    }
   ],
   "source": [
    "print(random_walk())"
   ]
  },
  {
   "cell_type": "markdown",
   "metadata": {
    "collapsed": true
   },
   "source": [
    "#### Problem 3"
   ]
  },
  {
   "cell_type": "code",
   "execution_count": 162,
   "metadata": {},
   "outputs": [],
   "source": [
    "class ContentFilter(object):\n",
    "    def __init__(self, filename):\n",
    "        self.filename = filename\n",
    "        try:\n",
    "            with open(self.filename,\"r\") as myfile:\n",
    "                self.contents = myfile.read().split('\\n')\n",
    "        except FileNotFoundError:\n",
    "            filename = input(\"Please enter a valid file name:\")\n",
    "            ContentFilter(filename)\n",
    "        except TypeError:\n",
    "            filename = input(\"Please enter a valid file name:\")\n",
    "            ContentFilter(filename)\n",
    "        except OSError:\n",
    "            filename = str(input(\"Please enter a valid file name:\"))\n",
    "            ContentFilter(filename)"
   ]
  },
  {
   "cell_type": "code",
   "execution_count": 166,
   "metadata": {},
   "outputs": [
    {
     "name": "stdout",
     "output_type": "stream",
     "text": [
      "Please enter a valid file name:cf_example1.txt\n"
     ]
    }
   ],
   "source": [
    "cf1 = ContentFilter(\"cf_example.txt\")"
   ]
  },
  {
   "cell_type": "markdown",
   "metadata": {},
   "source": [
    "#### Problem 4"
   ]
  },
  {
   "cell_type": "code",
   "execution_count": 90,
   "metadata": {},
   "outputs": [],
   "source": [
    "class ContentFilter(object):\n",
    "    def __init__(self, filename):\n",
    "        self.filename = filename\n",
    "        try:\n",
    "            with open(self.filename,\"r\") as myfile:\n",
    "                self.contents = myfile.read().split('\\n')\n",
    "        except FileNotFoundError:\n",
    "            filename = input(\"Please enter a valid file name:\")\n",
    "            ContentFilter(filename)\n",
    "        except TypeError:\n",
    "            self.filename = input(\"Please enter a valid file name:\")\n",
    "            ContentFilter(filename)\n",
    "        except OSError:\n",
    "            self.filename = input(\"Please enter a valid file name:\")\n",
    "            ContentFilter(filename)\n",
    "        self.total = 0\n",
    "        self.alpha = 0\n",
    "        self.digit = 0\n",
    "        self.whitespace = 0\n",
    "        self.line = len(self.contents)\n",
    "        for i in range(self.line):\n",
    "            for j in range(len(self.contents[i])):\n",
    "                self.total += 1\n",
    "                if self.contents[i][j].isspace():\n",
    "                    self.whitespace += 1\n",
    "                if self.contents[i][j].isdigit():\n",
    "                    self.digit += 1\n",
    "                if self.contents[i][j].isalpha():\n",
    "                    self.alpha += 1\n",
    "            \n",
    "            \n",
    "    def uniform(self, new_filename, mode='w', case=\"upper\"):\n",
    "        if mode not in ['w','x','a']:\n",
    "            raise ValueError(\"Mode is not 'w', 'x', or 'a'\")\n",
    "        if case not in ['upper','lower']:\n",
    "            raise ValueError(\"Case is not 'upper' or 'lower'\")\n",
    "        with open(new_filename, mode) as newfile:\n",
    "            for i in range(len(self.contents)):\n",
    "                if case == \"upper\":\n",
    "                    newfile.write(self.contents[i].upper() + \"\\n\")\n",
    "                elif case == \"lower\":\n",
    "                    newfile.write(self.contents[i].lower() + \"\\n\")\n",
    "                    \n",
    "    def reverse(self, new_filename, mode='w', unit =\"line\"):\n",
    "        if mode not in ['w','x','a']:\n",
    "            raise ValueError(\"Mode is not 'w', 'x', or 'a'\")\n",
    "        if unit not in ['line','word']:\n",
    "            raise ValueError(\"Case is not 'line' or 'unit'\")\n",
    "        with open(new_filename, mode) as newfile:\n",
    "                if unit == \"word\":\n",
    "                    for i in range(len(self.contents)):\n",
    "                        newfile.write(self.contents[i][::-1] + \"\\n\")\n",
    "                elif unit == \"line\":\n",
    "                    for i in range(len(self.contents)):\n",
    "                        newfile.write(self.contents[::-1][i] + \"\\n\")\n",
    "                        \n",
    "    def transpose(self, new_filename, mode='w'):\n",
    "        if mode not in ['w','x','a']:\n",
    "            raise ValueError(\"Mode is not 'w', 'x', or 'a'\")\n",
    "        with open(new_filename, mode) as newfile:\n",
    "            for i in range(len(self.contents[0].split())):\n",
    "                new_line = []\n",
    "                for j in range(len(self.contents)):\n",
    "                    content = self.contents[j].split()\n",
    "                    new_line.append(content[i])\n",
    "                newfile.write(\" \".join(new_line) + \"\\n\")\n",
    "    def __str__(self):\n",
    "        return \"Source file: {}\".format(self.filename) + \"\\n\" + \"Total characters: {}\".format(self.total) + \"\\n\" + \"Alphabetic characters: {}\".format(self.alpha) \\\n",
    "                + \"\\n\" + \"Numerical characters: {}\".format(self.digit) + \"\\n\" + \"Whitespace characters: {}\".format(self.whitespace) + \"\\n\" + \"Number of lines: {}\".format(self.line)"
   ]
  },
  {
   "cell_type": "code",
   "execution_count": 91,
   "metadata": {},
   "outputs": [],
   "source": [
    "cf = ContentFilter(\"cf_example1.txt\")"
   ]
  },
  {
   "cell_type": "code",
   "execution_count": 83,
   "metadata": {},
   "outputs": [],
   "source": [
    "cf.uniform(\"uniform.txt\", mode='w', case=\"upper\")"
   ]
  },
  {
   "cell_type": "code",
   "execution_count": 84,
   "metadata": {},
   "outputs": [],
   "source": [
    "cf.uniform(\"uniform.txt\", mode='a', case=\"lower\")"
   ]
  },
  {
   "cell_type": "code",
   "execution_count": 85,
   "metadata": {},
   "outputs": [],
   "source": [
    "cf.reverse(\"reverse.txt\", mode='w', unit=\"word\")"
   ]
  },
  {
   "cell_type": "code",
   "execution_count": 86,
   "metadata": {
    "collapsed": true
   },
   "outputs": [],
   "source": [
    "cf.reverse(\"reverse.txt\", mode='a', unit=\"line\")"
   ]
  },
  {
   "cell_type": "code",
   "execution_count": 92,
   "metadata": {},
   "outputs": [],
   "source": [
    "cf.transpose(\"transpose.txt\", mode='w')"
   ]
  },
  {
   "cell_type": "code",
   "execution_count": 94,
   "metadata": {},
   "outputs": [
    {
     "name": "stdout",
     "output_type": "stream",
     "text": [
      "Source file: cf_example1.txt\n",
      "Total characters: 10\n",
      "Alphabetic characters: 6\n",
      "Numerical characters: 0\n",
      "Whitespace characters: 4\n",
      "Number of lines: 2\n"
     ]
    }
   ],
   "source": [
    "print(cf)"
   ]
  },
  {
   "cell_type": "code",
   "execution_count": null,
   "metadata": {
    "collapsed": true
   },
   "outputs": [],
   "source": []
  }
 ],
 "metadata": {
  "kernelspec": {
   "display_name": "Python 3",
   "language": "python",
   "name": "python3"
  },
  "language_info": {
   "codemirror_mode": {
    "name": "ipython",
    "version": 3
   },
   "file_extension": ".py",
   "mimetype": "text/x-python",
   "name": "python",
   "nbconvert_exporter": "python",
   "pygments_lexer": "ipython3",
   "version": "3.6.3"
  }
 },
 "nbformat": 4,
 "nbformat_minor": 2
}
