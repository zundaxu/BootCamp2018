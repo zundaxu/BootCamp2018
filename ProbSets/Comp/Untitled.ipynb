{
 "cells": [
  {
   "cell_type": "markdown",
   "metadata": {},
   "source": [
    "### Problem Set 1-- Numpy Part"
   ]
  },
  {
   "cell_type": "markdown",
   "metadata": {},
   "source": [
    "#### Name: Zunda Xu (zunda@uchicago.edu)"
   ]
  },
  {
   "cell_type": "markdown",
   "metadata": {},
   "source": [
    "#### Problem 1"
   ]
  },
  {
   "cell_type": "code",
   "execution_count": 2,
   "metadata": {
    "collapsed": true
   },
   "outputs": [],
   "source": [
    "# Import the library \n",
    "import numpy as np"
   ]
  },
  {
   "cell_type": "code",
   "execution_count": 8,
   "metadata": {
    "collapsed": true
   },
   "outputs": [],
   "source": [
    "def array_multiple():\n",
    "    A = np.array( [ [3, 1, -4],[1, 5, -9] ] )\n",
    "    B = np.array( [ [2, 6, -5, 3],[5, -8, 9, 7], [9, -3, -2, -3] ] )\n",
    "    inner_product = np.dot(A, B)\n",
    "    return inner_product"
   ]
  },
  {
   "cell_type": "code",
   "execution_count": 9,
   "metadata": {
    "collapsed": true
   },
   "outputs": [],
   "source": [
    "inner_product = array_multiple()"
   ]
  },
  {
   "cell_type": "code",
   "execution_count": 11,
   "metadata": {
    "scrolled": true
   },
   "outputs": [
    {
     "name": "stdout",
     "output_type": "stream",
     "text": [
      "The matrix product AB is: [[-25  22   2  28]\n",
      " [-54  -7  58  65]]\n"
     ]
    }
   ],
   "source": [
    "print(\"The matrix product AB is:\", inner_product)"
   ]
  },
  {
   "cell_type": "markdown",
   "metadata": {},
   "source": [
    "#### Problem 2"
   ]
  },
  {
   "cell_type": "code",
   "execution_count": 12,
   "metadata": {
    "collapsed": true
   },
   "outputs": [],
   "source": [
    "def matrix_function():\n",
    "    A = np.array( [ [3, 1, 4],[1, 5, 9], [-5, 3, 1] ] )\n",
    "    F = -(A @ A @ A) + 9 * (A @ A) - 15 * A\n",
    "    return F"
   ]
  },
  {
   "cell_type": "code",
   "execution_count": 14,
   "metadata": {},
   "outputs": [
    {
     "name": "stdout",
     "output_type": "stream",
     "text": [
      "The answer to problem set 2 is: [[0 0 0]\n",
      " [0 0 0]\n",
      " [0 0 0]]\n"
     ]
    }
   ],
   "source": [
    "F = matrix_function()\n",
    "print(\"The answer to problem  2 is:\", F)"
   ]
  },
  {
   "cell_type": "markdown",
   "metadata": {},
   "source": [
    "#### Problem 3"
   ]
  },
  {
   "cell_type": "code",
   "execution_count": 12,
   "metadata": {},
   "outputs": [],
   "source": [
    "def matrix_product():\n",
    "    A = np.triu(np.ones((7,7), dtype=np.int))\n",
    "    B = np.full_like(A, -1)\n",
    "    index = np.triu_indices(7,1)\n",
    "    B[index] = 5\n",
    "    product = A @ B @ A\n",
    "    return product.astype(np.int64)"
   ]
  },
  {
   "cell_type": "code",
   "execution_count": 13,
   "metadata": {},
   "outputs": [
    {
     "name": "stdout",
     "output_type": "stream",
     "text": [
      "The answer of problem 3 is: [[ -7  -8  -3   8  25  48  77]\n",
      " [ -6 -12 -12  -6   6  24  48]\n",
      " [ -5 -10 -15 -14  -7   6  25]\n",
      " [ -4  -8 -12 -16 -14  -6   8]\n",
      " [ -3  -6  -9 -12 -15 -12  -3]\n",
      " [ -2  -4  -6  -8 -10 -12  -8]\n",
      " [ -1  -2  -3  -4  -5  -6  -7]]\n"
     ]
    }
   ],
   "source": [
    "ABA = matrix_product()\n",
    "print(\"The answer of problem 3 is:\", ABA)"
   ]
  },
  {
   "cell_type": "markdown",
   "metadata": {},
   "source": [
    "#### Problem 4"
   ]
  },
  {
   "cell_type": "code",
   "execution_count": 14,
   "metadata": {
    "collapsed": true
   },
   "outputs": [],
   "source": [
    "def fancy_index(A):\n",
    "    array_1 = A.copy()\n",
    "    mask = array_1 < 0 \n",
    "    array_1[mask] = 0\n",
    "    return array_1"
   ]
  },
  {
   "cell_type": "code",
   "execution_count": 15,
   "metadata": {},
   "outputs": [
    {
     "name": "stdout",
     "output_type": "stream",
     "text": [
      "[1 0 0 0 0 0 4 0]\n"
     ]
    }
   ],
   "source": [
    "A = np.array([1,0,0,-1,-2,0,4,-3])\n",
    "array_1 = fancy_index(A)\n",
    "print(array_1)"
   ]
  },
  {
   "cell_type": "markdown",
   "metadata": {},
   "source": [
    "#### Problem 5"
   ]
  },
  {
   "cell_type": "code",
   "execution_count": 29,
   "metadata": {},
   "outputs": [],
   "source": [
    "def stack():\n",
    "    A = np.arange(6).reshape((2,3))\n",
    "    B = np.tril(np.ones((3,3))) *3\n",
    "    C = np.eye(3)*3\n",
    "    z1 = np.zeros((3,3))\n",
    "    z2 = np.zeros((5,2))\n",
    "    z3 = np.zeros((2,3))\n",
    "    I = np.eye(3)\n",
    "    col1 = np.vstack((z1,A,B))\n",
    "    col2 = np.vstack((A.T,z2))\n",
    "    col3 = np.vstack((I,z3,C))\n",
    "    matrix = np.hstack((col1,col2,col3))\n",
    "    return matrix"
   ]
  },
  {
   "cell_type": "code",
   "execution_count": 30,
   "metadata": {},
   "outputs": [
    {
     "name": "stdout",
     "output_type": "stream",
     "text": [
      "The answer of problem 5 is: [[ 0.  0.  0.  0.  3.  1.  0.  0.]\n",
      " [ 0.  0.  0.  1.  4.  0.  1.  0.]\n",
      " [ 0.  0.  0.  2.  5.  0.  0.  1.]\n",
      " [ 0.  1.  2.  0.  0.  0.  0.  0.]\n",
      " [ 3.  4.  5.  0.  0.  0.  0.  0.]\n",
      " [ 3.  0.  0.  0.  0.  3.  0.  0.]\n",
      " [ 3.  3.  0.  0.  0.  0.  3.  0.]\n",
      " [ 3.  3.  3.  0.  0.  0.  0.  3.]]\n"
     ]
    }
   ],
   "source": [
    "matrix = stack()\n",
    "print(\"The answer of problem 5 is:\", matrix)"
   ]
  },
  {
   "cell_type": "markdown",
   "metadata": {},
   "source": [
    "#### Problem 6"
   ]
  },
  {
   "cell_type": "code",
   "execution_count": 31,
   "metadata": {
    "collapsed": true
   },
   "outputs": [],
   "source": [
    "def row_stochastics(A):\n",
    "    row_sum = A.sum(axis = 1)\n",
    "    new_matrix = A/ row_sum[:, np.newaxis]\n",
    "    return new_matrix"
   ]
  },
  {
   "cell_type": "code",
   "execution_count": 40,
   "metadata": {},
   "outputs": [
    {
     "name": "stdout",
     "output_type": "stream",
     "text": [
      "The answer of problem 6 is: [[ 0.25        0.75      ]\n",
      " [ 0.28571429  0.71428571]]\n"
     ]
    }
   ],
   "source": [
    "new_matrix = row_stochastics(np.array([[1,3],[2,5]]))\n",
    "print(\"The answer of problem 6 is:\", new_matrix)"
   ]
  },
  {
   "cell_type": "markdown",
   "metadata": {},
   "source": [
    "#### Problem 7"
   ]
  },
  {
   "cell_type": "code",
   "execution_count": 49,
   "metadata": {
    "collapsed": true
   },
   "outputs": [],
   "source": [
    "grid = np.load(\"grid.npy\")"
   ]
  },
  {
   "cell_type": "code",
   "execution_count": 54,
   "metadata": {
    "collapsed": true
   },
   "outputs": [],
   "source": [
    "def four_max():\n",
    "    h_max = np.max(grid[:,:-3] * grid[:,1:-2] * grid[:,2:-1] * grid[:,3:])\n",
    "    v_max = np.max(grid[:-3, :]* grid[1:-2, :] * grid[2:-1, :] * grid[3:, :])\n",
    "    r_max = np.max(grid[:-3, :-3]* grid[1:-2, 1:-2] * grid[2:-1, 2:-1] * grid[3:, 3:])\n",
    "    l_max = np.max(grid[:-3, 3:]* grid[1:-2, 2:-1] * grid[2:-1, 1:-2] * grid[3:, :-3])\n",
    "    return max(h_max, v_max, r_max, l_max)"
   ]
  },
  {
   "cell_type": "code",
   "execution_count": 55,
   "metadata": {},
   "outputs": [
    {
     "name": "stdout",
     "output_type": "stream",
     "text": [
      "The answer of problem 7 is: 70600674\n"
     ]
    }
   ],
   "source": [
    "max_product = four_max()\n",
    "print(\"The answer of problem 7 is:\", max_product)"
   ]
  },
  {
   "cell_type": "markdown",
   "metadata": {},
   "source": [
    "###  Problem Set 1-- Standard Library Part"
   ]
  },
  {
   "cell_type": "markdown",
   "metadata": {},
   "source": [
    "###  Problem Set 1-- Unit Testing"
   ]
  },
  {
   "cell_type": "markdown",
   "metadata": {},
   "source": [
    "###  Problem Set 1-- Object Oriented Programming"
   ]
  },
  {
   "cell_type": "markdown",
   "metadata": {},
   "source": [
    "###  Problem Set 1-- Exceptions and File I/O"
   ]
  },
  {
   "cell_type": "markdown",
   "metadata": {},
   "source": [
    "#### Problem 1"
   ]
  },
  {
   "cell_type": "code",
   "execution_count": 62,
   "metadata": {
    "collapsed": true
   },
   "outputs": [],
   "source": [
    "def arithmagic():\n",
    "    step_1 = input(\"Enter a 3-digit number where the first and last \"\n",
    "                                           \"digits differ by 2 or more: \")\n",
    "    if len(step_1) != 3:\n",
    "        raise ValueError(\"The first number is not a 3-digit number.\")\n",
    "    if abs(int(step_1[2])-int(step_1[0])) < 2:\n",
    "        raise ValueError(\"The first number’s first and last digits differ by less than 2.\")\n",
    "    step_2 = input(\"Enter the reverse of the first number, obtained \"\n",
    "                                              \"by reading it backwards: \")\n",
    "    if int(step_2[2]) != int(step_1[0]) or int(step_2[0]) != int(step_1[2]) or int(step_2[1]) != int(step_1[1]):\n",
    "        raise ValueError(\"The second number is not the reverse of the first number.\")\n",
    "    step_3 = input(\"Enter the positive difference of these numbers: \")\n",
    "    if int(step_3) != abs(int(step_1)-int(step_2)):\n",
    "        raise ValueError(\"The third number is not the positive difference of the first two numbers.\")\n",
    "    step_4 = input(\"Enter the reverse of the previous result: \")\n",
    "    if int(step_4[2]) != int(step_3[0]) or int(step_4[0]) != int(step_3[2]) or int(step_4[1]) != int(step_3[1]):\n",
    "        raise ValueError(\"The fourth number is not the reverse of the third number.\")\n",
    "    print(str(step_3), \"+\", str(step_4), \"= 1089 (ta-da!)\")"
   ]
  },
  {
   "cell_type": "code",
   "execution_count": 63,
   "metadata": {},
   "outputs": [
    {
     "name": "stdout",
     "output_type": "stream",
     "text": [
      "Enter a 3-digit number where the first and last digits differ by 2 or more: 124\n",
      "Enter the reverse of the first number, obtained by reading it backwards: 421\n",
      "Enter the positive difference of these numbers: 297\n",
      "Enter the reverse of the previous result: 792\n",
      "297 + 792 = 1089 (ta-da!)\n"
     ]
    }
   ],
   "source": [
    "arithmagic()"
   ]
  },
  {
   "cell_type": "code",
   "execution_count": null,
   "metadata": {
    "collapsed": true
   },
   "outputs": [],
   "source": []
  },
  {
   "cell_type": "code",
   "execution_count": null,
   "metadata": {
    "collapsed": true
   },
   "outputs": [],
   "source": []
  }
 ],
 "metadata": {
  "kernelspec": {
   "display_name": "Python 3",
   "language": "python",
   "name": "python3"
  },
  "language_info": {
   "codemirror_mode": {
    "name": "ipython",
    "version": 3
   },
   "file_extension": ".py",
   "mimetype": "text/x-python",
   "name": "python",
   "nbconvert_exporter": "python",
   "pygments_lexer": "ipython3",
   "version": "3.6.3"
  }
 },
 "nbformat": 4,
 "nbformat_minor": 2
}
