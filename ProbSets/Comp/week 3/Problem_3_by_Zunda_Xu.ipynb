{
 "cells": [
  {
   "cell_type": "markdown",
   "metadata": {},
   "source": [
    "### Problem Set 3"
   ]
  },
  {
   "cell_type": "markdown",
   "metadata": {},
   "source": [
    "#### Name: Zunda Xu ( zunda@uchicago.edu)"
   ]
  },
  {
   "cell_type": "markdown",
   "metadata": {},
   "source": [
    "### Part 1 QR decomposition"
   ]
  },
  {
   "cell_type": "markdown",
   "metadata": {},
   "source": [
    "#### Problem 1"
   ]
  },
  {
   "cell_type": "code",
   "execution_count": 2,
   "metadata": {
    "collapsed": true
   },
   "outputs": [],
   "source": [
    "import numpy as np\n",
    "from scipy import linalg as la\n",
    "import cmath"
   ]
  },
  {
   "cell_type": "code",
   "execution_count": 3,
   "metadata": {
    "collapsed": true
   },
   "outputs": [],
   "source": [
    "def QR_decomposition(A):\n",
    "    m,n = A.shape\n",
    "    Q=np.copy(A)\n",
    "    R=np.zeros((n,n))\n",
    "    \n",
    "    for i in range (n):\n",
    "        R[i,i]=la.norm(Q[:,i])\n",
    "        Q[:,i]=Q[:,i]/R[i,i]\n",
    "        for j in range (i+1,n):\n",
    "            R[i,j]=np.dot(np.transpose(Q[:,j]),Q[:,i])\n",
    "            Q[:,j]=Q[:,j]-R[i,j]*Q[:,i]\n",
    "    \n",
    "    return Q,R"
   ]
  },
  {
   "cell_type": "code",
   "execution_count": 4,
   "metadata": {},
   "outputs": [
    {
     "name": "stdout",
     "output_type": "stream",
     "text": [
      "(6, 4) (6, 4) (4, 4)\n"
     ]
    }
   ],
   "source": [
    "A=np.random.random((6,4))\n",
    "Q,R= QR_decomposition(A)\n",
    "print(A.shape,Q.shape,R.shape)"
   ]
  },
  {
   "cell_type": "code",
   "execution_count": 5,
   "metadata": {},
   "outputs": [
    {
     "name": "stdout",
     "output_type": "stream",
     "text": [
      "(6, 4) (6, 4) (4, 4)\n"
     ]
    }
   ],
   "source": [
    "Q1,R1=la.qr(A,mode=\"economic\")\n",
    "print(A.shape,Q1.shape,R1.shape)"
   ]
  },
  {
   "cell_type": "code",
   "execution_count": 7,
   "metadata": {},
   "outputs": [
    {
     "data": {
      "text/plain": [
       "True"
      ]
     },
     "execution_count": 7,
     "metadata": {},
     "output_type": "execute_result"
    }
   ],
   "source": [
    "np.allclose(np.triu(R),R)"
   ]
  },
  {
   "cell_type": "code",
   "execution_count": 8,
   "metadata": {},
   "outputs": [
    {
     "data": {
      "text/plain": [
       "True"
      ]
     },
     "execution_count": 8,
     "metadata": {},
     "output_type": "execute_result"
    }
   ],
   "source": [
    "np.allclose(Q.T@Q, np.identity(4))"
   ]
  },
  {
   "cell_type": "code",
   "execution_count": 9,
   "metadata": {},
   "outputs": [
    {
     "data": {
      "text/plain": [
       "True"
      ]
     },
     "execution_count": 9,
     "metadata": {},
     "output_type": "execute_result"
    }
   ],
   "source": [
    "np.allclose(Q@R,A)"
   ]
  },
  {
   "cell_type": "markdown",
   "metadata": {},
   "source": [
    "#### Problem 2"
   ]
  },
  {
   "cell_type": "code",
   "execution_count": 12,
   "metadata": {
    "collapsed": true
   },
   "outputs": [],
   "source": [
    "def getDet(A):\n",
    "    m,n = A.shape\n",
    "    if m!=n:\n",
    "        print(\"A is not a square.\")\n",
    "        return\n",
    "    \n",
    "    Q1, R1 = QR_decomposition(A)\n",
    "    det = 1\n",
    "    for i in range(n):\n",
    "        det *= R1[i,i]\n",
    "    return det"
   ]
  },
  {
   "cell_type": "code",
   "execution_count": 13,
   "metadata": {},
   "outputs": [
    {
     "name": "stdout",
     "output_type": "stream",
     "text": [
      "The difference is:  -0.00496537822398\n"
     ]
    }
   ],
   "source": [
    "B = np.random.random((5,5))\n",
    "true_det = la.det(B)\n",
    "my_det = getDet(B)\n",
    "print(\"The difference is: \", true_det - my_det)"
   ]
  },
  {
   "cell_type": "markdown",
   "metadata": {},
   "source": [
    "#### Problem 3"
   ]
  },
  {
   "cell_type": "code",
   "execution_count": 14,
   "metadata": {
    "collapsed": true
   },
   "outputs": [],
   "source": [
    "def solveLinearSystem(A, b):\n",
    "    if abs(la.det(A))<1e-6:\n",
    "        print(\"A is not invertible\")\n",
    "        return\n",
    "    Q1, R1 = QR_decomposition(A)\n",
    "    y = np.dot(np.transpose(Q1), b)\n",
    "    m, n = A.shape\n",
    "    x = np.empty(n)\n",
    "    for i in range(n-1, -1, -1):\n",
    "        x[i] = y[i] / R1[i,i]\n",
    "        for j in range(n):\n",
    "            y[j] = y[j] - R1[j,i]*x[i]\n",
    "        \n",
    "    return x"
   ]
  },
  {
   "cell_type": "code",
   "execution_count": 15,
   "metadata": {},
   "outputs": [
    {
     "name": "stdout",
     "output_type": "stream",
     "text": [
      "[ 1.  3.  5.  7.  9.]\n"
     ]
    }
   ],
   "source": [
    "A2 = np.random.random((5,5))\n",
    "#add diagonals to make it invertible\n",
    "A2 = A2 + 100*np.eye(5)\n",
    "b2 = np.array([1,3,5,7,9])\n",
    "print(np.dot(A2, solveLinearSystem(A2, b2)))"
   ]
  },
  {
   "cell_type": "markdown",
   "metadata": {},
   "source": [
    "#### Problem 4"
   ]
  },
  {
   "cell_type": "code",
   "execution_count": 16,
   "metadata": {
    "collapsed": true
   },
   "outputs": [],
   "source": [
    "def householder(A):\n",
    "    #A should be a matrix of m*n and has rank n\n",
    "    sign = lambda x : 1 if x>= 0 else -1\n",
    "    \n",
    "    m, n = A.shape\n",
    "    R = np.copy(A)\n",
    "    Q = np.eye(m)\n",
    "    for k in range(n):\n",
    "        u = np.copy(R[k:, k])\n",
    "        u[0] = u[0] + sign(u[0])*la.norm(u)\n",
    "        u = u / la.norm(u)\n",
    "        R[k:, k:] = R[k:, k:] - 2 * np.outer(u, np.matmul(np.transpose(u), R[k:, k:]))\n",
    "        Q[k:, :] = Q[k:, :] - 2 * np.outer(u, np.matmul(np.transpose(u), Q[k:, :]))\n",
    "    return np.transpose(Q), R"
   ]
  },
  {
   "cell_type": "code",
   "execution_count": 17,
   "metadata": {},
   "outputs": [
    {
     "name": "stdout",
     "output_type": "stream",
     "text": [
      "(5, 3) (5, 5) (5, 3)\n"
     ]
    }
   ],
   "source": [
    "A = np.random.random((5,3))\n",
    "Q, R = la.qr(A)\n",
    "print(A.shape, Q.shape, R.shape)"
   ]
  },
  {
   "cell_type": "code",
   "execution_count": 18,
   "metadata": {},
   "outputs": [
    {
     "data": {
      "text/plain": [
       "True"
      ]
     },
     "execution_count": 18,
     "metadata": {},
     "output_type": "execute_result"
    }
   ],
   "source": [
    "my_Q, my_R = householder(A)\n",
    "np.allclose(my_Q @ my_R, A)"
   ]
  },
  {
   "cell_type": "code",
   "execution_count": 19,
   "metadata": {},
   "outputs": [
    {
     "data": {
      "text/plain": [
       "True"
      ]
     },
     "execution_count": 19,
     "metadata": {},
     "output_type": "execute_result"
    }
   ],
   "source": [
    "np.allclose(my_Q, Q)"
   ]
  },
  {
   "cell_type": "code",
   "execution_count": 20,
   "metadata": {},
   "outputs": [
    {
     "data": {
      "text/plain": [
       "True"
      ]
     },
     "execution_count": 20,
     "metadata": {},
     "output_type": "execute_result"
    }
   ],
   "source": [
    "np.allclose(my_R, R)"
   ]
  },
  {
   "cell_type": "markdown",
   "metadata": {},
   "source": [
    "#### Problem 5"
   ]
  },
  {
   "cell_type": "code",
   "execution_count": 22,
   "metadata": {
    "collapsed": true
   },
   "outputs": [],
   "source": [
    "def hessenberg(A):\n",
    "    sign = lambda x : 1 if x>= 0 else -1\n",
    "    \n",
    "    #A is an invertible n*n matrix\n",
    "    m, n = A.shape\n",
    "    H = np.copy(A)\n",
    "    Q = np.eye(m)\n",
    "    for k in range(n-2):\n",
    "        u = np.copy(H[k+1:, k])\n",
    "        u[0] += sign(u[0]) * la.norm(u)\n",
    "        u = u / la.norm(u)\n",
    "        \n",
    "        H[k+1: ,k:] -= 2 * np.outer(u, np.matmul(u, H[k+1:, k:]))\n",
    "        H[:, k+1:] = H[:, k+1:] - 2 * np.outer(np.dot(H[:, k+1:], u), u.T)\n",
    "        Q[k+1:, :] -= 2 * np.outer(u, np.matmul(np.transpose(u),Q[k+1:, :]))\n",
    "\n",
    "    return H, np.transpose(Q)\n",
    "\n",
    "A5 = np.random.random((8,8))\n",
    "#add diagonals to make it invertible\n",
    "A5 += 5*np.eye(8)\n",
    "H, Q = la.hessenberg(A5, calc_q = True)\n",
    "my_H, my_Q = hessenberg(A5)"
   ]
  },
  {
   "cell_type": "code",
   "execution_count": 23,
   "metadata": {},
   "outputs": [
    {
     "data": {
      "text/plain": [
       "True"
      ]
     },
     "execution_count": 23,
     "metadata": {},
     "output_type": "execute_result"
    }
   ],
   "source": [
    "np.allclose(my_H, H)"
   ]
  },
  {
   "cell_type": "code",
   "execution_count": 24,
   "metadata": {},
   "outputs": [
    {
     "data": {
      "text/plain": [
       "True"
      ]
     },
     "execution_count": 24,
     "metadata": {},
     "output_type": "execute_result"
    }
   ],
   "source": [
    "np.allclose(my_Q, Q)"
   ]
  },
  {
   "cell_type": "markdown",
   "metadata": {},
   "source": [
    "### Part 2: Least Squares and Computing Eigenvalues"
   ]
  },
  {
   "cell_type": "markdown",
   "metadata": {},
   "source": [
    "#### Problem 1 "
   ]
  },
  {
   "cell_type": "code",
   "execution_count": 25,
   "metadata": {
    "collapsed": true
   },
   "outputs": [],
   "source": [
    "def lsbyQR(A, b):\n",
    "    #A is a m*n matrix, b is n*1 vector\n",
    "    Q, R = la.qr(A, mode = \"economic\")\n",
    "    #the linear system then becomes R \\hat{x} = Q.T b\n",
    "    #print(R)\n",
    "    \n",
    "    y = np.dot(np.transpose(Q), b)\n",
    "    m, n = A.shape\n",
    "    x_hat = np.empty(n)\n",
    "    for i in range(n-1, -1, -1):\n",
    "        x_hat[i] = y[i] / R[i,i]\n",
    "        #update y\n",
    "        for j in range(n):\n",
    "            y[j] = y[j] - R[j,i]*x_hat[i]\n",
    "        \n",
    "    return x_hat"
   ]
  },
  {
   "cell_type": "code",
   "execution_count": 27,
   "metadata": {},
   "outputs": [
    {
     "data": {
      "text/plain": [
       "array([-1. , -0.5])"
      ]
     },
     "execution_count": 27,
     "metadata": {},
     "output_type": "execute_result"
    }
   ],
   "source": [
    "A = np.array([[-1,1], [0, 1], [1, -1], [-2, 1]])\n",
    "b = np.array([0 , -1 , -2, 1])\n",
    "lsbyQR(A, b)"
   ]
  },
  {
   "cell_type": "markdown",
   "metadata": {},
   "source": [
    "#### Problem 2"
   ]
  },
  {
   "cell_type": "code",
   "execution_count": 28,
   "metadata": {
    "collapsed": true
   },
   "outputs": [],
   "source": [
    "import matplotlib.pyplot as plt"
   ]
  },
  {
   "cell_type": "code",
   "execution_count": 30,
   "metadata": {
    "collapsed": true
   },
   "outputs": [],
   "source": [
    "def LSLine():\n",
    "    data = np.load(\"housing.npy\")\n",
    "    years = data[:, 0]\n",
    "    prices = data[:, 1]\n",
    "    \n",
    "    constants = np.ones(len(years))\n",
    "    A = np.column_stack((years, constants))\n",
    "    coeff = lsbyQR(A, prices)\n",
    "    print(\"Slope: \", coeff[0], \"Intercept: \", coeff[1])\n",
    "    plt.plot(years, prices, \"o\", markersize = 4)\n",
    "    plt.xlabel(\"Year\")\n",
    "    plt.ylabel(\"Price Index\")\n",
    "    plt.title(\"Linear Regression of Price Index with Year\")\n",
    "    plt.plot(np.arange(18), coeff[0]*np.arange(18)+coeff[1])\n",
    "    plt.show()"
   ]
  },
  {
   "cell_type": "code",
   "execution_count": 31,
   "metadata": {},
   "outputs": [
    {
     "name": "stdout",
     "output_type": "stream",
     "text": [
      "Slope:  3.37476604278 Intercept:  164.080962567\n"
     ]
    },
    {
     "data": {
      "image/png": "[encoded data removed]",
      "text/plain": [
       "<Figure size 432x288 with 1 Axes>"
      ]
     },
     "metadata": {},
     "output_type": "display_data"
    }
   ],
   "source": [
    "LSLine()"
   ]
  },
  {
   "cell_type": "markdown",
   "metadata": {},
   "source": [
    "#### Problem 3"
   ]
  },
  {
   "cell_type": "code",
   "execution_count": 37,
   "metadata": {},
   "outputs": [
    {
     "name": "stdout",
     "output_type": "stream",
     "text": [
      "Is the calculated result the same from np.polyfit?  True\n"
     ]
    },
    {
     "data": {
      "image/png": "[encoded data removed]",
      "text/plain": [
       "<Figure size 432x288 with 1 Axes>"
      ]
     },
     "metadata": {},
     "output_type": "display_data"
    }
   ],
   "source": [
    "def fit_polynomial(n, x_vec, b_vec):\n",
    "    # a degree n polynomial should have the form [a_n, a_{n-1}, ..., a_1, a_0].T * [x^n, ,,,, x, 1]\n",
    "    # create a vandermonde matrix \n",
    "    A = np.vander(x_vec, n+1)\n",
    "    coeff = la.lstsq(A, b_vec)[0]\n",
    "    \n",
    "    #regression polynomial\n",
    "    my_poly = np.poly1d(coeff)\n",
    "    \n",
    "    #plot true values\n",
    "    plt.plot(x_vec, b_vec, \"o\", markersize = 4)\n",
    "    plt.xlabel(\"Year\")\n",
    "    plt.ylabel(\"Price Index\")\n",
    "    plt.title(\"Fit polynomial of degree n\")\n",
    "    \n",
    "    #plot estimated values\n",
    "    x_start = x_vec.min()\n",
    "    x_end = x_vec.max()\n",
    "    my_label = \"degree \" +str(n)\n",
    "    plt.plot(np.linspace(x_start, x_end, 100), my_poly(np.linspace(x_start, x_end, 100)), label = my_label)\n",
    "    plt.legend()\n",
    "    \n",
    "    #check with polyfit\n",
    "    pf_coeff = np.polyfit(x_vec, b_vec, n)\n",
    "    print(\"Is the calculated result the same from np.polyfit? \", np.allclose(coeff, pf_coeff))\n",
    "    \n",
    "    plt.show()\n",
    "    \n",
    "\n",
    "data = np.load(\"housing.npy\")\n",
    "years = data[:, 0]\n",
    "prices = data[:, 1]\n",
    "#degree 3\n",
    "fit_polynomial(3, years, prices)"
   ]
  },
  {
   "cell_type": "code",
   "execution_count": 38,
   "metadata": {},
   "outputs": [
    {
     "name": "stdout",
     "output_type": "stream",
     "text": [
      "Is the calculated result the same from np.polyfit?  True\n"
     ]
    },
    {
     "data": {
      "image/png": "[encoded data removed]",
      "text/plain": [
       "<Figure size 432x288 with 1 Axes>"
      ]
     },
     "metadata": {},
     "output_type": "display_data"
    }
   ],
   "source": [
    "#degree 6\n",
    "fit_polynomial(6, years, prices)"
   ]
  },
  {
   "cell_type": "code",
   "execution_count": 39,
   "metadata": {},
   "outputs": [
    {
     "name": "stdout",
     "output_type": "stream",
     "text": [
      "Is the calculated result the same from np.polyfit?  True\n"
     ]
    },
    {
     "data": {
      "image/png": "[encoded data removed]",
      "text/plain": [
       "<Figure size 432x288 with 1 Axes>"
      ]
     },
     "metadata": {},
     "output_type": "display_data"
    }
   ],
   "source": [
    "#degree 9\n",
    "fit_polynomial(9, years, prices)"
   ]
  },
  {
   "cell_type": "code",
   "execution_count": 40,
   "metadata": {},
   "outputs": [
    {
     "name": "stdout",
     "output_type": "stream",
     "text": [
      "Is the calculated result the same from np.polyfit?  False\n"
     ]
    },
    {
     "data": {
      "image/png": "[encoded data removed]",
      "text/plain": [
       "<Figure size 432x288 with 1 Axes>"
      ]
     },
     "metadata": {},
     "output_type": "display_data"
    }
   ],
   "source": [
    "#degree 12\n",
    "fit_polynomial(12, years, prices)"
   ]
  },
  {
   "cell_type": "markdown",
   "metadata": {},
   "source": [
    "#### Problem 4"
   ]
  },
  {
   "cell_type": "code",
   "execution_count": 42,
   "metadata": {},
   "outputs": [
    {
     "data": {
      "image/png": "[encoded data removed]",
      "text/plain": [
       "<Figure size 432x288 with 1 Axes>"
      ]
     },
     "metadata": {},
     "output_type": "display_data"
    }
   ],
   "source": [
    "ellipse = np.load(\"ellipse.npy\")\n",
    "x_vec = ellipse[:, 0]\n",
    "y_vec = ellipse[:, 1]\n",
    "\n",
    "def plot_ellipse(x_vec, y_vec):\n",
    "   #create a linear systems\n",
    "    x2_vec = x_vec **2\n",
    "    y2_vec = y_vec **2\n",
    "    #RHS is a columns of ones\n",
    "    b_vec = np.ones_like(x_vec)\n",
    "    A = np.column_stack((x2_vec, y2_vec))\n",
    "    coeff = la.lstsq(A, b_vec)[0]\n",
    "    a = np.sqrt(1.0 / coeff[0])\n",
    "    b = np.sqrt(1.0 / coeff[1])\n",
    "    \n",
    "    #plot\n",
    "    plt.plot(x_vec, y_vec, \"o\", markersize = 4)\n",
    "    theta_grid = np.linspace(0, 2*np.pi, 360)\n",
    "    plt.plot(a*np.cos(theta_grid), b*(np.sin(theta_grid)))\n",
    "    plt.title(\"Plot an ellipse\")\n",
    "    plt.show()\n",
    "plot_ellipse(x_vec, y_vec)"
   ]
  },
  {
   "cell_type": "markdown",
   "metadata": {},
   "source": [
    "#### Problem 5"
   ]
  },
  {
   "cell_type": "code",
   "execution_count": 43,
   "metadata": {},
   "outputs": [
    {
     "name": "stdout",
     "output_type": "stream",
     "text": [
      "Does the eigvalue converge to true eigvalue?\n",
      "True\n",
      "Does the corresponding eigenvector satisfy Ax = lambda x?\n",
      "True\n"
     ]
    }
   ],
   "source": [
    "def powerMethod(A, maxitr, tol):\n",
    "    m, n = A.shape\n",
    "    x_0 = np.random.rand(n) + np.ones(n) # make it larger to avoid rounding error\n",
    "    x_0 = x_0 / la.norm(x_0)\n",
    "    currentitr = 0\n",
    "    diff = 10\n",
    "    \n",
    "    while (currentitr<maxitr) or (diff > tol):\n",
    "        x_prime = np.matmul(A, x_0)\n",
    "        x_prime = x_prime / la.norm(x_prime)\n",
    "        diff = la.norm(x_prime - x_0)\n",
    "        x_0 = x_prime\n",
    "        currentitr += 1\n",
    "    eigval = np.dot(x_0, np.matmul(A, x_0))\n",
    "    eigvec = x_0\n",
    "    return eigval, eigvec\n",
    "\n",
    "A = (np.random.random((10,10)) ) # make it larger to avoid rounding error\n",
    "eigs, vec = la.eig(A)\n",
    "loc = np.argmax(eigs)\n",
    "lamb , x = eigs[loc], vec[loc]\n",
    "my_lamb, my_x = powerMethod(A, 10000, 1e-16)\n",
    "print(\"Does the eigvalue converge to true eigvalue?\")\n",
    "print(np.allclose(lamb, my_lamb))\n",
    "print(\"Does the corresponding eigenvector satisfy Ax = lambda x?\")\n",
    "print(np.allclose(np.abs(my_lamb * my_x), np.abs(np.dot(A, my_x))))\n"
   ]
  },
  {
   "cell_type": "markdown",
   "metadata": {},
   "source": [
    "#### Problem 6 "
   ]
  },
  {
   "cell_type": "code",
   "execution_count": 44,
   "metadata": {},
   "outputs": [
    {
     "name": "stdout",
     "output_type": "stream",
     "text": [
      "Calculation:  [-0.87834467436491814, -0.11548222622004391, 0.8448893706989864, 0.97890960208205857, 5.0490382957509796]\n",
      "True values:  [-0.87834467+0.j -0.11548223+0.j  0.84488937+0.j  0.97890960+0.j\n",
      "  5.04903830+0.j]\n"
     ]
    }
   ],
   "source": [
    "def QRfindeig(A, N, tol):\n",
    "    m, n = A.shape    \n",
    "    S, temp = la.hessenberg(A, calc_q = True)   \n",
    "    for k in range(N):\n",
    "        Q, R = la.qr(S)\n",
    "        S = np.matmul(R, Q)\n",
    "    eigs = []\n",
    "    \n",
    "    i = 0\n",
    "    while i < n:\n",
    "        if (i == (n-1)) or (abs(S[i+1,i])<tol):\n",
    "            eigs.append(S[i,i])\n",
    "        else:\n",
    "            a = S[i,i]\n",
    "            b = S[i,i+1]\n",
    "            c = S[i+1, i]\n",
    "            d = S[i+1, i+1]\n",
    "            lamba_1 = 0.5 * (a + d + cmath.sqrt((a+d)^2 - 4*(a*d-b*c)))\n",
    "            lamba_2 = 0.5 * (a + d - cmath.sqrt((a+d)^2 - 4*(a*d-b*c)))\n",
    "            eigs.append(lambda_1)\n",
    "            eigs.append(lambda_2)\n",
    "            i += 1\n",
    "        i += 1\n",
    "    return eigs\n",
    "            \n",
    "#Construct a random symmetric matrix\n",
    "A = np.random.random((5,5))\n",
    "A = A + A.T\n",
    "my_evals = QRfindeig(A, 1000, 1e-8)\n",
    "my_evals.sort()\n",
    "print(\"Calculation: \", my_evals)\n",
    "evals, evecs = la.eig(A)\n",
    "evals.sort()\n",
    "print(\"True values: \", evals)"
   ]
  },
  {
   "cell_type": "markdown",
   "metadata": {},
   "source": [
    "From the results shown above, we can find that the two results are almost the same."
   ]
  },
  {
   "cell_type": "markdown",
   "metadata": {},
   "source": [
    "### Part 3: SVD and Image Compression"
   ]
  },
  {
   "cell_type": "markdown",
   "metadata": {},
   "source": [
    "#### Problem 1"
   ]
  },
  {
   "cell_type": "code",
   "execution_count": 47,
   "metadata": {
    "collapsed": true
   },
   "outputs": [],
   "source": [
    "def computeSVD(A,tol):\n",
    "    lamda,V = la.eig(np.dot(A.conj().T,A))\n",
    "    #get singular values\n",
    "    sigma = np.sqrt(lamda)\n",
    "    index = ((-1)*sigma).argsort()\n",
    "    sigma = sigma[index]\n",
    "    V = V[:,index]\n",
    "    \n",
    "    r = sum(i > tol for i in sigma)\n",
    "    sigma1 = sigma[:r]\n",
    "    V1 = V[:,:r]\n",
    "    U1 = np.dot(A,V1)/sigma1\n",
    "    return U1, sigma1, V1.conj().T"
   ]
  },
  {
   "cell_type": "code",
   "execution_count": 51,
   "metadata": {},
   "outputs": [
    {
     "name": "stdout",
     "output_type": "stream",
     "text": [
      "Results:\n",
      "U is:\n",
      "[[ 0.42178755+0.j -0.66375799+0.j  0.14349853+0.j  0.28942512+0.j]\n",
      " [ 0.36535515+0.j  0.57505026+0.j -0.18215559+0.j  0.13683074+0.j]\n",
      " [ 0.26752933+0.j  0.01221534+0.j  0.66160116+0.j -0.67177202+0.j]\n",
      " [ 0.26926052+0.j -0.24301106+0.j -0.71155129+0.j -0.60164736+0.j]\n",
      " [ 0.54549843+0.j -0.11748058+0.j -0.00476815+0.j  0.28928350+0.j]\n",
      " [ 0.49695993+0.j  0.39463559+0.j  0.04672724+0.j  0.02383930+0.j]]\n",
      "Sigma is:\n",
      "[ 2.16963261+0.j  0.94486510+0.j  0.39194819+0.j  0.34681929+0.j]\n",
      "V^H is:\n",
      "[[ 0.56179438  0.26357075  0.69308111  0.36681891]\n",
      " [ 0.77465396  0.13891455 -0.46797478 -0.40201193]\n",
      " [ 0.06899331  0.14859559 -0.54694474  0.82098156]\n",
      " [ 0.28202523 -0.94294886  0.03859575  0.17268346]]\n"
     ]
    }
   ],
   "source": [
    "A = np.random.random((6,4))\n",
    "U, s_vec, V = computeSVD(A, 1e-8)\n",
    "print(\"Results:\")\n",
    "print(\"U is:\")\n",
    "print(U)\n",
    "print(\"Sigma is:\")\n",
    "print(s_vec)\n",
    "print(\"V^H is:\")\n",
    "print(V)"
   ]
  },
  {
   "cell_type": "code",
   "execution_count": 52,
   "metadata": {},
   "outputs": [
    {
     "name": "stdout",
     "output_type": "stream",
     "text": [
      "True SVD:\n",
      "[[-0.42178755 -0.66375799 -0.14349853 -0.28942512 -0.51141599 -0.1249622 ]\n",
      " [-0.36535515  0.57505026  0.18215559 -0.13683074 -0.2611509  -0.64477105]\n",
      " [-0.26752933  0.01221534 -0.66160116  0.67177202  0.05666234 -0.18993282]\n",
      " [-0.26926052 -0.24301106  0.71155129  0.60164736 -0.00545735  0.01139401]\n",
      " [-0.54549843 -0.11748058  0.00476815 -0.2892835   0.77632351 -0.0473699 ]\n",
      " [-0.49695993  0.39463559 -0.04672724 -0.0238393  -0.25364403  0.72815283]]\n",
      "[ 2.16963261  0.9448651   0.39194819  0.34681929]\n",
      "[[-0.56179438 -0.26357075 -0.69308111 -0.36681891]\n",
      " [ 0.77465396  0.13891455 -0.46797478 -0.40201193]\n",
      " [-0.06899331 -0.14859559  0.54694474 -0.82098156]\n",
      " [-0.28202523  0.94294886 -0.03859575 -0.17268346]]\n"
     ]
    }
   ],
   "source": [
    "U2, s_vec2, V2 = la.svd(A)\n",
    "print(\"True SVD:\")\n",
    "print(U2)\n",
    "print(s_vec2)\n",
    "print(V2)"
   ]
  },
  {
   "cell_type": "markdown",
   "metadata": {},
   "source": [
    "From the results shown above, we find that the results are the same."
   ]
  },
  {
   "cell_type": "markdown",
   "metadata": {},
   "source": [
    "#### Problem 2"
   ]
  },
  {
   "cell_type": "code",
   "execution_count": 54,
   "metadata": {},
   "outputs": [
    {
     "data": {
      "image/png": "[encoded data removed]",
      "text/plain": [
       "<Figure size 720x720 with 4 Axes>"
      ]
     },
     "metadata": {},
     "output_type": "display_data"
    }
   ],
   "source": [
    "def visualizeSVD(A):\n",
    "    # A is an 2*2 matrix\n",
    "    S=np.zeros((2,200))\n",
    "    theta=np.linspace(0.0, 2*np.pi, 200)\n",
    "    theta=np.sort(theta)\n",
    "    S[0]=np.cos(theta)\n",
    "    S[1]=np.sin(theta)\n",
    "    E=np.array(([1,0,0],[0,0,1]))\n",
    "    \n",
    "    \n",
    "    \n",
    "    \n",
    "    plt.figure(figsize = [10,10])\n",
    "    \n",
    "    axis = np.linspace(-4, 4, 10)\n",
    "    \n",
    "    U,sigma,Vh = la.svd(A, full_matrices=True)\n",
    "    Sigma=np.diag(sigma)\n",
    "    VhS = np.dot(Vh, S)\n",
    "    VhE = np.dot(Vh, E)\n",
    "    SigmaVhS = np.dot(Sigma, VhS)\n",
    "    SigmaVhE = np.dot(Sigma, VhE)\n",
    "    USigmaVhS = np.dot(U, SigmaVhS)\n",
    "    USigmaVhE = np.dot(U, SigmaVhE)\n",
    "        \n",
    "    #plot 1\n",
    "    plt.subplot(2,2,1)\n",
    "    plt.plot(S[0], S[1])\n",
    "    plt.plot(E[0], E[1])\n",
    "    plt.plot(axis, np.zeros_like(axis), \"k:\", alpha = 0.3)\n",
    "    plt.plot(np.zeros_like(axis), axis, \"k:\", alpha = 0.3)\n",
    "    plt.xlim(-4,4)\n",
    "    plt.ylim(-4,4)\n",
    "    plt.title(\"(a) \" + r\"$S$\")\n",
    "        \n",
    "    #plot 2\n",
    "    plt.subplot(2,2,2)\n",
    "    plt.plot(VhS[0], VhS[1])\n",
    "    plt.plot(VhE[0], VhE[1])\n",
    "    plt.plot(axis, np.zeros_like(axis), \"k:\", alpha = 0.3)\n",
    "    plt.plot(np.zeros_like(axis), axis, \"k:\", alpha = 0.3)\n",
    "    plt.xlim(-4,4)\n",
    "    plt.ylim(-4,4)\n",
    "    plt.title(\"(b) \" + r\"$V^H S$\")\n",
    "    \n",
    "    #plot 3\n",
    "    plt.subplot(2,2,3)\n",
    "    plt.plot(SigmaVhS[0], SigmaVhS[1])\n",
    "    plt.plot(SigmaVhE[0], SigmaVhE[1])\n",
    "    plt.plot(axis, np.zeros_like(axis), \"k:\", alpha = 0.3)\n",
    "    plt.plot(np.zeros_like(axis), axis, \"k:\", alpha = 0.3)\n",
    "    plt.xlim(-4,4)\n",
    "    plt.ylim(-4,4)\n",
    "    plt.title(\"(c) \" + r\"$\\Sigma V^H S$\")\n",
    "    \n",
    "    #plot 4\n",
    "    plt.subplot(2,2,4)\n",
    "    plt.plot(USigmaVhS[0], USigmaVhS[1])\n",
    "    plt.plot(USigmaVhE[0], USigmaVhE[1])\n",
    "    plt.plot(axis, np.zeros_like(axis), \"k:\", alpha = 0.3)\n",
    "    plt.plot(np.zeros_like(axis), axis, \"k:\", alpha = 0.3)\n",
    "    plt.xlim(-4,4)\n",
    "    plt.ylim(-4,4)\n",
    "    plt.title(\"(d) \" + r\"$U \\Sigma V^H S$\")\n",
    "    \n",
    "    plt.show()\n",
    "       \n",
    "A = np.array([[3,1], [1,3]])\n",
    "visualizeSVD(A)"
   ]
  },
  {
   "cell_type": "markdown",
   "metadata": {},
   "source": []
  }
 ],
 "metadata": {
  "kernelspec": {
   "display_name": "Python 3",
   "language": "python",
   "name": "python3"
  },
  "language_info": {
   "codemirror_mode": {
    "name": "ipython",
    "version": 3
   },
   "file_extension": ".py",
   "mimetype": "text/x-python",
   "name": "python",
   "nbconvert_exporter": "python",
   "pygments_lexer": "ipython3",
   "version": "3.6.3"
  }
 },
 "nbformat": 4,
 "nbformat_minor": 2
}
