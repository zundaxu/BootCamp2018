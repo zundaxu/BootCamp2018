{
 "cells": [
  {
   "cell_type": "markdown",
   "metadata": {},
   "source": [
    "### Computational Prob Set 6 -- Newton's Method"
   ]
  },
  {
   "cell_type": "markdown",
   "metadata": {},
   "source": [
    "#### Name: Zunda Xu ( zunda@uchicago.edu )"
   ]
  },
  {
   "cell_type": "markdown",
   "metadata": {},
   "source": [
    "#### Problem 1"
   ]
  },
  {
   "cell_type": "code",
   "execution_count": 1,
   "metadata": {
    "collapsed": true
   },
   "outputs": [],
   "source": [
    "# Import packages and libraries\n",
    "import numpy as np\n",
    "import matplotlib.pyplot as plt\n",
    "from scipy.optimize import newton\n",
    "import scipy.linalg as la\n",
    "\n",
    "def Newton(f, x0, f_prime, tol = 1e-5, max_iter = 15):\n",
    "    for i in range(max_iter): \n",
    "        converge = False \n",
    "        x1 = x0 - f(x0)/f_prime(x0)\n",
    "        if abs(x1 - x0) < tol:\n",
    "            converge = True\n",
    "            break\n",
    "        x0 = x1\n",
    "    return x0, converge "
   ]
  },
  {
   "cell_type": "code",
   "execution_count": 2,
   "metadata": {},
   "outputs": [
    {
     "name": "stdout",
     "output_type": "stream",
     "text": [
      "(0.69314719995859264, True)\n",
      "0.69314718056\n"
     ]
    }
   ],
   "source": [
    "f = lambda x: np.exp(x) - 2\n",
    "f_prime = lambda x: np.exp(x)\n",
    "\n",
    "print(Newton(f, 0.5, f_prime))\n",
    "print(newton(f, 0.5))"
   ]
  },
  {
   "cell_type": "markdown",
   "metadata": {},
   "source": [
    "#### Problem 2"
   ]
  },
  {
   "cell_type": "code",
   "execution_count": 4,
   "metadata": {},
   "outputs": [
    {
     "name": "stdout",
     "output_type": "stream",
     "text": [
      "0.03878102386\n"
     ]
    }
   ],
   "source": [
    "from autograd import grad, jacobian\n",
    "import autograd.numpy as anp\n",
    "\n",
    "def prob2(N1, N2, P1, P2):\n",
    "    f = lambda x: P1 * ((1 + x) ** N1 - 1) - P2 * (1 - (1 + x) ** (-N2))\n",
    "    f1 = grad(f)\n",
    "    r = Newton(f, 0.1, f1)[0]\n",
    "    return r\n",
    "print(prob2(30, 20, 2000, 8000))"
   ]
  },
  {
   "cell_type": "markdown",
   "metadata": {},
   "source": [
    "#### Problem 3"
   ]
  },
  {
   "cell_type": "code",
   "execution_count": 5,
   "metadata": {
    "collapsed": true
   },
   "outputs": [],
   "source": [
    "def Backtracking(f, x0, f_prime, alpha = 1, tol = 1e-5, max_iter = 15):\n",
    "    \n",
    "    for i in range(max_iter): \n",
    "        converge = False \n",
    "        x1 = x0 - alpha*f(x0)/f_prime(x0)\n",
    "        if abs(x1 - x0) < tol:\n",
    "            converge = True\n",
    "            break\n",
    "        x0 = x1\n",
    "    return x0, converge \n",
    "f = lambda x: np.sign(x) * np.power(np.abs(x), 1./3)\n",
    "f1 = grad(f)"
   ]
  },
  {
   "cell_type": "code",
   "execution_count": 6,
   "metadata": {},
   "outputs": [
    {
     "data": {
      "text/plain": [
       "(-3.199999999999966e-06, True)"
      ]
     },
     "execution_count": 6,
     "metadata": {},
     "output_type": "execute_result"
    }
   ],
   "source": [
    "Backtracking(f, 0.01, f1, 0.4)"
   ]
  },
  {
   "cell_type": "code",
   "execution_count": 7,
   "metadata": {},
   "outputs": [
    {
     "data": {
      "text/plain": [
       "(-327.68000000000075, False)"
      ]
     },
     "execution_count": 7,
     "metadata": {},
     "output_type": "execute_result"
    }
   ],
   "source": [
    "Backtracking(f, 0.01, f1)"
   ]
  },
  {
   "cell_type": "markdown",
   "metadata": {},
   "source": [
    "#### Problem 4"
   ]
  },
  {
   "cell_type": "code",
   "execution_count": 10,
   "metadata": {
    "collapsed": true
   },
   "outputs": [],
   "source": [
    "def problem_4(f, x0, f_prime, alpha, tol = 1e-5, max_iter = 15):\n",
    "    i = 0\n",
    "    x1 = 10\n",
    "    while i < max_iter and abs(x1-x0) > tol:\n",
    "        x1 = x0\n",
    "        x0 = x0 - alpha * f(x0)/f_prime(x0)\n",
    "        i += 1\n",
    "    return x0, i"
   ]
  },
  {
   "cell_type": "code",
   "execution_count": 11,
   "metadata": {},
   "outputs": [
    {
     "data": {
      "image/png": "[encoded data removed]",
      "text/plain": [
       "<Figure size 432x288 with 1 Axes>"
      ]
     },
     "metadata": {},
     "output_type": "display_data"
    }
   ],
   "source": [
    "alpha = np.linspace(0, 1, 20)\n",
    "get_iter = np.zeros(20)\n",
    "f = lambda x : np.exp(x) - 2\n",
    "f_prime = lambda x : np.exp(x)\n",
    "for i in range(20):\n",
    "    get_iter[i] = problem_4(f, 0.1, f_prime, alpha[i])[1]\n",
    "plt.plot(alpha,get_iter )\n",
    "plt.ylabel('number of iterations')\n",
    "plt.xlabel('alpha')\n",
    "plt.show()"
   ]
  },
  {
   "cell_type": "markdown",
   "metadata": {},
   "source": [
    "#### Problem 5"
   ]
  },
  {
   "cell_type": "code",
   "execution_count": 73,
   "metadata": {
    "collapsed": true
   },
   "outputs": [],
   "source": [
    "def high_dim_newton(f, x0, alpha = 1, tol = 1e-5, max_iter = 15):\n",
    "    i = 0\n",
    "    x1 = 10\n",
    "    f_prime = jacobian(f)\n",
    "    while i < max_iter and la.norm(x1-x0) > tol:\n",
    "        x1 = x0\n",
    "        x0 = x0 - alpha * np.dot(la.inv(f_prime(x0)), f(x0))\n",
    "        i += 1\n",
    "    return x0"
   ]
  },
  {
   "cell_type": "code",
   "execution_count": 74,
   "metadata": {},
   "outputs": [
    {
     "name": "stdout",
     "output_type": "stream",
     "text": [
      "[0.69314718]\n"
     ]
    }
   ],
   "source": [
    "f = lambda x: anp.exp(x) - 2\n",
    "print(high_dim_newton(f, np.array([0.1])))"
   ]
  },
  {
   "cell_type": "markdown",
   "metadata": {},
   "source": [
    "# Problem 6"
   ]
  },
  {
   "cell_type": "code",
   "execution_count": 80,
   "metadata": {},
   "outputs": [
    {
     "data": {
      "text/plain": [
       "array([-5.93196686e-15, -1.00000000e+00])"
      ]
     },
     "execution_count": 80,
     "metadata": {},
     "output_type": "execute_result"
    }
   ],
   "source": [
    "gamma, delta = 5, 1\n",
    "f = lambda x: anp.array([gamma * x[0] * x[1] -x[0] * (1 + x[1]), -x[0] * x[1] + (delta - x[1]) * (1 + x[1])])\n",
    "high_dim_newton(f, anp.array([-0.15, 0.10]))\n"
   ]
  },
  {
   "cell_type": "code",
   "execution_count": 81,
   "metadata": {},
   "outputs": [
    {
     "data": {
      "text/plain": [
       "array([ 0.00498312, -1.0019193 ])"
      ]
     },
     "execution_count": 81,
     "metadata": {},
     "output_type": "execute_result"
    }
   ],
   "source": [
    "high_dim_newton(f, anp.array([-0.15, 0.10]),0.55)"
   ]
  },
  {
   "cell_type": "markdown",
   "metadata": {},
   "source": [
    "# Problem 7"
   ]
  },
  {
   "cell_type": "code",
   "execution_count": 62,
   "metadata": {
    "collapsed": true
   },
   "outputs": [],
   "source": [
    "def basins(f, f_prime, zeros, bounds, res, iters = 200):\n",
    "    x_real = np.linspace(bounds[0], bounds[1], res)\n",
    "    x_imag = np.linspace(bounds[2], bounds[3], res)\n",
    "    X = np.zeros((res,res))\n",
    "    X_real, X_imag = np.meshgrid(x_real, x_imag)\n",
    "    X = X_real + 1j*X_imag\n",
    "    Y = np.zeros((res, res))\n",
    "    for i in range(res):\n",
    "        for j in range(res):\n",
    "            x0 = X[i, j]\n",
    "            for k in range(iters): \n",
    "                x1 = x0 - f(x0)/f_prime(x0)\n",
    "                if abs(x1 - x0) < 1e-5: \n",
    "                    break\n",
    "                x0 = x1\n",
    "            Y[i, j] = np.argmin(np.abs(zeros - x0))\n",
    "    return x_real, x_imag, Y\n",
    "   "
   ]
  },
  {
   "cell_type": "code",
   "execution_count": 64,
   "metadata": {
    "collapsed": true
   },
   "outputs": [],
   "source": [
    "bounds = [-1.5, 1.5, -1.5, 1.5]\n",
    "roots1 = np.array([1, -1/2 + (np.sqrt(3)/2)*1j, -1/2 - (np.sqrt(3)/2)*1j])\n",
    "roots2 = np.array([0, 1, -1])\n",
    "f = lambda x: x**3 - 1\n",
    "Df = lambda x: 3*x**2\n",
    "g = lambda x: x**3 - x\n",
    "Dg = lambda x: 3*x**2 - 1\n"
   ]
  },
  {
   "cell_type": "code",
   "execution_count": 65,
   "metadata": {},
   "outputs": [
    {
     "data": {
      "image/png": "[encoded data removed]",
      "text/plain": [
       "<Figure size 432x288 with 1 Axes>"
      ]
     },
     "metadata": {},
     "output_type": "display_data"
    }
   ],
   "source": [
    "real, imag, y = basins(f, Df, roots1, bounds, 100)\n",
    "plt.pcolormesh(real, imag, y, cmap = 'brg')\n",
    "plt.show()\n",
    "\n",
    "#basins(g, Dg, roots2, bounds, 100)"
   ]
  },
  {
   "cell_type": "code",
   "execution_count": 66,
   "metadata": {},
   "outputs": [
    {
     "data": {
      "image/png": "[encoded data removed]",
      "text/plain": [
       "<Figure size 432x288 with 1 Axes>"
      ]
     },
     "metadata": {},
     "output_type": "display_data"
    }
   ],
   "source": [
    "real, imag, y = basins(g, Dg, roots2, bounds, 100)\n",
    "plt.pcolormesh(real, imag, y, cmap = 'brg')\n",
    "plt.show()"
   ]
  },
  {
   "cell_type": "code",
   "execution_count": null,
   "metadata": {
    "collapsed": true
   },
   "outputs": [],
   "source": []
  }
 ],
 "metadata": {
  "kernelspec": {
   "display_name": "Python 3",
   "language": "python",
   "name": "python3"
  },
  "language_info": {
   "codemirror_mode": {
    "name": "ipython",
    "version": 3
   },
   "file_extension": ".py",
   "mimetype": "text/x-python",
   "name": "python",
   "nbconvert_exporter": "python",
   "pygments_lexer": "ipython3",
   "version": "3.6.3"
  }
 },
 "nbformat": 4,
 "nbformat_minor": 2
}
