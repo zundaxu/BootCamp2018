{
 "cells": [
  {
   "cell_type": "markdown",
   "metadata": {},
   "source": [
    "### Computational Prob Set 6 -- Integration\n",
    "\n",
    "#### Name: Zunda Xu (zunda@uchcicago.edu)"
   ]
  },
  {
   "cell_type": "markdown",
   "metadata": {},
   "source": [
    "#### Problem 1"
   ]
  },
  {
   "cell_type": "code",
   "execution_count": 16,
   "metadata": {
    "collapsed": true
   },
   "outputs": [],
   "source": [
    "import numpy as np\n",
    "from math import sqrt, exp\n",
    "import matplotlib.pyplot as plt"
   ]
  },
  {
   "cell_type": "code",
   "execution_count": 17,
   "metadata": {
    "collapsed": true
   },
   "outputs": [],
   "source": [
    "def approx(g, a, b, N, method):\n",
    "    i = 0\n",
    "    sum = 0\n",
    "    if method == 'midpoints':\n",
    "        x = a + (b - a)/(2 * N)\n",
    "        while i < N:\n",
    "            sum += g(x) * (b - a)/N\n",
    "            x += (b - a)/N\n",
    "            i += 1\n",
    "    elif method == 'trapezoid':\n",
    "        x = a + (b - a)/N\n",
    "        sum += g(a) * (b - a)/(2 * N)\n",
    "        sum += g(b) * (b - a)/(2 * N)\n",
    "        while i < N - 1:\n",
    "            sum += g(x) * (b - a)/N\n",
    "            x += (b - a)/N\n",
    "            i += 1\n",
    "    elif method == 'simpsons':\n",
    "        x = a + (b - a)/(2 * N)\n",
    "        sum += g(a) * (b - a)/(6 * (N ))\n",
    "        sum += g(b) * (b - a)/(6 * (N ))\n",
    "        while i < 2 * N - 2:\n",
    "            if i % 2 == 0:\n",
    "                sum += (4/(6 * (N ))) * g(x) * (b-a)\n",
    "            else:\n",
    "                sum += (2/(6 * (N ))) * g(x) * (b-a)\n",
    "            x += (b - a)/(2 * N)\n",
    "            i += 1\n",
    "    return sum"
   ]
  },
  {
   "cell_type": "code",
   "execution_count": 18,
   "metadata": {},
   "outputs": [
    {
     "name": "stdout",
     "output_type": "stream",
     "text": [
      "4373.319646676187\n",
      "4373.3607066562\n",
      "4379.008325996229\n"
     ]
    }
   ],
   "source": [
    "g = lambda x: (0.1*x**4 - 1.5*x**3 + 0.53*x**2 + 2*x + 1)\n",
    "a = -10\n",
    "b = 10\n",
    "N = 1000\n",
    "print(approx(g,a,b,N,'midpoints'))\n",
    "print(approx(g,a,b,N,'trapezoid'))\n",
    "print(approx(g,a,b,N,'simpsons'))"
   ]
  },
  {
   "cell_type": "markdown",
   "metadata": {},
   "source": [
    "#### Problem 2"
   ]
  },
  {
   "cell_type": "code",
   "execution_count": 19,
   "metadata": {},
   "outputs": [
    {
     "name": "stdout",
     "output_type": "stream",
     "text": [
      "(array([-3. , -2.4, -1.8, -1.2, -0.6,  0. ,  0.6,  1.2,  1.8,  2.4,  3. ]), array([ 0.00346697,  0.01439745,  0.04894278,  0.11725292,  0.19802845,\n",
      "        0.23582284,  0.19802845,  0.11725292,  0.04894278,  0.01439745,\n",
      "        0.00346697]))\n",
      "1.0\n"
     ]
    }
   ],
   "source": [
    "from scipy.stats import norm\n",
    "def normal(mu, sigma, N, k):\n",
    "    Z = np.linspace(mu - k * sigma, mu + k * sigma, N)\n",
    "    weights = np.zeros(N)\n",
    "    weights[0] = norm.cdf((Z[0] + Z[1])/2, mu, sigma)\n",
    "    weights[N-1] = 1- norm.cdf((Z[N-2] + Z[N-1])/2, mu, sigma)\n",
    "    for i in range(1, N-1):\n",
    "        weights[i] = norm.cdf((Z[i + 1]+Z[i])/2, mu, sigma) - norm.cdf((Z[i]+Z[i-1])/2, mu, sigma)\n",
    "    return Z, weights\n",
    "\n",
    "print(normal(0, 1, 11, 3))\n",
    "print(normal(0, 1, 11, 3)[1].sum())"
   ]
  },
  {
   "cell_type": "markdown",
   "metadata": {},
   "source": [
    "#### Problem 3"
   ]
  },
  {
   "cell_type": "code",
   "execution_count": 20,
   "metadata": {},
   "outputs": [
    {
     "name": "stdout",
     "output_type": "stream",
     "text": [
      "(array([  0.04978707,   0.09071795,   0.16529889,   0.30119421,\n",
      "         0.54881164,   1.        ,   1.8221188 ,   3.32011692,\n",
      "         6.04964746,  11.02317638,  20.08553692]), array([ 0.00346697,  0.01439745,  0.04894278,  0.11725292,  0.19802845,\n",
      "        0.23582284,  0.19802845,  0.11725292,  0.04894278,  0.01439745,\n",
      "        0.00346697]))\n"
     ]
    }
   ],
   "source": [
    "def log_normal(mu, sigma, N, k):\n",
    "    A, weights = normal(mu, sigma, N, k)\n",
    "    A = np.exp(A)\n",
    "    return A, weights\n",
    "print(log_normal(0, 1, 11, 3))"
   ]
  },
  {
   "cell_type": "markdown",
   "metadata": {},
   "source": [
    "#### Problem 4"
   ]
  },
  {
   "cell_type": "code",
   "execution_count": 21,
   "metadata": {},
   "outputs": [
    {
     "name": "stdout",
     "output_type": "stream",
     "text": [
      "50004.9673723\n",
      "50011.0870085\n"
     ]
    }
   ],
   "source": [
    "expected_Y = np.dot(log_normal(10.5, 0.8, 2000, 4)[0], log_normal(10.5, 0.8, 2000, 4)[1])\n",
    "print(expected_Y)\n",
    "true_mean = np.exp(10.5 + 0.8 ** 2/2)\n",
    "print(true_mean)"
   ]
  },
  {
   "cell_type": "markdown",
   "metadata": {},
   "source": [
    "#### Problem 5"
   ]
  },
  {
   "cell_type": "code",
   "execution_count": 22,
   "metadata": {},
   "outputs": [
    {
     "name": "stdout",
     "output_type": "stream",
     "text": [
      "4373.33333333\n"
     ]
    }
   ],
   "source": [
    "import scipy.optimize as opt\n",
    "import math\n",
    "\n",
    "a = -10\n",
    "b = 10\n",
    "#approximate each term \n",
    "def eqs(x):\n",
    "    eq1 = x[0] + x[1] + x[2] - (b - a)\n",
    "    eq2 = x[0] * x[3] + x[1] * x[4] + x[2] * x[5] - ((1/2) * b ** 2 - (1/2) * a ** 2)\n",
    "    eq3 = x[0] * x[3] ** 2 + x[1] * x[4] ** 2 + x[2] * x[5] ** 2 - ((1/3) * b ** 3 - (1/3) * a ** 3)\n",
    "    eq4 = x[0] * x[3] ** 3 + x[1] * x[4] ** 3 + x[2] * x[5] ** 3 - ((1/4) * b ** 4 - (1/4) * a ** 4)\n",
    "    eq5 = x[0] * x[3] ** 4 + x[1] * x[4] ** 4 + x[2] * x[5] ** 4 - ((1/5) * b ** 5 - (1/5) * a ** 5)\n",
    "    eq6 = x[0] * x[3] ** 5 + x[1] * x[4] ** 5 + x[2] * x[5] ** 5 - ((1/6) * b ** 6 - (1/6) * a ** 6)\n",
    "    return (eq1, eq2, eq3, eq4, eq5, eq6)\n",
    "#opt.root is sensitive to init_guess                        \n",
    "x = opt.root(eqs,(5, 3, 4, -5, 5, 3), tol = 1e-10).x\n",
    "weights = x[:3]\n",
    "points = x[3: 6]\n",
    "gaussian = 0\n",
    "for i in range(3): \n",
    "    gaussian  += (g(points[i])) * (weights[i])\n",
    "print(gaussian)"
   ]
  },
  {
   "cell_type": "markdown",
   "metadata": {},
   "source": [
    "#### Problem 6"
   ]
  },
  {
   "cell_type": "code",
   "execution_count": 23,
   "metadata": {},
   "outputs": [
    {
     "name": "stdout",
     "output_type": "stream",
     "text": [
      "4373.333333333334\n"
     ]
    }
   ],
   "source": [
    "from scipy.integrate import quad\n",
    "print(quad(g, -10, 10)[0])"
   ]
  },
  {
   "cell_type": "markdown",
   "metadata": {},
   "source": [
    "#### Problem 7"
   ]
  },
  {
   "cell_type": "code",
   "execution_count": 24,
   "metadata": {
    "collapsed": true
   },
   "outputs": [],
   "source": [
    "g = lambda x, y: 1 if x**2+y**2<=1 else 0 \n",
    "omega = [-1, 1, -1, 1]\n",
    "N=1000000"
   ]
  },
  {
   "cell_type": "code",
   "execution_count": 25,
   "metadata": {},
   "outputs": [
    {
     "data": {
      "text/plain": [
       "3.141656"
      ]
     },
     "execution_count": 25,
     "metadata": {},
     "output_type": "execute_result"
    }
   ],
   "source": [
    "def monte_carlo(N, omega, g):\n",
    "    sum = 0\n",
    "    x = np.random.uniform(omega[0],omega[1],N)\n",
    "    y = np.random.uniform(omega[2],omega[3],N)\n",
    "    for i in range(N):\n",
    "         sum += g(x[i],y[i])\n",
    "    return 4*sum/N\n",
    "\n",
    "monte_carlo(N,omega,g)"
   ]
  },
  {
   "cell_type": "markdown",
   "metadata": {},
   "source": [
    "#### Problem 8"
   ]
  },
  {
   "cell_type": "code",
   "execution_count": 26,
   "metadata": {},
   "outputs": [
    {
     "name": "stdout",
     "output_type": "stream",
     "text": [
      "[ 0.07106781  0.66025404]\n",
      "[ 0.21320344  0.98076211]\n",
      "[ 0.07106781  0.93700526]\n",
      "[ 0.94528049  0.42768462]\n"
     ]
    }
   ],
   "source": [
    "\n",
    "\n",
    "def is_prime(x):\n",
    "    if x == 2: \n",
    "        return True\n",
    "    if x < 2 or x % 2 == 0: \n",
    "        return False\n",
    "    return not any(x % i == 0 for i in range(3, int(sqrt(x)) + 1, 2))\n",
    "\n",
    "def get_prime(n):\n",
    "    primes = []\n",
    "    i = 1\n",
    "    k = 1\n",
    "    while i <= n :\n",
    "        if is_prime(k + 1) == True:\n",
    "            primes.append(k + 1)\n",
    "            i += 1\n",
    "        k += 1\n",
    "    primes = np.asarray(primes)\n",
    "    return primes\n",
    "\n",
    "def p8(n, d, t):\n",
    "    x = np.zeros((n, d))\n",
    "    primes = get_prime(d)\n",
    "    if t == 'Weyl':\n",
    "         primes = primes ** 0.5 * n - np.floor(primes ** 0.5 * n)\n",
    "    if t == 'Haber':\n",
    "         primes =(n*(n+1)/2*np.sqrt(primes))-np.floor(n*(n+1)/2*np.sqrt(primes))\n",
    "    if t == 'Niederreiter':\n",
    "        sequence = np.zeros(d)\n",
    "        for j in range(d):\n",
    "            m = j + 1\n",
    "            sequence[j] = (n*2**(m/(m+1)))- int(n*2**(m/(m+1)))\n",
    "        return sequence\n",
    "    if t == 'Baker':\n",
    "        primes = (n * np.exp(primes)) - np.floor(n * np.exp(primes))\n",
    "       \n",
    "    return primes\n",
    "\n",
    "print(p8(5, 2,'Weyl'))\n",
    "print(p8(5, 2,'Haber'))\n",
    "print(p8(5, 2,'Niederreiter'))\n",
    "print(p8(5, 2,'Baker'))\n"
   ]
  },
  {
   "cell_type": "code",
   "execution_count": 27,
   "metadata": {},
   "outputs": [
    {
     "data": {
      "image/png": "[encoded data removed]",
      "text/plain": [
       "<Figure size 432x432 with 1 Axes>"
      ]
     },
     "metadata": {},
     "output_type": "display_data"
    }
   ],
   "source": [
    "x_coordi = np.zeros(1000)\n",
    "y_coordi = np.zeros(1000)\n",
    "for i in range(1,1001):\n",
    "    x, y = p8(i, 2, \"Niederreiter\")\n",
    "    y_coordi[i-1] = y\n",
    "    x_coordi[i-1] = x\n",
    "plt.figure(figsize = (6,6))\n",
    "plt.plot(x_coordi, y_coordi, \"o\", markersize = 1)\n",
    "plt.show()"
   ]
  },
  {
   "cell_type": "markdown",
   "metadata": {},
   "source": [
    "#### Problem 9"
   ]
  },
  {
   "cell_type": "code",
   "execution_count": 28,
   "metadata": {
    "collapsed": true
   },
   "outputs": [],
   "source": [
    "def quasi_Weyl(N, omega, g):\n",
    "    sum = 0\n",
    "    A = np.zeros((N, 2))\n",
    "    for i in range(N):\n",
    "        A[i,:] =  p8(i+1, 2, 'Weyl')\n",
    "        sum += g(A[i, 0], A[i, 1])\n",
    "    return 4*sum/N\n",
    "def quasi_Haber(N, omega , g ):\n",
    "    sum = 0\n",
    "    A = np.zeros((N, 2))\n",
    "    for i in range(N):\n",
    "        A[i,:] =  p8(i+1, 2, 'Haber')\n",
    "        sum += g(A[i, 0], A[i, 1])\n",
    "    return 4*sum/N\n",
    "def quasi_Niederreiter(N, omega, g ):\n",
    "    sum = 0\n",
    "    A = np.zeros((N, 2))\n",
    "    for i in range(N):\n",
    "        A[i,:] =  p8(i+1, 2, 'Niederreiter')\n",
    "        sum += g(A[i, 0], A[i, 1])\n",
    "    return 4*sum/N\n",
    "def quasi_Baker(N, omega , g ):\n",
    "    sum = 0\n",
    "    A = np.zeros((N, 2))\n",
    "    for i in range(N):\n",
    "        A[i,:] =  p8(i+1, 2, 'Baker')\n",
    "        sum += g(A[i, 0], A[i, 1])\n",
    "   \n",
    "    return 4*sum/N"
   ]
  },
  {
   "cell_type": "code",
   "execution_count": 29,
   "metadata": {},
   "outputs": [
    {
     "name": "stdout",
     "output_type": "stream",
     "text": [
      "3.14036\n",
      "3.1512\n",
      "3.1464\n",
      "3.144\n"
     ]
    }
   ],
   "source": [
    "print(quasi_Weyl(100000,omega,g))\n",
    "print(quasi_Haber(10000,omega,g))\n",
    "print(quasi_Niederreiter(10000,omega,g))\n",
    "print(quasi_Baker(10000,omega,g))"
   ]
  },
  {
   "cell_type": "code",
   "execution_count": null,
   "metadata": {
    "collapsed": true
   },
   "outputs": [],
   "source": []
  }
 ],
 "metadata": {
  "kernelspec": {
   "display_name": "Python 3",
   "language": "python",
   "name": "python3"
  },
  "language_info": {
   "codemirror_mode": {
    "name": "ipython",
    "version": 3
   },
   "file_extension": ".py",
   "mimetype": "text/x-python",
   "name": "python",
   "nbconvert_exporter": "python",
   "pygments_lexer": "ipython3",
   "version": "3.6.3"
  }
 },
 "nbformat": 4,
 "nbformat_minor": 2
}
