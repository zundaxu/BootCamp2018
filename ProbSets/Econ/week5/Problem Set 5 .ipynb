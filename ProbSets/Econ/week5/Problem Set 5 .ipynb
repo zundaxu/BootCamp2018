{
 "cells": [
  {
   "cell_type": "markdown",
   "metadata": {},
   "source": [
    "### Econ Problem Set 5\n",
    "\n",
    "#### 2018 Boot Camp, Dr. Evans\n",
    "#### Name: Zunda Xu ( zunda@uchicago.edu )"
   ]
  },
  {
   "cell_type": "markdown",
   "metadata": {},
   "source": [
    "The problem set is in cooperation with Shirley, Zeshun Zong and Fiona Fan."
   ]
  },
  {
   "cell_type": "markdown",
   "metadata": {},
   "source": [
    "#### Problem 1"
   ]
  },
  {
   "cell_type": "code",
   "execution_count": 4,
   "metadata": {
    "collapsed": true
   },
   "outputs": [],
   "source": [
    "#import library and packages\n",
    "import numpy as np\n",
    "import pandas as pd\n",
    "import scipy.stats as sts\n",
    "import os\n",
    "import matplotlib.pyplot as plt\n",
    "import scipy.optimize as opt\n",
    "import warnings\n",
    "warnings.filterwarnings('ignore')\n",
    "from scipy import special\n",
    "from scipy.integrate import quad\n",
    "import requests\n",
    "%matplotlib inline"
   ]
  },
  {
   "cell_type": "code",
   "execution_count": 2,
   "metadata": {},
   "outputs": [
    {
     "name": "stdout",
     "output_type": "stream",
     "text": [
      "[ 361.65  123.04  541.77 ...,   97.43  186.88  119.19]\n"
     ]
    }
   ],
   "source": [
    "# import data\n",
    "data = np.loadtxt('clms.txt')\n",
    "print(data)"
   ]
  },
  {
   "cell_type": "markdown",
   "metadata": {},
   "source": [
    "#### Part(a)"
   ]
  },
  {
   "cell_type": "code",
   "execution_count": 6,
   "metadata": {},
   "outputs": [
    {
     "data": {
      "text/plain": [
       "Text(0,0.5,'Percent of observations')"
      ]
     },
     "execution_count": 6,
     "metadata": {},
     "output_type": "execute_result"
    },
    {
     "data": {
      "image/png": "[encoded data removed]",
      "text/plain": [
       "<Figure size 432x288 with 1 Axes>"
      ]
     },
     "metadata": {},
     "output_type": "display_data"
    }
   ],
   "source": [
    "#create histogram \n",
    "weights = (1 / data.shape[0]) * np.ones_like(data)\n",
    "count, bins, ignored = plt.hist(data, 1000, weights=weights,\n",
    "                                edgecolor='k')\n",
    "plt.title('Health Expenditures', fontsize=18)\n",
    "plt.xlabel('claims amounts')\n",
    "plt.ylabel('Percent of observations')"
   ]
  },
  {
   "cell_type": "code",
   "execution_count": 9,
   "metadata": {},
   "outputs": [
    {
     "data": {
      "text/plain": [
       "(0, 800)"
      ]
     },
     "execution_count": 9,
     "metadata": {},
     "output_type": "execute_result"
    },
    {
     "data": {
      "image/png": "[encoded data removed]",
      "text/plain": [
       "<Figure size 432x288 with 1 Axes>"
      ]
     },
     "metadata": {},
     "output_type": "display_data"
    }
   ],
   "source": [
    "data_part = np.asarray([x for x in data if x <=800])\n",
    "weights = (1 / data.shape[0]) * np.ones_like(data_part)\n",
    "n, bins, ignored = plt.hist(data_part, 100, weights=weights, edgecolor='black', linewidth=0.5)\n",
    "plt.title('Health Expenditures (Less or equal than 800)')\n",
    "plt.xlabel('Claim Amounts')\n",
    "plt.ylabel('Percent of Observations')\n",
    "plt.xlim(0, 800)"
   ]
  },
  {
   "cell_type": "markdown",
   "metadata": {},
   "source": [
    "From the two histograms shown above, we find the second one is preferred because deleting outliers makes the graph more readable. "
   ]
  },
  {
   "cell_type": "markdown",
   "metadata": {},
   "source": [
    "#### Part(b)"
   ]
  },
  {
   "cell_type": "code",
   "execution_count": 10,
   "metadata": {
    "collapsed": true
   },
   "outputs": [],
   "source": [
    "beta_guess = (data.var())/data.mean()\n",
    "alpha_guess = data.mean()/beta_guess  \n",
    "params_guess = (alpha_guess, beta_guess)"
   ]
  },
  {
   "cell_type": "code",
   "execution_count": 11,
   "metadata": {
    "collapsed": true
   },
   "outputs": [],
   "source": [
    "def GA_pdf(xvals, alpha, beta):\n",
    "    pdf_vals = 1/((beta ** alpha) * special.gamma(alpha)) * (xvals ** (alpha - 1)) * np.exp(-xvals/beta)\n",
    "    \n",
    "    return pdf_vals\n",
    "\n",
    "def log_lik_GA(xvals, alpha, beta):\n",
    "    pdf_vals = GA_pdf(xvals, alpha, beta)\n",
    "    ln_pdf_vals = np.log(pdf_vals)\n",
    "    log_lik_val = ln_pdf_vals.sum()\n",
    "    \n",
    "    return log_lik_val"
   ]
  },
  {
   "cell_type": "code",
   "execution_count": 12,
   "metadata": {
    "collapsed": true
   },
   "outputs": [],
   "source": [
    "def crit(params, args):\n",
    "    \n",
    "    alpha, beta = params\n",
    "    xvals = args\n",
    "    log_lik_val = log_lik_GA(xvals, alpha, beta)\n",
    "    neg_log_lik_val = -log_lik_val\n",
    "    \n",
    "    return neg_log_lik_val"
   ]
  },
  {
   "cell_type": "code",
   "execution_count": 13,
   "metadata": {},
   "outputs": [
    {
     "name": "stdout",
     "output_type": "stream",
     "text": [
      "      fun: 82076.451605662558\n",
      " hess_inv: <2x2 LbfgsInvHessProduct with dtype=float64>\n",
      "      jac: array([ 0.        ,  0.09022187])\n",
      "  message: b'CONVERGENCE: REL_REDUCTION_OF_F_<=_FACTR*EPSMCH'\n",
      "     nfev: 33\n",
      "      nit: 8\n",
      "   status: 0\n",
      "  success: True\n",
      "        x: array([  2.21755323e-01,   2.19110647e+04])\n"
     ]
    }
   ],
   "source": [
    "ga_args = data\n",
    "bnds = ((1e-6, None), (1e-6, None))\n",
    "results = opt.minimize(crit, params_guess, args=(ga_args), method ='L-BFGS-B', bounds=bnds)\n",
    "alpha_ga, beta_ga = results.x\n",
    "print(results)"
   ]
  },
  {
   "cell_type": "code",
   "execution_count": 15,
   "metadata": {},
   "outputs": [
    {
     "data": {
      "image/png": "[encoded data removed]",
      "text/plain": [
       "<Figure size 432x288 with 1 Axes>"
      ]
     },
     "metadata": {},
     "output_type": "display_data"
    }
   ],
   "source": [
    "# Plot the histogram of the data\n",
    "data_part = np.asarray([x for x in data if x <=800])\n",
    "weights = (1 / data.shape[0]) * np.ones_like(data_part)\n",
    "n, bins, ignored = plt.hist(data_part, 100, weights=weights, edgecolor='black',\n",
    "                                linewidth=0.5)\n",
    "plt.title('Health Expenditures (Less or equal than 800)')\n",
    "plt.xlabel('Claim amounts')\n",
    "plt.ylabel('Percentage of observation')\n",
    "\n",
    "x = np.linspace(1e-10, 800, 200)\n",
    "y = GA_pdf(x, alpha_ga, beta_ga)\n",
    "plt.plot(x, y,'k-',\n",
    "         linewidth=2, label=' Gamma Dist')\n",
    "plt.legend(loc='upper left')\n",
    "plt.ylim(0, 0.04)\n",
    "\n",
    "plt.show()"
   ]
  },
  {
   "cell_type": "markdown",
   "metadata": {},
   "source": [
    "#### Part (c)"
   ]
  },
  {
   "cell_type": "code",
   "execution_count": 16,
   "metadata": {
    "collapsed": true
   },
   "outputs": [],
   "source": [
    "beta_guess = beta_ga\n",
    "alpha_guess = alpha_ga\n",
    "m_guess = 1\n",
    "params_guess = (alpha_guess, beta_guess, m_guess) "
   ]
  },
  {
   "cell_type": "code",
   "execution_count": 17,
   "metadata": {
    "collapsed": true
   },
   "outputs": [],
   "source": [
    "def GG_pdf(xvals, alpha, beta, m):\n",
    "    pdf_vals = m/((beta**alpha)*special.gamma(alpha/m))*(xvals**(alpha - 1))*np.exp(-(xvals/beta)**m)\n",
    "    \n",
    "    return pdf_vals\n",
    "\n",
    "def log_lik_GG(xvals, alpha, beta, m):\n",
    "    pdf_vals = m/((beta**alpha)*special.gamma(alpha/m))*(xvals**(alpha - 1))*np.exp(-(xvals/beta)**m)\n",
    "    ln_pdf_vals = np.log(pdf_vals)\n",
    "    log_lik_val = ln_pdf_vals.sum()\n",
    "    \n",
    "    return log_lik_val\n",
    "\n",
    "def crit_GG(params, args):\n",
    "    alpha, beta, m = params\n",
    "    xvals = args\n",
    "    log_lik_val = log_lik_GG(xvals, alpha, beta, m)\n",
    "    neg_log_lik_val = -log_lik_val\n",
    "    \n",
    "    return neg_log_lik_val"
   ]
  },
  {
   "cell_type": "code",
   "execution_count": 18,
   "metadata": {},
   "outputs": [
    {
     "name": "stdout",
     "output_type": "stream",
     "text": [
      "      fun: 82076.446790848655\n",
      " hess_inv: <3x3 LbfgsInvHessProduct with dtype=float64>\n",
      "      jac: array([-3.65253072,  0.09167707, -1.04337232])\n",
      "  message: b'CONVERGENCE: REL_REDUCTION_OF_F_<=_FACTR*EPSMCH'\n",
      "     nfev: 24\n",
      "      nit: 2\n",
      "   status: 0\n",
      "  success: True\n",
      "        x: array([  2.21737619e-01,   2.19110644e+04,   9.97091566e-01])\n"
     ]
    }
   ],
   "source": [
    "gg_args = data\n",
    "bnds = ((1e-6, None), (1e-6, None), (1e-6, None))\n",
    "results = opt.minimize(crit_GG, params_guess, args=(gg_args), method ='L-BFGS-B', bounds=bnds)\n",
    "alpha_gg, beta_gg, m_gg = results.x\n",
    "print(results)"
   ]
  },
  {
   "cell_type": "code",
   "execution_count": 19,
   "metadata": {},
   "outputs": [
    {
     "data": {
      "image/png": "[encoded data removed]",
      "text/plain": [
       "<Figure size 432x288 with 1 Axes>"
      ]
     },
     "metadata": {},
     "output_type": "display_data"
    }
   ],
   "source": [
    "weights = (1 / data.shape[0]) * np.ones_like(data_part)\n",
    "n, bins, ignored = plt.hist(data_part, 100, weights=weights, edgecolor='black',\n",
    "                                linewidth=0.5)\n",
    "plt.title('Health Expenditures (Less or equal than 800)')\n",
    "plt.xlabel('Claim Amounts')\n",
    "plt.ylabel('Percent of Observations')\n",
    "\n",
    "x = np.linspace(1e-10, 800, 100)\n",
    "y = 8 * GG_pdf(x, alpha_gg, beta_gg, m_gg)\n",
    "plt.plot(x, y,'k-',\n",
    "         linewidth=2, label='GG Dist')\n",
    "plt.legend(loc='upper left')\n",
    "plt.ylim(0, 0.04)"
   ]
  },
  {
   "cell_type": "markdown",
   "metadata": {},
   "source": [
    "#### Part (d)"
   ]
  },
  {
   "cell_type": "code",
   "execution_count": 20,
   "metadata": {
    "collapsed": true
   },
   "outputs": [],
   "source": [
    "q_guess = 6200\n",
    "a_guess = m_gg\n",
    "b_guess = q_guess**(1/a_guess)*beta_gg\n",
    "p_guess = alpha_gg/m_gg"
   ]
  },
  {
   "cell_type": "code",
   "execution_count": 21,
   "metadata": {
    "collapsed": true
   },
   "outputs": [],
   "source": [
    "def GB2_pdf(xvals, a, b ,p, q):\n",
    "    x = a*xvals**(a*p-1)\n",
    "    y = (b**(a*p))*special.beta(p,q)*((1+(xvals/b)**a)**(p+q))\n",
    "    pdf_vals = x/y\n",
    "    \n",
    "    return pdf_vals\n",
    "\n",
    "def log_lik_GB2(xvals, a, b, p, q):\n",
    "    pdf_vals = GB2_pdf(xvals, a, b, p, q)\n",
    "    ln_pdf_vals = np.log(pdf_vals)\n",
    "    log_lik_val = ln_pdf_vals.sum()\n",
    "    \n",
    "    return log_lik_val\n",
    "\n",
    "def crit_GB2(params, args):\n",
    "    a, b, p, q = params\n",
    "    xvals = args\n",
    "    log_lik_val = log_lik_GB2(xvals, a, b, p, q)\n",
    "    neg_log_lik_val = -log_lik_val\n",
    "    \n",
    "    return neg_log_lik_val"
   ]
  },
  {
   "cell_type": "code",
   "execution_count": 22,
   "metadata": {},
   "outputs": [
    {
     "name": "stdout",
     "output_type": "stream",
     "text": [
      "      fun: 76397.042830277365\n",
      " hess_inv: <4x4 LbfgsInvHessProduct with dtype=float64>\n",
      "      jac: array([-2.7459464 ,  0.        ,  2.61788955,  1.86118996])\n",
      "  message: b'CONVERGENCE: REL_REDUCTION_OF_F_<=_FACTR*EPSMCH'\n",
      "     nfev: 120\n",
      "      nit: 13\n",
      "   status: 0\n",
      "  success: True\n",
      "        x: array([  6.82691194e-01,   1.39353300e+08,   1.04593255e+00,\n",
      "         6.19917275e+03])\n"
     ]
    }
   ],
   "source": [
    "params_guess = (a_guess, b_guess, p_guess, q_guess) \n",
    "\n",
    "gb2_args = data\n",
    "bnds = ((1e-6, None), (1e-6, None), (1e-6, None), (1e-6, None))\n",
    "results = opt.minimize(crit_GB2, params_guess, args=(gb2_args), method ='L-BFGS-B', bounds=bnds)\n",
    "a_gb2, b_gb2, p_gb2, q_gb2 = results.x\n",
    "print(results)"
   ]
  },
  {
   "cell_type": "code",
   "execution_count": 24,
   "metadata": {},
   "outputs": [
    {
     "data": {
      "text/plain": [
       "(0, 0.04)"
      ]
     },
     "execution_count": 24,
     "metadata": {},
     "output_type": "execute_result"
    },
    {
     "data": {
      "image/png": "[encoded data removed]",
      "text/plain": [
       "<Figure size 432x288 with 1 Axes>"
      ]
     },
     "metadata": {},
     "output_type": "display_data"
    }
   ],
   "source": [
    "data_part = np.asarray([x for x in data if x <=800])\n",
    "weights = (1 / data.shape[0]) * np.ones_like(data_part)\n",
    "n, bins, ignored = plt.hist(data_part, 100, weights=weights, edgecolor='black',\n",
    "                                linewidth=0.5)\n",
    "plt.title('Health Expenditures (Less or equal than 800)')\n",
    "plt.xlabel('Claim Amounts')\n",
    "plt.ylabel('Percent of Observations')\n",
    "\n",
    "x = np.linspace(1e-10, 800, 100)\n",
    "y = 8 * GB2_pdf(x, a_gb2, b_gb2, p_gb2, q_gb2)\n",
    "plt.plot(x, y,'k-',\n",
    "         linewidth=2)\n",
    "\n",
    "plt.ylim(0, 0.04)"
   ]
  },
  {
   "cell_type": "markdown",
   "metadata": {},
   "source": [
    "#### Part (d)"
   ]
  },
  {
   "cell_type": "code",
   "execution_count": 25,
   "metadata": {},
   "outputs": [
    {
     "name": "stdout",
     "output_type": "stream",
     "text": [
      "chi squared of H0 with 4 degrees of freedom p-value (Generalized Gamma Distribution) =  0.0\n",
      "chi squared of H0 with 4 degrees of freedom p-value (Gamma Distribution) =  0.0\n"
     ]
    }
   ],
   "source": [
    "GB2 = log_lik_GB2(data, a_gb2, b_gb2, p_gb2, q_gb2)\n",
    "GG = log_lik_GG(data, alpha_gg, beta_gg, m_gg)\n",
    "GA = log_lik_GA(data, alpha_ga, beta_ga)\n",
    "GG_val = abs(2 * (GG - GB2))\n",
    "GA_val = abs(2 * (GA - GB2))\n",
    "pval_GG = 1.0 - sts.chi2.cdf(GA_val, 4)\n",
    "pval_GA = 1.0 - sts.chi2.cdf(GA_val, 4)\n",
    "print('chi squared of H0 with 4 degrees of freedom p-value (Generalized Gamma Distribution) = ', pval_GG)\n",
    "print('chi squared of H0 with 4 degrees of freedom p-value (Gamma Distribution) = ', pval_GA)"
   ]
  },
  {
   "cell_type": "code",
   "execution_count": 26,
   "metadata": {},
   "outputs": [
    {
     "name": "stdout",
     "output_type": "stream",
     "text": [
      "Prediction using GB2: 0.15952542171837628\n",
      "Prediction using GA: 0.45195974447843174\n"
     ]
    }
   ],
   "source": [
    "g1 = lambda x: GB2_pdf(x, a_gb2, b_gb2, p_gb2, q_gb2)\n",
    "g2 = lambda x: GA_pdf(x, alpha_ga, beta_ga)\n",
    "print(\"Prediction using GB2: \"+ str(quad(g1, 1000, np.inf)[0]))\n",
    "print(\"Prediction using GA: \"+ str(quad(g2, 1000, np.inf)[0]))"
   ]
  },
  {
   "cell_type": "markdown",
   "metadata": {},
   "source": [
    "#### Problem 2"
   ]
  },
  {
   "cell_type": "code",
   "execution_count": 27,
   "metadata": {
    "collapsed": true
   },
   "outputs": [],
   "source": [
    "# Import the package\n",
    "from scipy import special\n",
    "from scipy.stats import norm"
   ]
  },
  {
   "cell_type": "code",
   "execution_count": 28,
   "metadata": {
    "collapsed": true
   },
   "outputs": [],
   "source": [
    "# Set parameters\n",
    "alpha_init = 0.4\n",
    "rho_init = 0.7\n",
    "mu_init = 8\n",
    "sigma_init = 0.1\n",
    "params_init = (alpha_init, rho_init, mu_init, sigma_init)"
   ]
  },
  {
   "cell_type": "code",
   "execution_count": 29,
   "metadata": {
    "collapsed": true
   },
   "outputs": [],
   "source": [
    "# Import data\n",
    "data = np.loadtxt('MacroSeries.txt', delimiter=\",\")\n",
    "beta = 0.99\n",
    "c = data[:, 0]\n",
    "k = data[:, 1]\n",
    "w = data[:, 2]\n",
    "r = data[:, 3]"
   ]
  },
  {
   "cell_type": "markdown",
   "metadata": {},
   "source": [
    "#### Part (a)"
   ]
  },
  {
   "cell_type": "code",
   "execution_count": 30,
   "metadata": {
    "collapsed": true
   },
   "outputs": [],
   "source": [
    "#equation 3\n",
    "def get_z(w, k, alpha):\n",
    "\n",
    "    z = np.log(w) - np.log(1 - alpha) - alpha * np.log(k)\n",
    "    \n",
    "    return z\n",
    "def logpdf(z, rho, mu, sigma):\n",
    "    z[0] = mu\n",
    "    mean = rho * z[:-1] + (1 - rho) * mu\n",
    "    logpdf_vals = norm.logpdf(z, np.hstack([mu, mean]), sigma)\n",
    "    \n",
    "    return logpdf_vals"
   ]
  },
  {
   "cell_type": "code",
   "execution_count": 31,
   "metadata": {
    "collapsed": true
   },
   "outputs": [],
   "source": [
    "def crit1(params, *args):\n",
    "   \n",
    "    alpha, rho, mu, sigma = params\n",
    "    w, k  = args\n",
    "    neglogpdf_vals = -(logpdf(get_z(w, k, alpha), rho, mu, sigma).sum())\n",
    "    \n",
    "    return neglogpdf_vals"
   ]
  },
  {
   "cell_type": "code",
   "execution_count": 32,
   "metadata": {},
   "outputs": [
    {
     "name": "stdout",
     "output_type": "stream",
     "text": [
      "      fun: -95.43447335111037\n",
      " hess_inv: <4x4 LbfgsInvHessProduct with dtype=float64>\n",
      "      jac: array([-18.57000882,   0.79145366,  -1.44541872,  -6.6305418 ])\n",
      "  message: b'CONVERGENCE: REL_REDUCTION_OF_F_<=_FACTR*EPSMCH'\n",
      "     nfev: 390\n",
      "      nit: 40\n",
      "   status: 0\n",
      "  success: True\n",
      "        x: array([ 0.80491239,  0.57960268,  5.01565017,  0.09288782])\n"
     ]
    }
   ],
   "source": [
    "args1 = (w, k)\n",
    "bnds = ((1e-6, 1-1e-6), (-1+1e-6, 1-1e-6),(1e-6, None), (1e-6, None))\n",
    "\n",
    "results1 = opt.minimize(crit1, params_init, args=(args1), method ='L-BFGS-B', bounds=bnds)\n",
    "alpha1, rho1, mu1, sigma1 = results1.x\n",
    "print(results1)"
   ]
  },
  {
   "cell_type": "code",
   "execution_count": 33,
   "metadata": {},
   "outputs": [
    {
     "data": {
      "text/plain": [
       "array([[  6.18714190e+01,  -1.10559438e+01,  -7.71659091e+02,\n",
       "         -3.40680013e-01],\n",
       "       [ -1.10559438e+01,   1.32098309e+01,   1.40016714e+02,\n",
       "          3.23312059e+00],\n",
       "       [ -7.71659091e+02,   1.40016714e+02,   9.62452003e+03,\n",
       "          4.84981927e+00],\n",
       "       [ -3.40680013e-01,   3.23312059e+00,   4.84981927e+00,\n",
       "          9.01621055e-01]])"
      ]
     },
     "execution_count": 33,
     "metadata": {},
     "output_type": "execute_result"
    }
   ],
   "source": [
    "results1.hess_inv.todense()"
   ]
  },
  {
   "cell_type": "markdown",
   "metadata": {},
   "source": [
    "#### Part (b)"
   ]
  },
  {
   "cell_type": "code",
   "execution_count": 34,
   "metadata": {
    "collapsed": true
   },
   "outputs": [],
   "source": [
    "def get_z(r, k, alpha):\n",
    "    \n",
    "    z = np.log(r) - np.log(alpha) - (alpha - 1) * np.log(k)\n",
    "    \n",
    "    return z"
   ]
  },
  {
   "cell_type": "code",
   "execution_count": 35,
   "metadata": {
    "collapsed": true
   },
   "outputs": [],
   "source": [
    "def crit2(params, *args):\n",
    "   \n",
    "    alpha, rho, mu, sigma = params\n",
    "    r, k  = args\n",
    "    neglogpdf_vals = -(logpdf(get_z(r, k, alpha), rho, mu, sigma).sum())\n",
    "    \n",
    "    return neglogpdf_vals"
   ]
  },
  {
   "cell_type": "code",
   "execution_count": 36,
   "metadata": {},
   "outputs": [
    {
     "name": "stdout",
     "output_type": "stream",
     "text": [
      "      fun: -95.552985133022403\n",
      " hess_inv: <4x4 LbfgsInvHessProduct with dtype=float64>\n",
      "      jac: array([ -3.23865379e-03,   2.55795385e-05,  -1.81898940e-04,\n",
      "        -1.41113787e-03])\n",
      "  message: b'CONVERGENCE: REL_REDUCTION_OF_F_<=_FACTR*EPSMCH'\n",
      "     nfev: 270\n",
      "      nit: 37\n",
      "   status: 0\n",
      "  success: True\n",
      "        x: array([ 0.85063321,  0.51753245,  2.50438543,  0.09306388])\n"
     ]
    }
   ],
   "source": [
    "args2 = (r, k)\n",
    "results2 = opt.minimize(crit2, params_init, args=(args2), method ='L-BFGS-B', bounds=bnds)\n",
    "alpha2, rho2, mu2, sigma2 = results2.x\n",
    "print(results2)"
   ]
  },
  {
   "cell_type": "code",
   "execution_count": 37,
   "metadata": {},
   "outputs": [
    {
     "data": {
      "text/plain": [
       "array([[  6.18714190e+01,  -1.10559438e+01,  -7.71659091e+02,\n",
       "         -3.40680013e-01],\n",
       "       [ -1.10559438e+01,   1.32098309e+01,   1.40016714e+02,\n",
       "          3.23312059e+00],\n",
       "       [ -7.71659091e+02,   1.40016714e+02,   9.62452003e+03,\n",
       "          4.84981927e+00],\n",
       "       [ -3.40680013e-01,   3.23312059e+00,   4.84981927e+00,\n",
       "          9.01621055e-01]])"
      ]
     },
     "execution_count": 37,
     "metadata": {},
     "output_type": "execute_result"
    }
   ],
   "source": [
    "results1.hess_inv.todense()"
   ]
  },
  {
   "cell_type": "markdown",
   "metadata": {},
   "source": [
    "#### Part (c)"
   ]
  },
  {
   "cell_type": "code",
   "execution_count": 38,
   "metadata": {},
   "outputs": [
    {
     "name": "stdout",
     "output_type": "stream",
     "text": [
      "Probability : 1.0\n"
     ]
    }
   ],
   "source": [
    "z_star = get_z(1, 7500000, alpha2)\n",
    "mean = rho2 * 10 + (1 - rho2) * mu2\n",
    "print('Probability : ' + str(1-norm.cdf(z_star, mean, sigma2)))"
   ]
  },
  {
   "cell_type": "markdown",
   "metadata": {},
   "source": [
    "#### Problem 3"
   ]
  },
  {
   "cell_type": "code",
   "execution_count": 39,
   "metadata": {
    "collapsed": true
   },
   "outputs": [],
   "source": [
    "# Import packages\n",
    "from scipy.integrate import quad\n",
    "from scipy.linalg import pinv"
   ]
  },
  {
   "cell_type": "code",
   "execution_count": 40,
   "metadata": {},
   "outputs": [
    {
     "data": {
      "text/plain": [
       "array([   2500.,    7500.,   12500.,   17500.,   22500.,   27500.,\n",
       "         32500.,   37500.,   42500.,   47500.,   52500.,   57500.,\n",
       "         62500.,   67500.,   72500.,   77500.,   82500.,   87500.,\n",
       "         92500.,   97500.,  102500.,  107500.,  112500.,  117500.,\n",
       "        122500.,  127500.,  132500.,  137500.,  142500.,  147500.,\n",
       "        152500.,  157500.,  162500.,  167500.,  172500.,  177500.,\n",
       "        182500.,  187500.,  192500.,  197500.,  225000.,  300000.])"
      ]
     },
     "execution_count": 40,
     "metadata": {},
     "output_type": "execute_result"
    }
   ],
   "source": [
    "# Import data\n",
    "data = np.loadtxt('usincmoms.txt')\n",
    "data[:,1]"
   ]
  },
  {
   "cell_type": "markdown",
   "metadata": {},
   "source": [
    "#### Part (a)"
   ]
  },
  {
   "cell_type": "code",
   "execution_count": 41,
   "metadata": {},
   "outputs": [
    {
     "data": {
      "text/plain": [
       "Text(0,0.5,'Frequency')"
      ]
     },
     "execution_count": 41,
     "metadata": {},
     "output_type": "execute_result"
    },
    {
     "data": {
      "image/png": "[encoded data removed]",
      "text/plain": [
       "<Figure size 432x288 with 1 Axes>"
      ]
     },
     "metadata": {},
     "output_type": "display_data"
    }
   ],
   "source": [
    "width = np.hstack([np.ones(len(data[:,1]) - 2)*5, 50, 100])\n",
    "left=data[:,1]/1000\n",
    "plt.bar(left, np.hstack([data[:, 0][:-2], data[:, 0][-2]/10, data[:, 0][-1]/20]), width, edgecolor='k')\n",
    "b=np.hstack([data[:, 0][:-2], data[:, 0][-2]/10, data[:, 0][-1]/20])\n",
    "plt.xlabel('Income (in thousands)')\n",
    "plt.ylabel('Frequency')"
   ]
  },
  {
   "cell_type": "markdown",
   "metadata": {},
   "source": [
    "#### Part (b)"
   ]
  },
  {
   "cell_type": "code",
   "execution_count": 42,
   "metadata": {
    "collapsed": true
   },
   "outputs": [],
   "source": [
    "#define weight matrix \n",
    "xvals=data[:,1]\n",
    "data_moments=data[:,0]\n",
    "W = np.diag(data_moments)"
   ]
  },
  {
   "cell_type": "code",
   "execution_count": 43,
   "metadata": {
    "collapsed": true
   },
   "outputs": [],
   "source": [
    "def model_moments_ln(xvals, mu, sigma):\n",
    "    pdf_vals = sts.lognorm.pdf(xvals, s = sigma, scale = np.exp(mu))\n",
    "    \n",
    "    return pdf_vals\n",
    "\n",
    "\n",
    "def err_vec(xvals, data_moments , mu, sigma, simple=False):\n",
    "    g = lambda x: model_moments_ln(x, mu, sigma)\n",
    "    model_moments = np.zeros(len(xvals))\n",
    "    for i in range(len(xvals)):\n",
    "        model_moments[i] = quad(g, xvals[i]-2500, xvals[i] + 2500)[0] \n",
    "    if simple:\n",
    "        err_vec = model_moments - data_moments\n",
    "    else:\n",
    "        err_vec = (model_moments - data_moments) / data_moments\n",
    "    \n",
    "    return err_vec\n",
    "\n",
    "def crit(params, *args): \n",
    "    mu, sigma = params\n",
    "    xvals, data_moments, W = args\n",
    "    err = err_vec(xvals, data_moments, mu, sigma)\n",
    "    crit_val = np.dot(np.dot(err.T, W), err) \n",
    "    \n",
    "    return crit_val"
   ]
  },
  {
   "cell_type": "code",
   "execution_count": 44,
   "metadata": {},
   "outputs": [
    {
     "name": "stdout",
     "output_type": "stream",
     "text": [
      "      fun: 0.062992115913487745\n",
      " hess_inv: <2x2 LbfgsInvHessProduct with dtype=float64>\n",
      "      jac: array([ -4.89885910e-06,   1.10328413e-06])\n",
      "  message: b'CONVERGENCE: NORM_OF_PROJECTED_GRADIENT_<=_PGTOL'\n",
      "     nfev: 21\n",
      "      nit: 6\n",
      "   status: 0\n",
      "  success: True\n",
      "        x: array([ 10.86071336,   1.03705759])\n"
     ]
    }
   ],
   "source": [
    "mean = (xvals * data_moments).sum()\n",
    "sd = ((xvals - mean) ** 2 * data_moments).sum()\n",
    "\n",
    "mu_init = np.log(mean/(np.sqrt(1 + sd/mean ** 2)))\n",
    "sigma_init = np.sqrt(np.log(1 + sd/mean ** 2))\n",
    "\n",
    "bnds = ((None, None), (1e-5, None))\n",
    "params_init = (mu_init, sigma_init)\n",
    "\n",
    "ln_args = (xvals, data_moments, W)\n",
    "results = opt.minimize(crit, params_init, args=(ln_args), bounds = bnds)\n",
    "print(results)\n",
    "mu_ln, sigma_ln = results.x"
   ]
  },
  {
   "cell_type": "code",
   "execution_count": 45,
   "metadata": {},
   "outputs": [
    {
     "name": "stdout",
     "output_type": "stream",
     "text": [
      "Error vector= [ -6.61339682e-01   6.77089678e-02   6.25577698e-03   1.08637342e-01\n",
      "   4.99278458e-02   6.23867243e-02  -3.08256395e-02  -3.72224304e-02\n",
      "  -7.20981869e-02  -1.20057053e-02  -1.41610600e-01  -5.08736547e-02\n",
      "  -1.71732562e-01  -1.27817905e-01  -1.52944150e-01  -1.90725329e-01\n",
      "  -1.56885061e-01  -8.43137893e-02  -1.67026809e-01  -1.15720588e-01\n",
      "  -2.73108331e-01  -4.12853485e-02  -8.76641729e-02  -7.09827715e-02\n",
      "  -1.21011770e-01   7.06090419e-04  -3.18792165e-02   1.90962510e-01\n",
      "  -9.83385980e-03   6.87579996e-02  -2.33848391e-01   1.31262265e-01\n",
      "   1.26743865e-01   2.09080527e-01   1.23762595e-01   2.31092509e-01\n",
      "   3.36080730e-01   5.96287037e-01   4.38966844e-01   6.55287275e-01\n",
      "  -8.33409655e-01  -9.33507367e-01]\n"
     ]
    }
   ],
   "source": [
    "error=err_vec(xvals, data_moments , mu_ln, sigma_ln, simple=False)\n",
    "print('Error vector=', error)"
   ]
  },
  {
   "cell_type": "code",
   "execution_count": 48,
   "metadata": {},
   "outputs": [
    {
     "data": {
      "text/plain": [
       "[<matplotlib.lines.Line2D at 0x1a215d19e8>]"
      ]
     },
     "execution_count": 48,
     "metadata": {},
     "output_type": "execute_result"
    },
    {
     "data": {
      "image/png": "[encoded data removed]",
      "text/plain": [
       "<Figure size 432x288 with 1 Axes>"
      ]
     },
     "metadata": {},
     "output_type": "display_data"
    }
   ],
   "source": [
    "# Plot the histogram of the data\n",
    "width = np.hstack([np.ones(len(data[:,1]) - 2)*5, 50, 100])\n",
    "left=data[:,1]/1000\n",
    "plt.bar(left, np.hstack([data[:, 0][:-2], data[:, 0][-2]/10, data[:, 0][-1]/20]), width, edgecolor='k')\n",
    "b=np.hstack([data[:, 0][:-2], data[:, 0][-2]/10, data[:, 0][-1]/20])\n",
    "plt.xlabel('Income (in thousands)')\n",
    "plt.ylabel('Frequency')\n",
    "\n",
    "# Plot the estimated GMM PDF\n",
    "x=left*1000\n",
    "g = lambda x: model_moments_ln(x, mu_ln, sigma_ln)\n",
    "y = np.zeros(len(xvals))\n",
    "for i in range(len(xvals)):\n",
    "        y[i] = quad(g, x[i]-2500, x[i] + 2500)[0] \n",
    "x=x/1000\n",
    "plt.plot(x, y, color = 'red')"
   ]
  },
  {
   "cell_type": "markdown",
   "metadata": {},
   "source": [
    "#### Part (c)"
   ]
  },
  {
   "cell_type": "code",
   "execution_count": 49,
   "metadata": {
    "collapsed": true
   },
   "outputs": [],
   "source": [
    "alpha_init  = 3\n",
    "beta_init = 20000"
   ]
  },
  {
   "cell_type": "code",
   "execution_count": 50,
   "metadata": {
    "collapsed": true
   },
   "outputs": [],
   "source": [
    "def model_moments_ga(xvals, alpha, beta): \n",
    "    pdf_vals = 1/((beta ** alpha) * special.gamma(alpha)) * (xvals ** (alpha - 1)) * np.exp(-xvals/beta)\n",
    "    \n",
    "    return pdf_vals\n",
    "\n",
    "\n",
    "def err_vec_ga(xvals,  data_moments, alpha, beta, simple=False):\n",
    "    g = lambda x: model_moments_ga(x, alpha, beta)\n",
    "    model_moments = np.zeros(len(xvals))\n",
    "    \n",
    "    for i in range(len(xvals)):\n",
    "        model_moments[i] = quad(g, xvals[i]-2500, xvals[i] + 2500)[0]\n",
    "    if simple:\n",
    "        err_vec = model_moments - data_moments\n",
    "    else:\n",
    "        err_vec = (model_moments - data_moments) / data_moments\n",
    "    \n",
    "    return err_vec\n",
    "\n",
    "def crit_ga(params, *args):\n",
    "    alpha, beta = params\n",
    "    xvals, frequency, W = args\n",
    "    err = err_vec_ga(xvals,  data_moments, alpha, beta)\n",
    "    crit_val = np.dot(np.dot(err.T, W), err) \n",
    "    \n",
    "    return crit_val"
   ]
  },
  {
   "cell_type": "code",
   "execution_count": 51,
   "metadata": {},
   "outputs": [
    {
     "name": "stdout",
     "output_type": "stream",
     "text": [
      "      fun: 0.044024595343090125\n",
      " hess_inv: <2x2 LbfgsInvHessProduct with dtype=float64>\n",
      "      jac: array([  5.85781423e-05,   2.77555756e-09])\n",
      "  message: b'CONVERGENCE: REL_REDUCTION_OF_F_<=_FACTR*EPSMCH'\n",
      "     nfev: 150\n",
      "      nit: 29\n",
      "   status: 0\n",
      "  success: True\n",
      "        x: array([  1.40602644e+00,   4.56026483e+04])\n"
     ]
    }
   ],
   "source": [
    "bnds1 = ((1e-5, None), (1e-5, None))\n",
    "params_init1 = (alpha_init, beta_init)\n",
    "\n",
    "ga_args = (xvals,  data_moments, W)\n",
    "results1 = opt.minimize(crit_ga, params_init1, args=(ga_args), bounds = bnds1)\n",
    "print(results1)\n",
    "alpha_ga, beta_ga = results1.x"
   ]
  },
  {
   "cell_type": "code",
   "execution_count": 52,
   "metadata": {},
   "outputs": [
    {
     "name": "stdout",
     "output_type": "stream",
     "text": [
      "Error vector= [ -4.44975902e-02   2.19133433e-01  -5.84029926e-02   3.00999888e-03\n",
      "  -3.39252172e-02   1.13858389e-02  -4.08990868e-02  -1.01149486e-02\n",
      "  -1.16457717e-02   8.59943165e-02  -3.04744979e-02   9.67435169e-02\n",
      "  -2.50184575e-02   4.15611516e-02   2.21921724e-02  -1.68041478e-02\n",
      "   2.76016216e-02   1.15926678e-01   1.18368638e-02   6.75209100e-02\n",
      "  -1.30332729e-01   1.33771825e-01   6.38060852e-02   6.55632867e-02\n",
      "  -1.04994420e-02   1.03306923e-01   4.32813142e-02   2.52045143e-01\n",
      "   1.36488907e-02   6.35572965e-02  -2.60093095e-01   5.85646341e-02\n",
      "   2.00273255e-02   5.74093912e-02  -5.18896804e-02   6.70224267e-04\n",
      "   4.49408006e-02   1.99756431e-01   3.81039494e-02   1.44920897e-01\n",
      "  -9.10284564e-01  -9.84073853e-01]\n"
     ]
    }
   ],
   "source": [
    "error=err_vec_ga(xvals, data_moments , alpha_ga, beta_ga, simple=False)\n",
    "print('Error vector=', error)"
   ]
  },
  {
   "cell_type": "code",
   "execution_count": 54,
   "metadata": {},
   "outputs": [
    {
     "data": {
      "text/plain": [
       "<matplotlib.legend.Legend at 0x1a211339b0>"
      ]
     },
     "execution_count": 54,
     "metadata": {},
     "output_type": "execute_result"
    },
    {
     "data": {
      "image/png": "[encoded data removed]",
      "text/plain": [
       "<Figure size 432x288 with 1 Axes>"
      ]
     },
     "metadata": {},
     "output_type": "display_data"
    }
   ],
   "source": [
    "# Plot the histogram of the data\n",
    "width = np.hstack([np.ones(len(data[:,1]) - 2)*5, 50, 100])\n",
    "left=data[:,1]/1000\n",
    "plt.bar(left, np.hstack([data[:, 0][:-2], data[:, 0][-2]/10, data[:, 0][-1]/20]), width, edgecolor='k')\n",
    "b=np.hstack([data[:, 0][:-2], data[:, 0][-2]/10, data[:, 0][-1]/20])\n",
    "plt.xlabel('Income (in thousands)')\n",
    "plt.ylabel('Frequency')\n",
    "\n",
    "# Plot the estimated GMM PDF\n",
    "x=left*1000\n",
    "g = lambda x: model_moments_ga(x, alpha_ga, beta_ga)\n",
    "y = np.zeros(len(xvals))\n",
    "for i in range(len(xvals)):\n",
    "        y[i] = quad(g, x[i]-2500, x[i] + 2500)[0] \n",
    "x=x/1000\n",
    "plt.plot(x, y, 'red',label='GA_dist')\n",
    "plt.legend(loc='upperright')"
   ]
  },
  {
   "cell_type": "markdown",
   "metadata": {},
   "source": [
    "#### Part (d)"
   ]
  },
  {
   "cell_type": "code",
   "execution_count": 59,
   "metadata": {},
   "outputs": [
    {
     "data": {
      "text/plain": [
       "<matplotlib.legend.Legend at 0x1a20f70dd8>"
      ]
     },
     "execution_count": 59,
     "metadata": {},
     "output_type": "execute_result"
    },
    {
     "data": {
      "image/png": "[encoded data removed]",
      "text/plain": [
       "<Figure size 432x288 with 1 Axes>"
      ]
     },
     "metadata": {},
     "output_type": "display_data"
    }
   ],
   "source": [
    "# Plot the histogram of the data\n",
    "width = np.hstack([np.ones(len(data[:,1]) - 2)*5, 50, 100])\n",
    "left=data[:,1]/1000\n",
    "plt.bar(left, np.hstack([data[:, 0][:-2], data[:, 0][-2]/10, data[:, 0][-1]/20]), width, edgecolor='k')\n",
    "b=np.hstack([data[:, 0][:-2], data[:, 0][-2]/10, data[:, 0][-1]/20])\n",
    "plt.xlabel('Income (in thousands)')\n",
    "plt.ylabel('Frequency')\n",
    "# Plot the estimated GMM PDF\n",
    "x=left*1000\n",
    "g = lambda x: model_moments_ga(x, alpha_ga, beta_ga)\n",
    "y = np.zeros(len(xvals))\n",
    "for i in range(len(xvals)):\n",
    "        y[i] = quad(g, x[i]-2500, x[i] + 2500)[0] \n",
    "x=x/1000\n",
    "plt.plot(x, y, 'red',label=\"LN_dist\")\n",
    "\n",
    "\n",
    "# Plot the estimated GMM PDF\n",
    "x=left*1000\n",
    "g = lambda x: model_moments_ln(x, mu_ln, sigma_ln)\n",
    "y = np.zeros(len(xvals))\n",
    "for i in range(len(xvals)):\n",
    "        y[i] = quad(g, x[i]-2500, x[i] + 2500)[0] \n",
    "x=x/1000\n",
    "plt.plot(x, y, 'orange',label=\"IN_dist\")\n",
    "plt.legend()"
   ]
  },
  {
   "cell_type": "markdown",
   "metadata": {},
   "source": [
    "#### Part (e)"
   ]
  },
  {
   "cell_type": "code",
   "execution_count": 60,
   "metadata": {},
   "outputs": [
    {
     "name": "stdout",
     "output_type": "stream",
     "text": [
      "      fun: 2.1244347800366548\n",
      " hess_inv: <2x2 LbfgsInvHessProduct with dtype=float64>\n",
      "      jac: array([  4.30766534e-06,  -8.88178420e-08])\n",
      "  message: b'CONVERGENCE: NORM_OF_PROJECTED_GRADIENT_<=_PGTOL'\n",
      "     nfev: 102\n",
      "      nit: 27\n",
      "   status: 0\n",
      "  success: True\n",
      "        x: array([  1.40911189e+00,   4.46590193e+04])\n"
     ]
    }
   ],
   "source": [
    "W = np.identity(42)\n",
    "\n",
    "ga_args1 = (xvals, data_moments, W)\n",
    "results2 = opt.minimize(crit_ga, params_init1, args=(ga_args1), bounds = bnds1)\n",
    "print(results2)\n",
    "alpha_ga2, beta_ga2 = results2.x"
   ]
  },
  {
   "cell_type": "code",
   "execution_count": 63,
   "metadata": {},
   "outputs": [
    {
     "name": "stdout",
     "output_type": "stream",
     "text": [
      "      fun: nan\n",
      " hess_inv: <2x2 LbfgsInvHessProduct with dtype=float64>\n",
      "      jac: array([ -5.67508849e+08,   6.91466779e+05])\n",
      "  message: b'ABNORMAL_TERMINATION_IN_LNSRCH'\n",
      "     nfev: 684\n",
      "      nit: 40\n",
      "   status: 2\n",
      "  success: False\n",
      "        x: array([  1.40911076e+00,   4.46592657e+04])\n"
     ]
    }
   ],
   "source": [
    "e = err_vec_ga(xvals, data_moments, alpha_ga2, beta_ga2)\n",
    "Omega_2 = np.outer(e.T, e) \n",
    "W1 = pinv(Omega_2)\n",
    "params_init2 = (3, 20000)\n",
    "ga_args3 = (xvals, data_moments, W1)\n",
    "results3 = opt.minimize(crit_ga, params_init2, args=(ga_args3), bounds = bnds1)\n",
    "print(results3)\n",
    "alpha_ga3, beta_ga3 = results3.x"
   ]
  },
  {
   "cell_type": "code",
   "execution_count": 64,
   "metadata": {},
   "outputs": [
    {
     "data": {
      "text/plain": [
       "[<matplotlib.lines.Line2D at 0x1a20f0c710>]"
      ]
     },
     "execution_count": 64,
     "metadata": {},
     "output_type": "execute_result"
    },
    {
     "data": {
      "image/png": "[encoded data removed]",
      "text/plain": [
       "<Figure size 432x288 with 1 Axes>"
      ]
     },
     "metadata": {},
     "output_type": "display_data"
    }
   ],
   "source": [
    "width = np.hstack([np.ones(len(data[:,-1]) - 2)*5, 50, 100])\n",
    "\n",
    "plt.bar(left, np.hstack([data[:, 0][:-2], data[:, 0][-2]/10, data[:, 0][-1]/20]), width, edgecolor='k')\n",
    "plt.title('Income in US')\n",
    "plt.xlabel('Income (thousand)')\n",
    "plt.ylabel('Frequency')\n",
    "\n",
    "\n",
    "x=left*1000\n",
    "g = lambda x: model_moments_ga(x,alpha_ga3, beta_ga3)\n",
    "y = np.zeros(len(xvals))\n",
    "for i in range(len(xvals)):\n",
    "        y[i] = quad(g, x[i]-2500, x[i] + 2500)[0] \n",
    "x=x/1000\n",
    "plt.plot(x, y, 'g')"
   ]
  },
  {
   "cell_type": "markdown",
   "metadata": {},
   "source": [
    "#### Problem 4"
   ]
  },
  {
   "cell_type": "code",
   "execution_count": 65,
   "metadata": {
    "collapsed": true
   },
   "outputs": [],
   "source": [
    "# Load data\n",
    "data = np.loadtxt('MacroSeries.txt', delimiter=\",\")\n",
    "c = data[:, 0]\n",
    "k = data[:, 1]\n",
    "w = data[:, 2]\n",
    "r = data[:, 3]"
   ]
  },
  {
   "cell_type": "code",
   "execution_count": 66,
   "metadata": {
    "collapsed": true
   },
   "outputs": [],
   "source": [
    "def get_z(r,k,alpha):\n",
    "    z = np.log(r) - np.log(alpha) - (alpha - 1) * np.log(k)\n",
    "    return z"
   ]
  },
  {
   "cell_type": "code",
   "execution_count": 67,
   "metadata": {
    "collapsed": true
   },
   "outputs": [],
   "source": [
    "def data_moments(c, k, w, r, alpha, beta, rho, mu):\n",
    "    z = get_z(r, k, alpha)\n",
    "    eq7 = z[1:] - rho * z[:-1] - (1 - rho) * mu\n",
    "    eq8 = (z[1:] - rho * z[:-1] - (1 - rho) * mu) * z[:-1]\n",
    "    eq9 = beta * alpha * np.exp(z[1:]) * k[1:] ** (alpha - 1) * c[:-1]/c[1:] - 1\n",
    "    eq10 = (beta * alpha * np.exp(z[1:]) * k[1:] ** (alpha - 1) * c[:-1]/c[1:] - 1) * w[:-1]\n",
    "    \n",
    "    return eq7.mean(), eq8.mean(), eq9.mean(), eq10.mean()\n",
    "\n",
    "def err_vec(c, k, w, r, alpha, beta, rho, mu, simple = True):\n",
    "    mo_moments = np.zeros(4)\n",
    "    da_moments = np.array(data_moments(c, k, w, r, alpha, beta, rho, mu)).reshape(1, 4)\n",
    "    if simple:\n",
    "        err_vec = (mo_moments - da_moments)[0]\n",
    "    else:\n",
    "        err_vec = (mo_moments - da_moments) / da_moments\n",
    "    return err_vec\n",
    "\n",
    "def crit(params, *args):\n",
    "    alpha, beta, rho, mu = params\n",
    "    c, k, w, r, weight  = args\n",
    "    err = err_vec(c, k, w, r, alpha, beta, rho, mu)\n",
    "    crit_val = np.dot(np.dot(err.T, weight), err) \n",
    "    \n",
    "    return crit_val"
   ]
  },
  {
   "cell_type": "code",
   "execution_count": 68,
   "metadata": {},
   "outputs": [
    {
     "name": "stdout",
     "output_type": "stream",
     "text": [
      "      fun: 0.0011455607806731194\n",
      " hess_inv: <4x4 LbfgsInvHessProduct with dtype=float64>\n",
      "      jac: array([ -1.83364434e+00,   3.79576602e+05,  -1.01266593e-02,\n",
      "        -1.03554101e-01])\n",
      "  message: b'CONVERGENCE: REL_REDUCTION_OF_F_<=_FACTR*EPSMCH'\n",
      "     nfev: 310\n",
      "      nit: 34\n",
      "   status: 0\n",
      "  success: True\n",
      "        x: array([ 0.47211116,  0.99      ,  0.73082573,  9.00090032])\n"
     ]
    }
   ],
   "source": [
    "weight = np.identity(4)\n",
    "alpha_init = 0.4\n",
    "beta_init = 0.8\n",
    "rho_init = 0.7\n",
    "mu_init = 9\n",
    "\n",
    "params_init = (alpha_init, beta_init, rho_init, mu_init)\n",
    "bnds = ((1e-5, 1-1e-5), (1e-5, 1-1e-5), (-1+1e-5, 1-1e-5), (1e-5, None))\n",
    "args = (c, k, w, r, weight)\n",
    "results = opt.minimize(crit, params_init, args=(args), bounds = bnds, method = 'L-BFGS-B')\n",
    "print(results)"
   ]
  },
  {
   "cell_type": "markdown",
   "metadata": {},
   "source": [
    "#### Problem 5"
   ]
  },
  {
   "cell_type": "code",
   "execution_count": 69,
   "metadata": {
    "collapsed": true
   },
   "outputs": [],
   "source": [
    "# Import data\n",
    "data = np.loadtxt('MacroSeries.txt', delimiter=\",\")\n",
    "c = data[:, 0]\n",
    "k = data[:, 1]\n",
    "w = data[:, 2]\n",
    "r = data[:, 3]\n",
    "y = data[:, 4]"
   ]
  },
  {
   "cell_type": "code",
   "execution_count": 70,
   "metadata": {
    "collapsed": true
   },
   "outputs": [],
   "source": [
    "weight = np.identity(6)\n",
    "alpha_init = 0.8\n",
    "beta = 0.99\n",
    "rho_init = 0.7\n",
    "mu_init = 0.2\n",
    "sigma_init = 0.2\n",
    "params_init = (alpha_init, rho_init, mu_init, sigma_init)\n",
    "bnds = ((0.01, 0.99), (-0.99, 0.99), (5, 14), (0.01, 1.1))\n",
    "args = (c, k, w, r, y, weight)"
   ]
  },
  {
   "cell_type": "code",
   "execution_count": 71,
   "metadata": {
    "collapsed": true
   },
   "outputs": [],
   "source": [
    "def data_moments(c, k, y):\n",
    "    mean_c = c.mean()\n",
    "    mean_k = k.mean()\n",
    "    cy=c/y\n",
    "    mean_cy = cy.mean()\n",
    "    var_y = y.var()\n",
    "    corr_ck = np.corrcoef(c, k)[0, 1]\n",
    "    corr_c = np.corrcoef(c[1:], c[:-1])[0, 1]\n",
    "    \n",
    "    return mean_c, mean_k, mean_cy, var_y, corr_ck, corr_c"
   ]
  },
  {
   "cell_type": "code",
   "execution_count": 72,
   "metadata": {
    "collapsed": true
   },
   "outputs": [],
   "source": [
    "meank = k.mean()\n",
    "def simulate_moments(alpha, rho, mu, sigma, T=100, S=1000):\n",
    "    z1 = mu\n",
    "    k1 = meank\n",
    "    epsilon = np.random.normal(0, scale=sigma, size=(S, T)) \n",
    "    zmat = np.zeros((S, T))\n",
    "    kmat = np.zeros((S, T))\n",
    "    cmat = np.zeros((S, T))\n",
    "    ymat = np.zeros((S, T))\n",
    "    zmat[:, 0] = z1 * np.ones(S)\n",
    "    kmat[:, 0] = k1 * np.ones(S)\n",
    "    \n",
    "    for i in range(1, T):\n",
    "        zmat[:, i] = rho * zmat[:, i-1] + (1 - rho) * mu + epsilon[:, i]\n",
    "        kmat[:, i] = alpha * beta * np.exp(zmat[:, i]) + kmat[:, i-1] ** alpha\n",
    "    wmat = (1 - alpha) * np.exp(zmat) * kmat ** alpha\n",
    "    rmat = alpha * np.exp(zmat) * kmat ** (alpha - 1)\n",
    "    ymat = np.exp(zmat)*pow(kmat,alpha)\n",
    "    cmat[:, 0] = wmat[:, 0] + rmat[:, 0] * kmat[:, 0]\n",
    "    for i in range(1, T):\n",
    "        cmat[:, i] = wmat[:, i] + rmat[:, i] * kmat[:, i] - kmat[:, i-1]\n",
    "   \n",
    "    \n",
    "   \n",
    "    smean_c = cmat.mean(axis=1).mean()\n",
    "    smean_k = kmat.mean(axis=1).mean()\n",
    "    svar_y = ymat.var(axis=1).mean()\n",
    "    cy = cmat/ymat\n",
    "    smean_cy = cy.mean(axis=1).mean()\n",
    "    corr_ck = np.zeros(T)\n",
    "    corr_c = np.zeros(T - 1)\n",
    "    \n",
    "    for i in range(T):\n",
    "        corr_ck[i] = np.corrcoef(cmat[:, i], kmat[:, i])[0, 1]\n",
    "    for i in range(T-1):\n",
    "        corr_c[i] = np.corrcoef(cmat[1:, i], cmat[:-1, i])[0, 1]  \n",
    "    scorr_ck = corr_ck[2:].mean()\n",
    "    scorr_c = corr_c[1:].mean()\n",
    "    \n",
    "    return smean_c, smean_k, svar_y, smean_cy, scorr_ck, scorr_c"
   ]
  },
  {
   "cell_type": "code",
   "execution_count": 73,
   "metadata": {
    "collapsed": true
   },
   "outputs": [],
   "source": [
    "def err_vec(c, k, w, r, y, alpha, rho, mu, sigma):\n",
    "    mo_moments = np.array(simulate_moments(alpha, rho, mu, sigma))\n",
    "    da_moments = np.array(data_moments(c, k, y))\n",
    "    \n",
    "    err_vec = ((mo_moments - da_moments) / da_moments)\n",
    "    return err_vec\n",
    "\n",
    "def crit(params, *args):\n",
    "    alpha, rho, mu, sigma = params\n",
    "    c, k, w, r, y, weight  = args\n",
    "    err = err_vec(c, k, w, r, y, alpha, rho, mu, sigma)\n",
    "    crit_val = np.dot(np.dot(err.T, weight), err) \n",
    "    \n",
    "    return crit_val"
   ]
  },
  {
   "cell_type": "code",
   "execution_count": 74,
   "metadata": {},
   "outputs": [
    {
     "name": "stdout",
     "output_type": "stream",
     "text": [
      "      fun: 9.5501665706519277e+26\n",
      " hess_inv: <4x4 LbfgsInvHessProduct with dtype=float64>\n",
      "      jac: array([ -9.70015878e+30,   1.23373240e+31,  -1.59790122e+31,\n",
      "        -3.40722951e+31])\n",
      "  message: b'CONVERGENCE: REL_REDUCTION_OF_F_<=_FACTR*EPSMCH'\n",
      "     nfev: 100\n",
      "      nit: 2\n",
      "   status: 0\n",
      "  success: True\n",
      "        x: array([ 0.80000056,  0.70000086,  5.        ,  0.20000266])\n"
     ]
    }
   ],
   "source": [
    "results = opt.minimize(crit, params_init, args=(args), bounds = bnds, method = 'L-BFGS-B')\n",
    "print(results)"
   ]
  },
  {
   "cell_type": "code",
   "execution_count": null,
   "metadata": {
    "collapsed": true
   },
   "outputs": [],
   "source": []
  }
 ],
 "metadata": {
  "kernelspec": {
   "display_name": "Python 3",
   "language": "python",
   "name": "python3"
  },
  "language_info": {
   "codemirror_mode": {
    "name": "ipython",
    "version": 3
   },
   "file_extension": ".py",
   "mimetype": "text/x-python",
   "name": "python",
   "nbconvert_exporter": "python",
   "pygments_lexer": "ipython3",
   "version": "3.6.3"
  }
 },
 "nbformat": 4,
 "nbformat_minor": 2
}
