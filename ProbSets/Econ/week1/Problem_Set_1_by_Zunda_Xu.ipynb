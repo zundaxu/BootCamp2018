{
 "cells": [
  {
   "cell_type": "markdown",
   "metadata": {},
   "source": [
    "# Problem Set 1 -- Dynamic Programming"
   ]
  },
  {
   "cell_type": "markdown",
   "metadata": {},
   "source": [
    "### Name: Zunda Xu ( zunda@uchicago.edu )"
   ]
  },
  {
   "cell_type": "markdown",
   "metadata": {},
   "source": [
    "### Problem 1:"
   ]
  },
  {
   "cell_type": "markdown",
   "metadata": {},
   "source": [
    "#### (1) What are the state variables?"
   ]
  },
  {
   "cell_type": "markdown",
   "metadata": {},
   "source": [
    "**Answer** : The state variables here are the stock of oil $B_{t}$ and the price of the oil $p_{t}$ at time $t$."
   ]
  },
  {
   "cell_type": "markdown",
   "metadata": {},
   "source": [
    "#### (2) What are the control variables?"
   ]
  },
  {
   "cell_type": "markdown",
   "metadata": {},
   "source": [
    "** Answer **: The control variable is the amount of oil $s_{t}$ to sell at time $t$."
   ]
  },
  {
   "cell_type": "markdown",
   "metadata": {},
   "source": [
    "#### (3) What does the transition equation look like?"
   ]
  },
  {
   "cell_type": "markdown",
   "metadata": {},
   "source": [
    "** Answer **: The transition equation is:"
   ]
  },
  {
   "cell_type": "markdown",
   "metadata": {},
   "source": [
    "<t1><center>$B_{t+1} = B_{t} - s_{t}$ </center></t1>"
   ]
  },
  {
   "cell_type": "markdown",
   "metadata": {},
   "source": [
    "#### (4) Write down the sequence problem of the owner. Write down the Bellman equation."
   ]
  },
  {
   "cell_type": "markdown",
   "metadata": {},
   "source": [
    "** Answer **: "
   ]
  },
  {
   "cell_type": "markdown",
   "metadata": {},
   "source": [
    "The sequence problem of the owner is:"
   ]
  },
  {
   "cell_type": "markdown",
   "metadata": {},
   "source": [
    "<t1><center>$\\max E_{t}\\lbrace \\sum^{\\infty}_{i=1} p_{t+i} \\cdot s_{t+i} \\cdot (\\frac{1}{1+r})^{i} \\rbrace$, </center></t1>\n",
    "\n"
   ]
  },
  {
   "cell_type": "markdown",
   "metadata": {},
   "source": [
    "<t1><center> Subject to: for $\\forall i > 0$, $B_{t+i+1} = B_{t+i} - s_{t+i}$, $B_{t} = B$ and $B_{t+i} \\geqslant 0$</center></t1>"
   ]
  },
  {
   "cell_type": "markdown",
   "metadata": {},
   "source": [
    "The Bellman equation is:"
   ]
  },
  {
   "cell_type": "markdown",
   "metadata": {},
   "source": [
    "<t1><center> $V(B) = \\max_{s} \\lbrace p \\cdot s +\\frac{1}{1+r}\\cdot V(B-s) \\rbrace$, </center></t1>"
   ]
  },
  {
   "cell_type": "markdown",
   "metadata": {},
   "source": [
    "#### (5) What does the owner’s Euler equation like?"
   ]
  },
  {
   "cell_type": "markdown",
   "metadata": {},
   "source": [
    "** Answer **:"
   ]
  },
  {
   "cell_type": "markdown",
   "metadata": {},
   "source": [
    "The Euler equation of the owner is:"
   ]
  },
  {
   "cell_type": "markdown",
   "metadata": {},
   "source": [
    "<t1><center> $p_{t+i} = p_{t+i+1} \\cdot (\\frac{1}{1+r})$, </center></t1>"
   ]
  },
  {
   "cell_type": "markdown",
   "metadata": {},
   "source": [
    "#### (6) What would the solution of the problem look like if $p_{t+1} = p_{t}$ for all $t$? What would the solution look like if $p_{t+1} > (1 + r)p_{t}$ for all $t$? What is the condition on the path of prices necessary for an interior solution (where the owner will extract some, but not all, of the oil)?"
   ]
  },
  {
   "cell_type": "markdown",
   "metadata": {},
   "source": [
    "** Answer **:"
   ]
  },
  {
   "cell_type": "markdown",
   "metadata": {},
   "source": [
    "(i) If $p_{t+1} =p_{t}$ for all $t$, in my notation, which means $p_{t+i+1} =p_{t+i}$ for all $i$:"
   ]
  },
  {
   "cell_type": "markdown",
   "metadata": {},
   "source": [
    "Then $s_{t} = B$, which means the owner should sell all the stock of oil today. The reason is that the owner will gain the same absolute payoff from selling a marginal unit in any period. However, since we discount the future, thus the solution for the owner is to sell everything today."
   ]
  },
  {
   "cell_type": "markdown",
   "metadata": {},
   "source": [
    "(ii) If $p_{t+1} > (1+r)p_{t}$ for all $t$, in my notation, which means $p_{t+i+1} > (1+r)p_{t+i}$:"
   ]
  },
  {
   "cell_type": "markdown",
   "metadata": {},
   "source": [
    "Then for $\\forall i, s_{t+i} = 0 $, which ia actually a violation of the transversality condition. Hence, the model is not stationary in this case"
   ]
  },
  {
   "cell_type": "markdown",
   "metadata": {},
   "source": [
    "(iii) The condition on the path of prices necessary for an interior solution is: "
   ]
  },
  {
   "cell_type": "markdown",
   "metadata": {},
   "source": [
    "<t1><center> $p_{t+i} \\cdot (1+r) = p_{t+i+1}$, </center></t1>"
   ]
  },
  {
   "cell_type": "markdown",
   "metadata": {},
   "source": [
    "### Problem 2:"
   ]
  },
  {
   "cell_type": "markdown",
   "metadata": {},
   "source": [
    "#### (1) What is (are) the state variable(s)?"
   ]
  },
  {
   "cell_type": "markdown",
   "metadata": {},
   "source": [
    "** Answer**:"
   ]
  },
  {
   "cell_type": "markdown",
   "metadata": {},
   "source": [
    "The state variables in this model are the capital $k_{t}$ and the shock $z_{t}$ at time $t$."
   ]
  },
  {
   "cell_type": "markdown",
   "metadata": {},
   "source": [
    "#### (2) What are the control variables?"
   ]
  },
  {
   "cell_type": "markdown",
   "metadata": {},
   "source": [
    "** Answer **:"
   ]
  },
  {
   "cell_type": "markdown",
   "metadata": {},
   "source": [
    "The control variable is the Consumption $c_{t}$ at time $t$."
   ]
  },
  {
   "cell_type": "markdown",
   "metadata": {},
   "source": [
    "#### (3) Write down the Bellman Equation that represents this sequence problem."
   ]
  },
  {
   "cell_type": "markdown",
   "metadata": {},
   "source": [
    "** Answer **:"
   ]
  },
  {
   "cell_type": "markdown",
   "metadata": {},
   "source": [
    "The Bellman equation is:"
   ]
  },
  {
   "cell_type": "markdown",
   "metadata": {},
   "source": [
    "<t1><center> $V(k_{t},z_{t}) = \\max_{c^{\\infty}_{t=0}} \\lbrace u(c_{t}) + \\beta E_{t} V(k_{t+1},z_{t+1})\\rbrace$, </center></t1>"
   ]
  },
  {
   "cell_type": "markdown",
   "metadata": {},
   "source": [
    "subject to the resource constraint:"
   ]
  },
  {
   "cell_type": "markdown",
   "metadata": {},
   "source": [
    "<t1><center> $ k_{t+1} + c_{t} = z_{t}k^{\\alpha}_{t} + (1-\\delta)k_{t}$, </center></t1>"
   ]
  },
  {
   "cell_type": "markdown",
   "metadata": {},
   "source": [
    "#### (4) Solve the growth model given the following parameterization."
   ]
  },
  {
   "cell_type": "markdown",
   "metadata": {},
   "source": [
    "** Answer **:"
   ]
  },
  {
   "cell_type": "code",
   "execution_count": 9,
   "metadata": {
    "collapsed": true
   },
   "outputs": [],
   "source": [
    "# Import the library and the package:\n",
    "import numpy as np\n",
    "import matplotlib.pyplot as plt\n",
    "import ar1_approx as ar\n",
    "\n",
    "%matplotlib inline"
   ]
  },
  {
   "cell_type": "code",
   "execution_count": 10,
   "metadata": {
    "collapsed": true
   },
   "outputs": [],
   "source": [
    "# Set the parameters \n",
    "# gamma: Coeﬃcient of Relative Risk Aversion\n",
    "# beta: Discount factor\n",
    "# sigma: Rate of physical depreciation\n",
    "# alpha: Curvature of production function\n",
    "# sigma_z: Standard deviation of productivity shocks\n",
    "\n",
    "gamma = 0.5\n",
    "beta = 0.96\n",
    "delta = 0.05\n",
    "alpha = 0.4\n",
    "sigma_z = 0.2"
   ]
  },
  {
   "cell_type": "code",
   "execution_count": 11,
   "metadata": {},
   "outputs": [],
   "source": [
    "'''\n",
    "------------------------------------------------------------------------\n",
    "Create Grid for State variable - Capital and Shock\n",
    "------------------------------------------------------------------------\n",
    "lb_k   : scalar, lower bound of capital grid\n",
    "ub_k   : scalar, upper bound of capital grid\n",
    "size_k : integer, number of grid points in capital state space\n",
    "k_grid : vector, size_k x 1 vector of capital grid points \n",
    "size_z : integer, number of grid points in shocks state space\n",
    "z_grid : vector, size_z x 1 vector of shock grid points \n",
    "------------------------------------------------------------------------\n",
    "'''\n",
    "lb_k = 10\n",
    "ub_k = 13\n",
    "size_k = 60  # Number of grid points of k\n",
    "size_z = 60 # Number of grid points of z\n",
    "k_grid = np.linspace(lb_k, ub_k, size_k)\n",
    "\n",
    "ln_z_grid, pi = ar.addacooper(size_z, 0, 0, sigma_z)\n",
    "z_grid = np.exp(ln_z_grid)\n",
    "pi_z = np.transpose(pi)"
   ]
  },
  {
   "cell_type": "code",
   "execution_count": 12,
   "metadata": {
    "collapsed": true
   },
   "outputs": [],
   "source": [
    "'''\n",
    "------------------------------------------------------------------------\n",
    "Create grid of current utility values    \n",
    "------------------------------------------------------------------------\n",
    "c   : matrix, current consumption c_t (c_t= z_t*(k_t)^alpha - (k_t+1) + (1-delta)*k_t)\n",
    "u   : matrix, current period utility value for all possible choices of w and w' \n",
    "     (rows are w, columns w')\n",
    "------------------------------------------------------------------------\n",
    "'''\n",
    "\n",
    "c = np.zeros((size_k, size_k, size_z))\n",
    "for i in range(size_k): \n",
    "    for j in range(size_k): \n",
    "        for m in range(size_z): \n",
    "            c[i, j, m] = z_grid[m]* k_grid[i]**alpha - k_grid[j] + (1 - delta)*k_grid[i]\n",
    "\n",
    "# replace 0 and negative consumption with a tiny value \n",
    "c[c<=0] = 1e-15\n",
    "if gamma == 1:\n",
    "    u = np.log(c)\n",
    "else:\n",
    "    u = (c ** (1 - gamma)) / (1 - gamma)\n",
    "u[c<0] = -9999999"
   ]
  },
  {
   "cell_type": "markdown",
   "metadata": {},
   "source": [
    "** Using VFI(value function iteration)**"
   ]
  },
  {
   "cell_type": "code",
   "execution_count": 15,
   "metadata": {},
   "outputs": [
    {
     "name": "stdout",
     "output_type": "stream",
     "text": [
      "The distance at 1 iteration is 7.0\n",
      "The distance at 2 iteration is 5.2679396139508\n",
      "The distance at 3 iteration is 3.090559199888121\n",
      "The distance at 4 iteration is 2.8002506796346065\n",
      "The distance at 5 iteration is 2.616099018915172\n",
      "The distance at 6 iteration is 2.4819149199332333\n",
      "The distance at 7 iteration is 2.3694428068908024\n",
      "The distance at 8 iteration is 2.2676731839886557\n",
      "The distance at 9 iteration is 2.1728573957174575\n",
      "The distance at 10 iteration is 2.0833540823576087\n",
      "The distance at 11 iteration is 1.9983072808102307\n",
      "The distance at 12 iteration is 1.9172031866428512\n",
      "The distance at 13 iteration is 1.8396868204592671\n",
      "The distance at 14 iteration is 1.7655013414361989\n",
      "The distance at 15 iteration is 1.6944451582581088\n",
      "The distance at 16 iteration is 1.6263428928414\n",
      "The distance at 17 iteration is 1.5610464470134104\n",
      "The distance at 18 iteration is 1.498419486504062\n",
      "The distance at 19 iteration is 1.4383416836174803\n",
      "The distance at 20 iteration is 1.38070064872759\n",
      "The distance at 21 iteration is 1.325389435705162\n",
      "The distance at 22 iteration is 1.2723095460721368\n",
      "The distance at 23 iteration is 1.2213672397096218\n",
      "The distance at 24 iteration is 1.1724735127413197\n",
      "The distance at 25 iteration is 1.1255441171901737\n",
      "The distance at 26 iteration is 1.0804985480573706\n",
      "The distance at 27 iteration is 1.0372599523920911\n",
      "The distance at 28 iteration is 0.9957549403480144\n",
      "The distance at 29 iteration is 0.9559132729751525\n",
      "The distance at 30 iteration is 0.9176677308448191\n",
      "The distance at 31 iteration is 0.8809539320942861\n",
      "The distance at 32 iteration is 0.8457101940262746\n",
      "The distance at 33 iteration is 0.8118773897855149\n",
      "The distance at 34 iteration is 0.7793988313135145\n",
      "The distance at 35 iteration is 0.7482201505501251\n",
      "The distance at 36 iteration is 0.7182891952227592\n",
      "The distance at 37 iteration is 0.6895559331344288\n",
      "The distance at 38 iteration is 0.6619723603310348\n",
      "The distance at 39 iteration is 0.6354924134683841\n",
      "The distance at 40 iteration is 0.6100718873458746\n",
      "The distance at 41 iteration is 0.5856683577630051\n",
      "The distance at 42 iteration is 0.5622411076627998\n",
      "The distance at 43 iteration is 0.5397510566493651\n",
      "The distance at 44 iteration is 0.5181606936847629\n",
      "The distance at 45 iteration is 0.4974340129955266\n",
      "The distance at 46 iteration is 0.4775364529440793\n",
      "The distance at 47 iteration is 0.4584348374183591\n",
      "The distance at 48 iteration is 0.44009731974140465\n",
      "The distance at 49 iteration is 0.42249332898389724\n",
      "The distance at 50 iteration is 0.4055935185362358\n",
      "The distance at 51 iteration is 0.38936971682149135\n",
      "The distance at 52 iteration is 0.3737948800465176\n",
      "The distance at 53 iteration is 0.3588430468964816\n",
      "The distance at 54 iteration is 0.3444892950828944\n",
      "The distance at 55 iteration is 0.3307096996612344\n",
      "The distance at 56 iteration is 0.3174812930418227\n",
      "The distance at 57 iteration is 0.3047820266202308\n",
      "The distance at 58 iteration is 0.29259073395832047\n",
      "The distance at 59 iteration is 0.280887095450737\n",
      "The distance at 60 iteration is 0.26965160441463354\n",
      "The distance at 61 iteration is 0.2588655345434745\n",
      "The distance at 62 iteration is 0.24851090866920345\n",
      "The distance at 63 iteration is 0.2385704687781498\n",
      "The distance at 64 iteration is 0.22902764723079372\n",
      "The distance at 65 iteration is 0.21986653913555188\n",
      "The distance at 66 iteration is 0.2110718758297594\n",
      "The distance at 67 iteration is 0.20262899942350998\n",
      "The distance at 68 iteration is 0.19452383836332388\n",
      "The distance at 69 iteration is 0.1867428839742047\n",
      "The distance at 70 iteration is 0.17927316794106218\n",
      "The distance at 71 iteration is 0.17210224069148694\n",
      "The distance at 72 iteration is 0.16521815064419343\n",
      "The distance at 73 iteration is 0.15860942428739122\n",
      "The distance at 74 iteration is 0.1522650470546978\n",
      "The distance at 75 iteration is 0.14617444496641951\n",
      "The distance at 76 iteration is 0.14032746700522125\n",
      "The distance at 77 iteration is 0.13471436819675375\n",
      "The distance at 78 iteration is 0.12932579336771255\n",
      "The distance at 79 iteration is 0.12415276155316235\n",
      "The distance at 80 iteration is 0.11918665102805903\n",
      "The distance at 81 iteration is 0.11441918493724756\n",
      "The distance at 82 iteration is 0.10984241750058743\n",
      "The distance at 83 iteration is 0.10544872076961553\n",
      "The distance at 84 iteration is 0.10123077191445873\n",
      "The distance at 85 iteration is 0.09718154101864229\n",
      "The distance at 86 iteration is 0.09329427936266654\n",
      "The distance at 87 iteration is 0.0895625081762148\n",
      "The distance at 88 iteration is 0.0859800078397086\n",
      "The distance at 89 iteration is 0.08254080751865445\n",
      "The distance at 90 iteration is 0.07923917521202384\n",
      "The distance at 91 iteration is 0.07606960819890674\n",
      "The distance at 92 iteration is 0.07302682386726644\n",
      "The distance at 93 iteration is 0.07010575090968985\n",
      "The distance at 94 iteration is 0.06730152087105523\n",
      "The distance at 95 iteration is 0.06460946003440426\n",
      "The distance at 96 iteration is 0.06202508163163145\n",
      "The distance at 97 iteration is 0.0595440783652208\n",
      "The distance at 98 iteration is 0.05716231522970361\n",
      "The distance at 99 iteration is 0.05487582261983448\n",
      "The distance at 100 iteration is 0.05268078971448631\n",
      "The distance at 101 iteration is 0.05057355812549247\n",
      "The distance at 102 iteration is 0.04855061580011011\n",
      "The distance at 103 iteration is 0.04660859116785332\n",
      "The distance at 104 iteration is 0.04474424752095274\n",
      "The distance at 105 iteration is 0.04295447761992932\n",
      "The distance at 106 iteration is 0.04123629851497412\n",
      "The distance at 107 iteration is 0.0395868465742808\n",
      "The distance at 108 iteration is 0.038003372711244765\n",
      "The distance at 109 iteration is 0.03648323780274154\n",
      "The distance at 110 iteration is 0.035023908290568784\n",
      "The distance at 111 iteration is 0.03362295195890397\n",
      "The distance at 112 iteration is 0.03227803388051598\n",
      "The distance at 113 iteration is 0.030986912525264643\n",
      "The distance at 114 iteration is 0.02974743602422336\n",
      "The distance at 115 iteration is 0.02855753858325727\n",
      "The distance at 116 iteration is 0.027415237039917884\n",
      "The distance at 117 iteration is 0.026318627558325147\n",
      "The distance at 118 iteration is 0.025265882455997257\n",
      "The distance at 119 iteration is 0.024255247157739745\n",
      "The distance at 120 iteration is 0.02328503727143527\n",
      "The distance at 121 iteration is 0.022353635780575587\n",
      "The distance at 122 iteration is 0.02145949034937189\n",
      "The distance at 123 iteration is 0.020601110735370298\n",
      "The distance at 124 iteration is 0.019777066305977087\n",
      "The distance at 125 iteration is 0.01898598365373516\n",
      "The distance at 126 iteration is 0.01822654430758064\n",
      "The distance at 127 iteration is 0.017497482535262066\n",
      "The distance at 128 iteration is 0.01679758323385272\n",
      "The distance at 129 iteration is 0.016125679904519075\n",
      "The distance at 130 iteration is 0.015480652708347975\n",
      "The distance at 131 iteration is 0.014861426600020877\n",
      "The distance at 132 iteration is 0.01426696953600981\n",
      "The distance at 133 iteration is 0.013696290754580787\n",
      "The distance at 134 iteration is 0.013148439124393008\n",
      "The distance at 135 iteration is 0.012622501559405919\n",
      "The distance at 136 iteration is 0.012117601497067199\n",
      "The distance at 137 iteration is 0.011632897437152678\n",
      "The distance at 138 iteration is 0.011167581539694993\n",
      "The distance at 139 iteration is 0.010720878278121404\n",
      "The distance at 140 iteration is 0.010292043146989727\n",
      "The distance at 141 iteration is 0.009880361421096495\n",
      "The distance at 142 iteration is 0.009485146964266278\n",
      "The distance at 143 iteration is 0.0091057410856763\n",
      "The distance at 144 iteration is 0.00874151144226687\n",
      "The distance at 145 iteration is 0.008391850984551752\n",
      "The distance at 146 iteration is 0.008056176945189009\n",
      "The distance at 147 iteration is 0.00773392986739907\n",
      "The distance at 148 iteration is 0.007424572672675822\n",
      "The distance at 149 iteration is 0.007127589765815401\n",
      "The distance at 150 iteration is 0.006842486175159479\n",
      "The distance at 151 iteration is 0.006568786728152531\n",
      "The distance at 152 iteration is 0.006306035259029841\n",
      "The distance at 153 iteration is 0.006053793848678879\n",
      "The distance at 154 iteration is 0.005811642094741387\n",
      "The distance at 155 iteration is 0.005579176410947184\n",
      "The distance at 156 iteration is 0.005356009354485991\n",
      "The distance at 157 iteration is 0.005141768980323036\n",
      "The distance at 158 iteration is 0.004936098221136831\n"
     ]
    },
    {
     "name": "stdout",
     "output_type": "stream",
     "text": [
      "The distance at 159 iteration is 0.004738654292268052\n",
      "The distance at 160 iteration is 0.004549108120599499\n",
      "The distance at 161 iteration is 0.004367143795775519\n",
      "The distance at 162 iteration is 0.004192458043945635\n",
      "The distance at 163 iteration is 0.004024759722199178\n",
      "The distance at 164 iteration is 0.003863769333293021\n",
      "The distance at 165 iteration is 0.0037092185599760796\n",
      "The distance at 166 iteration is 0.0035608498175747627\n",
      "The distance at 167 iteration is 0.003418415824882004\n",
      "The distance at 168 iteration is 0.0032816791918861554\n",
      "The distance at 169 iteration is 0.003150412024211846\n",
      "The distance at 170 iteration is 0.003024395543249625\n",
      "The distance at 171 iteration is 0.00290341972151964\n",
      "The distance at 172 iteration is 0.002787282932672497\n",
      "The distance at 173 iteration is 0.0026757916153457018\n",
      "The distance at 174 iteration is 0.00256875995074779\n",
      "The distance at 175 iteration is 0.0024660095527480053\n",
      "The distance at 176 iteration is 0.0023673691706278532\n",
      "The distance at 177 iteration is 0.0022726744037981916\n",
      "The distance at 178 iteration is 0.002181767427643422\n",
      "The distance at 179 iteration is 0.002094496730535411\n",
      "The distance at 180 iteration is 0.002010716861335027\n",
      "The distance at 181 iteration is 0.0019302881868696886\n",
      "The distance at 182 iteration is 0.001853076659386943\n",
      "The distance at 183 iteration is 0.001778953593031929\n",
      "The distance at 184 iteration is 0.0017077954493061043\n",
      "The distance at 185 iteration is 0.0016394836313367023\n",
      "The distance at 186 iteration is 0.0015739042861042662\n",
      "The distance at 187 iteration is 0.0015109481146424741\n",
      "The distance at 188 iteration is 0.0014505101900397221\n",
      "The distance at 189 iteration is 0.0013924897824892923\n",
      "The distance at 190 iteration is 0.0013367901911749414\n",
      "The distance at 191 iteration is 0.0012833185835319227\n",
      "The distance at 192 iteration is 0.0012319858401781403\n",
      "The distance at 193 iteration is 0.0011827064065812465\n",
      "The distance at 194 iteration is 0.0011353981503248178\n",
      "The distance at 195 iteration is 0.0010899822243004564\n",
      "The distance at 196 iteration is 0.0010463829353568599\n",
      "The distance at 197 iteration is 0.0010045276179369012\n",
      "The distance at 198 iteration is 0.00096434651322852\n",
      "The distance at 199 iteration is 0.000925772652692558\n",
      "The distance at 200 iteration is 0.0008887417465928138\n",
      "The distance at 201 iteration is 0.0008531920767325119\n",
      "The distance at 202 iteration is 0.0008190643936671904\n",
      "The distance at 203 iteration is 0.0007863018179108394\n",
      "The distance at 204 iteration is 0.0007548497451921321\n",
      "The distance at 205 iteration is 0.000724655755391268\n",
      "The distance at 206 iteration is 0.0006956695251858491\n",
      "The distance at 207 iteration is 0.000667842744192626\n",
      "The distance at 208 iteration is 0.0006411290344061626\n",
      "The distance at 209 iteration is 0.0006154838730765277\n",
      "The distance at 210 iteration is 0.0005908645181023076\n",
      "The distance at 211 iteration is 0.0005672299374168688\n",
      "The distance at 212 iteration is 0.0005445407398951829\n",
      "The distance at 213 iteration is 0.0005227591103249551\n",
      "The distance at 214 iteration is 0.0005018487459409471\n",
      "The distance at 215 iteration is 0.0004817747960714769\n",
      "The distance at 216 iteration is 0.0004625038042433971\n",
      "The distance at 217 iteration is 0.0004440036520350077\n",
      "The distance at 218 iteration is 0.0004262435059558811\n",
      "The distance at 219 iteration is 0.0004091937657477729\n",
      "The distance at 220 iteration is 0.00039282601511558823\n",
      "The distance at 221 iteration is 0.0003771129745189228\n",
      "The distance at 222 iteration is 0.00036202845554100804\n",
      "The distance at 223 iteration is 0.00034754731731823085\n",
      "The distance at 224 iteration is 0.00033364542466074454\n",
      "The distance at 225 iteration is 0.0003202996076367981\n",
      "The distance at 226 iteration is 0.0003074876233313262\n",
      "The distance at 227 iteration is 0.0002951881184287686\n",
      "The distance at 228 iteration is 0.0002833805936859335\n",
      "The distance at 229 iteration is 0.0002720453699112113\n",
      "The distance at 230 iteration is 0.0002611635551090785\n",
      "The distance at 231 iteration is 0.0002507170129604219\n",
      "The distance at 232 iteration is 0.00024068833245394217\n",
      "The distance at 233 iteration is 0.00023106079913759459\n",
      "The distance at 234 iteration is 0.00022181836713741632\n",
      "The distance at 235 iteration is 0.00021294563248375198\n",
      "The distance at 236 iteration is 0.00020442780717644382\n",
      "The distance at 237 iteration is 0.00019625069491269187\n",
      "The distance at 238 iteration is 0.00018840066707070946\n",
      "The distance at 239 iteration is 0.00018086464041289219\n",
      "The distance at 240 iteration is 0.00017363005481740856\n",
      "The distance at 241 iteration is 0.00016668485264403898\n",
      "The distance at 242 iteration is 0.00016001745851212945\n",
      "The distance at 243 iteration is 0.00015361676014435943\n",
      "The distance at 244 iteration is 0.00014747208977894388\n",
      "The distance at 245 iteration is 0.00014157320617869118\n",
      "The distance at 246 iteration is 0.0001359102779474597\n",
      "The distance at 247 iteration is 0.00013047386683240347\n",
      "The distance at 248 iteration is 0.00012525491219150808\n",
      "The distance at 249 iteration is 0.00012024471566007833\n",
      "The distance at 250 iteration is 0.00011543492703935954\n",
      "The distance at 251 iteration is 0.00011081752995778515\n",
      "The distance at 252 iteration is 0.0001063848287685687\n",
      "The distance at 253 iteration is 0.00010212943561782595\n",
      "The distance at 254 iteration is 9.804425820902907e-05\n",
      "The distance at 255 iteration is 9.412248786588862e-05\n",
      "The distance at 256 iteration is 9.035758836262175e-05\n",
      "The distance at 257 iteration is 8.674328483948557e-05\n",
      "The distance at 258 iteration is 8.327355345727483e-05\n",
      "The distance at 259 iteration is 7.994261132182601e-05\n",
      "The distance at 260 iteration is 7.674490683484692e-05\n",
      "The distance at 261 iteration is 7.367511058475884e-05\n",
      "The distance at 262 iteration is 7.072810618069525e-05\n",
      "The distance at 263 iteration is 6.789898191073007e-05\n",
      "The distance at 264 iteration is 6.518302264169051e-05\n",
      "The distance at 265 iteration is 6.257570176160243e-05\n",
      "The distance at 266 iteration is 6.0072673676359045e-05\n",
      "The distance at 267 iteration is 5.766976674692614e-05\n",
      "The distance at 268 iteration is 5.536297607022789e-05\n",
      "The distance at 269 iteration is 5.314845699899706e-05\n",
      "The distance at 270 iteration is 5.10225187326796e-05\n",
      "The distance at 271 iteration is 4.8981618007815086e-05\n",
      "The distance at 272 iteration is 4.702235328579718e-05\n",
      "The distance at 273 iteration is 4.5141459139586004e-05\n",
      "The distance at 274 iteration is 4.333580079673993e-05\n",
      "The distance at 275 iteration is 4.1602368767712505e-05\n",
      "The distance at 276 iteration is 3.9938273985740125e-05\n",
      "The distance at 277 iteration is 3.8340743046205716e-05\n",
      "The distance at 278 iteration is 3.680711331810471e-05\n",
      "The distance at 279 iteration is 3.5334828780264615e-05\n",
      "The distance at 280 iteration is 3.392143565861261e-05\n",
      "The distance at 281 iteration is 3.256457824818426e-05\n",
      "The distance at 282 iteration is 3.126199513303618e-05\n",
      "The distance at 283 iteration is 3.0011515292471813e-05\n",
      "The distance at 284 iteration is 2.8811054733068886e-05\n",
      "The distance at 285 iteration is 2.7658612552272643e-05\n",
      "The distance at 286 iteration is 2.655226801095978e-05\n",
      "The distance at 287 iteration is 2.5490177307574413e-05\n",
      "The distance at 288 iteration is 2.447057018173382e-05\n",
      "The distance at 289 iteration is 2.3491747398907137e-05\n",
      "The distance at 290 iteration is 2.2552077510340496e-05\n",
      "The distance at 291 iteration is 2.1649994408790008e-05\n",
      "The distance at 292 iteration is 2.0783994614248513e-05\n",
      "The distance at 293 iteration is 1.995263488652199e-05\n",
      "The distance at 294 iteration is 1.9154529468323744e-05\n",
      "The distance at 295 iteration is 1.8388348294706702e-05\n",
      "The distance at 296 iteration is 1.7652814335633593e-05\n",
      "The distance at 297 iteration is 1.6946701791198393e-05\n",
      "The distance at 298 iteration is 1.626883368999188e-05\n",
      "The distance at 299 iteration is 1.5618080354329322e-05\n",
      "The distance at 300 iteration is 1.4993357183357148e-05\n",
      "The distance at 301 iteration is 1.43936228766961e-05\n",
      "The distance at 302 iteration is 1.3817877984934057e-05\n",
      "The distance at 303 iteration is 1.3265162863262958e-05\n",
      "The distance at 304 iteration is 1.2734556321447599e-05\n",
      "The distance at 305 iteration is 1.2225174089053326e-05\n",
      "The distance at 306 iteration is 1.1736167124354324e-05\n",
      "The distance at 307 iteration is 1.1266720477465242e-05\n"
     ]
    },
    {
     "name": "stdout",
     "output_type": "stream",
     "text": [
      "The distance at 308 iteration is 1.0816051627671186e-05\n",
      "The distance at 309 iteration is 1.0383409573933022e-05\n",
      "The distance at 310 iteration is 9.968073186428228e-06\n",
      "The distance at 311 iteration is 9.56935026863448e-06\n",
      "The distance at 312 iteration is 9.186576249931022e-06\n",
      "The distance at 313 iteration is 8.819113219260544e-06\n",
      "The distance at 314 iteration is 8.46634868878482e-06\n",
      "The distance at 315 iteration is 8.127694741233427e-06\n",
      "The distance at 316 iteration is 7.802586935667932e-06\n",
      "The distance at 317 iteration is 7.490483483252319e-06\n",
      "The distance at 318 iteration is 7.190864138806319e-06\n",
      "The distance at 319 iteration is 6.903229575527803e-06\n",
      "The distance at 320 iteration is 6.627100390232954e-06\n",
      "The distance at 321 iteration is 6.36201639281353e-06\n",
      "The distance at 322 iteration is 6.107535739374725e-06\n",
      "The distance at 323 iteration is 5.863234306957565e-06\n",
      "The distance at 324 iteration is 5.628704940363605e-06\n",
      "The distance at 325 iteration is 5.403556741612192e-06\n",
      "The distance at 326 iteration is 5.1874144872954275e-06\n",
      "The distance at 327 iteration is 4.979917889613716e-06\n",
      "The distance at 328 iteration is 4.780721184260983e-06\n",
      "The distance at 329 iteration is 4.589492320405952e-06\n",
      "The distance at 330 iteration is 4.405912648053345e-06\n",
      "The distance at 331 iteration is 4.229676122236015e-06\n",
      "The distance at 332 iteration is 4.060489104062981e-06\n",
      "The distance at 333 iteration is 3.8980695364898565e-06\n",
      "The distance at 334 iteration is 3.7421467737885905e-06\n",
      "The distance at 335 iteration is 3.5924608994264418e-06\n",
      "The distance at 336 iteration is 3.4487624702705943e-06\n",
      "The distance at 337 iteration is 3.3108119623648236e-06\n",
      "The distance at 338 iteration is 3.1783795293449657e-06\n",
      "The distance at 339 iteration is 3.051244306107037e-06\n",
      "The distance at 340 iteration is 2.9291945367049266e-06\n",
      "The distance at 341 iteration is 2.8120267643316765e-06\n",
      "The distance at 342 iteration is 2.699545689210936e-06\n",
      "The distance at 343 iteration is 2.5915638559581566e-06\n",
      "The distance at 344 iteration is 2.4879013267309347e-06\n",
      "The distance at 345 iteration is 2.3883852691142238e-06\n",
      "The distance at 346 iteration is 2.292849870855207e-06\n",
      "The distance at 347 iteration is 2.2011358851159457e-06\n",
      "The distance at 348 iteration is 2.1130904599431233e-06\n",
      "The distance at 349 iteration is 2.028566825629241e-06\n",
      "The distance at 350 iteration is 1.947424166814926e-06\n",
      "The distance at 351 iteration is 1.8695272103741445e-06\n",
      "The distance at 352 iteration is 1.7947460975165086e-06\n",
      "The distance at 353 iteration is 1.7229562843112944e-06\n",
      "The distance at 354 iteration is 1.654038015885817e-06\n",
      "The distance at 355 iteration is 1.5878764969556869e-06\n",
      "The distance at 356 iteration is 1.5243614512883141e-06\n",
      "The distance at 357 iteration is 1.4633869653835063e-06\n",
      "The distance at 358 iteration is 1.4048515311060328e-06\n",
      "The distance at 359 iteration is 1.3486574630405812e-06\n",
      "The distance at 360 iteration is 1.294711182708852e-06\n",
      "The distance at 361 iteration is 1.242922735400498e-06\n",
      "The distance at 362 iteration is 1.1932058043839788e-06\n",
      "The distance at 363 iteration is 1.1454775687980145e-06\n",
      "The distance at 364 iteration is 1.099658490488764e-06\n",
      "The distance at 365 iteration is 1.0556721292687143e-06\n",
      "The distance at 366 iteration is 1.0134452850252273e-06\n",
      "Value function converged after this many iterations: 367\n"
     ]
    }
   ],
   "source": [
    "'''\n",
    "------------------------------------------------------------------------\n",
    "Value Function Iteration    \n",
    "------------------------------------------------------------------------\n",
    "VFtol     : scalar, tolerance required for value function to converge\n",
    "VFdist    : scalar, distance between last two value functions\n",
    "VFmaxiter : integer, maximum number of iterations for value function\n",
    "V         : vector, the value functions at each iteration\n",
    "Vmat      : matrix, the value for each possible combination of w and w'\n",
    "Vstore    : matrix, stores V at each iteration \n",
    "VFiter    : integer, current iteration number\n",
    "TV        : vector, the value function after applying the Bellman operator\n",
    "PF        : vector, indicies of choices of w' for all w \n",
    "VF        : vector, the \"true\" value function\n",
    "------------------------------------------------------------------------\n",
    "'''\n",
    "VFtol = 1e-6 \n",
    "VFdist = 7.0 \n",
    "VFmaxiter = 500 \n",
    "# initial guess at value function\n",
    "V = np.zeros((size_k, size_z)) \n",
    "# initialize Vmat matrix\n",
    "Vmat = np.zeros((size_k, size_k, size_z))\n",
    "#initialize Vstore array\n",
    "Vstore = np.zeros((size_k, size_z, VFmaxiter)) \n",
    "VFiter = 1 \n",
    "while VFdist > VFtol and VFiter < VFmaxiter:\n",
    "    print(\"The distance at {} iteration is {}\".format(VFiter, VFdist))\n",
    "    # loop over k_t\n",
    "    for i in range(size_k): \n",
    "        # loop over k_t+1\n",
    "        for j in range(size_k):\n",
    "            #loop over z_t\n",
    "            for m in range(size_z): \n",
    "                EV = 0\n",
    "                for n in range(size_z):\n",
    "                    EV += pi_z[m, n]*V[j, n]\n",
    "                Vmat[i, j, m] = u[i, j, m] + beta * EV\n",
    "    # store value function at each iteration for graphing later            \n",
    "    Vstore[:,:, VFiter] = V.reshape(size_k, size_z,) \n",
    "    TV = Vmat.max(1)\n",
    "    PF = np.argmax(Vmat, axis=1)\n",
    "    VFdist = (np.absolute(V - TV)).max()\n",
    "    V = TV\n",
    "    VFiter += 1\n",
    "    \n",
    "if VFiter < VFmaxiter:\n",
    "    print('Value function converged after this many iterations:', VFiter)\n",
    "else:\n",
    "    print('Value function did not converge') \n",
    "    \n",
    "# solution to the functional equation    \n",
    "VF = V "
   ]
  },
  {
   "cell_type": "code",
   "execution_count": 18,
   "metadata": {},
   "outputs": [
    {
     "data": {
      "text/plain": [
       "<Figure size 432x288 with 0 Axes>"
      ]
     },
     "metadata": {},
     "output_type": "display_data"
    },
    {
     "data": {
      "image/png": "[encoded data removed]",
      "text/plain": [
       "<Figure size 432x288 with 1 Axes>"
      ]
     },
     "metadata": {},
     "output_type": "display_data"
    }
   ],
   "source": [
    "# Plot value function\n",
    "plt.figure()\n",
    "fig, ax = plt.subplots()\n",
    "ax.plot(k_grid[1:], VF[1:, 0], label='$z$ = ' + str(round(z_grid[0],4)))\n",
    "ax.plot(k_grid[1:], VF[1:, 10], label='$z$ = ' + str(round(z_grid[10],4)))\n",
    "ax.plot(k_grid[1:], VF[1:, 15], label='$z$ = ' + str(round(z_grid[15],4)))\n",
    "ax.plot(k_grid[1:], VF[1:, 20], label='$z$ = ' + str(round(z_grid[20],4)))\n",
    "ax.plot(k_grid[1:], VF[1:, (size_z-1)], label='$z$ = ' + str(round(z_grid[(size_z-1)],4)))\n",
    "# Now add the legend with some customizations.\n",
    "legend = ax.legend(loc='lower right', shadow=False)\n",
    "# Set the fontsize\n",
    "for label in legend.get_texts():\n",
    "    label.set_fontsize('large')\n",
    "for label in legend.get_lines():\n",
    "    label.set_linewidth(1.5)  # the legend line width\n",
    "plt.xlabel('Size of Capital')\n",
    "plt.ylabel('Value Function')\n",
    "plt.title('Value Function -- The Neoclassical Growth Model')\n",
    "plt.show()"
   ]
  },
  {
   "cell_type": "code",
   "execution_count": 19,
   "metadata": {},
   "outputs": [
    {
     "data": {
      "text/plain": [
       "<Figure size 432x288 with 0 Axes>"
      ]
     },
     "metadata": {},
     "output_type": "display_data"
    },
    {
     "data": {
      "image/png": "[encoded data removed]",
      "text/plain": [
       "<Figure size 432x288 with 1 Axes>"
      ]
     },
     "metadata": {},
     "output_type": "display_data"
    }
   ],
   "source": [
    "#Plot optimal consumption rule as a function of capital\n",
    "opt_k = k_grid[PF]\n",
    "opt_c = z_grid * k_grid ** (alpha) + (1 - delta) * k_grid - opt_k\n",
    "plt.figure()\n",
    "fig, ax = plt.subplots()\n",
    "ax.plot(k_grid[:], opt_c[:][18], label='Consumption')\n",
    "\n",
    "for label in legend.get_texts():\n",
    "    label.set_fontsize('large')\n",
    "for label in legend.get_lines():\n",
    "    label.set_linewidth(1.5) \n",
    "plt.xlabel('Size of Capital')\n",
    "plt.ylabel('Optimal Consumption')\n",
    "plt.title('Policy Function, consumption - Neoclassical Growth Model')\n",
    "plt.show()"
   ]
  },
  {
   "cell_type": "code",
   "execution_count": 20,
   "metadata": {},
   "outputs": [
    {
     "data": {
      "text/plain": [
       "<Figure size 432x288 with 0 Axes>"
      ]
     },
     "metadata": {},
     "output_type": "display_data"
    },
    {
     "data": {
      "image/png": "[encoded data removed]",
      "text/plain": [
       "<Figure size 432x288 with 1 Axes>"
      ]
     },
     "metadata": {},
     "output_type": "display_data"
    }
   ],
   "source": [
    "#Plot optimal capital in next period rule as a function of capital size\n",
    "plt.figure()\n",
    "fig, ax = plt.subplots()\n",
    "ax.plot(k_grid[:], opt_k[:][18], label='Capital in period $t+1$')\n",
    "\n",
    "for label in legend.get_texts():\n",
    "    label.set_fontsize('large')\n",
    "for label in legend.get_lines():\n",
    "    label.set_linewidth(1.5)\n",
    "plt.xlabel('Size of Capital in period $t$')\n",
    "plt.ylabel('Optimal Capital in period $t+1$')\n",
    "plt.title('Policy Function, capital next period - Neoclassical Growth Model')\n",
    "plt.show()"
   ]
  },
  {
   "cell_type": "markdown",
   "metadata": {},
   "source": [
    "### Problem 3:"
   ]
  },
  {
   "cell_type": "markdown",
   "metadata": {},
   "source": [
    "#### (1) Write down the Bellman Equation that represents the planner’s problem in this case."
   ]
  },
  {
   "cell_type": "markdown",
   "metadata": {},
   "source": [
    "** Answer **:"
   ]
  },
  {
   "cell_type": "markdown",
   "metadata": {},
   "source": [
    "The Bellman Equation is:"
   ]
  },
  {
   "cell_type": "markdown",
   "metadata": {},
   "source": [
    "<t1><center> $V(k_{t},z_{t}) = \\max_{c^{\\infty}_{t=0}} \\lbrace u(c_{t}) + \\beta E_{z_{t+1}|z_{t}} V(k_{t+1},z_{t+1})\\rbrace$, </center></t1>"
   ]
  },
  {
   "cell_type": "markdown",
   "metadata": {},
   "source": [
    "subject to the resource constraint:"
   ]
  },
  {
   "cell_type": "markdown",
   "metadata": {},
   "source": [
    "<t1><center> $ k_{t+1} + c_{t} = z_{t}k^{\\alpha}_{t} + (1-\\delta)k_{t}$, </center></t1>"
   ]
  },
  {
   "cell_type": "markdown",
   "metadata": {},
   "source": [
    "#### (2) Approximate the AR(1) process with a Markov chain and solve the model:"
   ]
  },
  {
   "cell_type": "code",
   "execution_count": 31,
   "metadata": {
    "collapsed": true
   },
   "outputs": [],
   "source": [
    "# Set the parameters \n",
    "# gamma: Coeﬃcient of Relative Risk Aversion\n",
    "# beta: Discount factor\n",
    "# sigma: Rate of physical depreciation\n",
    "# alpha: Curvature of production function\n",
    "# sigma_z: Standard deviation of productivity shocks\n",
    "# mu: Centre of log normal distribution\n",
    "# rho: Persistence parameter\n",
    "\n",
    "gamma = 0.5\n",
    "beta = 0.96\n",
    "delta = 0.05\n",
    "alpha = 0.4\n",
    "sigma_v = 0.1\n",
    "mu = 0\n",
    "rho = 0.8"
   ]
  },
  {
   "cell_type": "code",
   "execution_count": 32,
   "metadata": {
    "collapsed": true
   },
   "outputs": [],
   "source": [
    "'''\n",
    "------------------------------------------------------------------------\n",
    "Create Grid for State variable - Capital and Shock\n",
    "------------------------------------------------------------------------\n",
    "lb_k   : scalar, lower bound of capital grid\n",
    "ub_k   : scalar, upper bound of capital grid\n",
    "size_k : integer, number of grid points in capital state space\n",
    "k_grid : vector, size_k x 1 vector of capital grid points \n",
    "size_z : integer, number of grid points in shocks state space\n",
    "z_grid : vector, size_z x 1 vector of shock grid points \n",
    "------------------------------------------------------------------------\n",
    "'''\n",
    "lb_k = 10\n",
    "ub_k = 13\n",
    "size_k = 30  # Number of grid points of k\n",
    "size_z = 30 # Number of grid points of z\n",
    "k_grid = np.linspace(lb_k, ub_k, size_k)\n",
    "\n",
    "ln_z_grid, pi = ar.addacooper(size_z, mu, rho, sigma_v)\n",
    "z_grid = np.exp(ln_z_grid)\n",
    "pi_z = np.transpose(pi)"
   ]
  },
  {
   "cell_type": "code",
   "execution_count": 33,
   "metadata": {
    "collapsed": true
   },
   "outputs": [],
   "source": [
    "'''\n",
    "------------------------------------------------------------------------\n",
    "Create grid of current utility values    \n",
    "------------------------------------------------------------------------\n",
    "c   : matrix, current consumption c_t (c_t= z_t*(k_t)^alpha - (k_t+1) + (1-delta)*k_t)\n",
    "u   : matrix, current period utility value for all possible choices of w and w' \n",
    "     (rows are w, columns w')\n",
    "------------------------------------------------------------------------\n",
    "'''\n",
    "\n",
    "c = np.zeros((size_k, size_k, size_z))\n",
    "for i in range(size_k): \n",
    "    for j in range(size_k): \n",
    "        for m in range(size_z): \n",
    "            c[i, j, m] = z_grid[m]* k_grid[i]**alpha - k_grid[j] + (1 - delta)*k_grid[i]\n",
    "\n",
    "# replace 0 and negative consumption with a tiny value \n",
    "c[c<=0] = 1e-15\n",
    "if gamma == 1:\n",
    "    u = np.log(c)\n",
    "else:\n",
    "    u = (c ** (1 - gamma)) / (1 - gamma)\n",
    "u[c<0] = -9999999"
   ]
  },
  {
   "cell_type": "code",
   "execution_count": 34,
   "metadata": {},
   "outputs": [
    {
     "name": "stdout",
     "output_type": "stream",
     "text": [
      "The distance at 1 iteration is 7.0\n",
      "The distance at 2 iteration is 5.057120757426964\n",
      "The distance at 3 iteration is 3.4330013950434344\n",
      "The distance at 4 iteration is 3.1229691910173845\n",
      "The distance at 5 iteration is 2.899127801173252\n",
      "The distance at 6 iteration is 2.713649201705291\n",
      "The distance at 7 iteration is 2.551092898737817\n",
      "The distance at 8 iteration is 2.4081503578423877\n",
      "The distance at 9 iteration is 2.280575314366004\n",
      "The distance at 10 iteration is 2.1653659554346874\n",
      "The distance at 11 iteration is 2.0603056054400497\n",
      "The distance at 12 iteration is 1.963693090947661\n",
      "The distance at 13 iteration is 1.8742015930709748\n",
      "The distance at 14 iteration is 1.7907913130546333\n",
      "The distance at 15 iteration is 1.7126404255388366\n",
      "The distance at 16 iteration is 1.6390948514655364\n",
      "The distance at 17 iteration is 1.5696308133380654\n",
      "The distance at 18 iteration is 1.503824401505419\n",
      "The distance at 19 iteration is 1.4413279753269634\n",
      "The distance at 20 iteration is 1.3818544620585769\n",
      "The distance at 21 iteration is 1.3251645447882368\n",
      "The distance at 22 iteration is 1.271055779247206\n",
      "The distance at 23 iteration is 1.219354641123978\n",
      "The distance at 24 iteration is 1.1699104712785555\n",
      "The distance at 25 iteration is 1.1225909640110743\n",
      "The distance at 26 iteration is 1.0772786365559313\n",
      "The distance at 27 iteration is 1.033867988448307\n",
      "The distance at 28 iteration is 0.9922633531419649\n",
      "The distance at 29 iteration is 0.9523772399446457\n",
      "The distance at 30 iteration is 0.9141290332049721\n",
      "The distance at 31 iteration is 0.8774439595374304\n",
      "The distance at 32 iteration is 0.842252267511121\n",
      "The distance at 33 iteration is 0.8084885760460097\n",
      "The distance at 34 iteration is 0.776091353004098\n",
      "The distance at 35 iteration is 0.7450024876136254\n",
      "The distance at 36 iteration is 0.7151669439983053\n",
      "The distance at 37 iteration is 0.6865324748486614\n",
      "The distance at 38 iteration is 0.6590493818495418\n",
      "The distance at 39 iteration is 0.6326703137148968\n",
      "The distance at 40 iteration is 0.6073500940779724\n",
      "The distance at 41 iteration is 0.5830455733001685\n",
      "The distance at 42 iteration is 0.5597154997125955\n",
      "The distance at 43 iteration is 0.5373204064803545\n",
      "The distance at 44 iteration is 0.5158225110648189\n",
      "The distance at 45 iteration is 0.4951856250093556\n",
      "The distance at 46 iteration is 0.4753750722763641\n",
      "The distance at 47 iteration is 0.4563576147186552\n",
      "The distance at 48 iteration is 0.4381013835694034\n",
      "The distance at 49 iteration is 0.42057581606073313\n",
      "The distance at 50 iteration is 0.4037515964412677\n",
      "The distance at 51 iteration is 0.3876006008097903\n",
      "The distance at 52 iteration is 0.37209584529617246\n",
      "The distance at 53 iteration is 0.35721143720992643\n",
      "The distance at 54 iteration is 0.34292252884412733\n",
      "The distance at 55 iteration is 0.3292052736771893\n",
      "The distance at 56 iteration is 0.31603678475782715\n",
      "The distance at 57 iteration is 0.3033950950924975\n",
      "The distance at 58 iteration is 0.2912591198826959\n",
      "The distance at 59 iteration is 0.27960862048037427\n",
      "The distance at 60 iteration is 0.26842416994838914\n",
      "The distance at 61 iteration is 0.25768712012610706\n",
      "The distance at 62 iteration is 0.24737957011312517\n",
      "The distance at 63 iteration is 0.2374843360917822\n",
      "The distance at 64 iteration is 0.22798492241894053\n",
      "The distance at 65 iteration is 0.21886549392230847\n",
      "The distance at 66 iteration is 0.21011084934295354\n",
      "The distance at 67 iteration is 0.20170639586993389\n",
      "The distance at 68 iteration is 0.1936381247168839\n",
      "The distance at 69 iteration is 0.1858925876941555\n",
      "The distance at 70 iteration is 0.17845687473210603\n",
      "The distance at 71 iteration is 0.17131859231506041\n",
      "The distance at 72 iteration is 0.16446584278661192\n",
      "The distance at 73 iteration is 0.15788720448995264\n",
      "The distance at 74 iteration is 0.15157171270766412\n",
      "The distance at 75 iteration is 0.14550884136859565\n",
      "The distance at 76 iteration is 0.13968848548952906\n",
      "The distance at 77 iteration is 0.13410094432209974\n",
      "The distance at 78 iteration is 0.12873690517577074\n",
      "The distance at 79 iteration is 0.1235874278894471\n",
      "The distance at 80 iteration is 0.11864392992573869\n",
      "The distance at 81 iteration is 0.11389817206215014\n",
      "The distance at 82 iteration is 0.1093422446558634\n",
      "The distance at 83 iteration is 0.10496855445798303\n",
      "The distance at 84 iteration is 0.10076981195612689\n",
      "The distance at 85 iteration is 0.0967390192236337\n",
      "The distance at 86 iteration is 0.09286945825483883\n",
      "The distance at 87 iteration is 0.08915467976757441\n",
      "The distance at 88 iteration is 0.08558849245343936\n",
      "The distance at 89 iteration is 0.0821649526582604\n",
      "The distance at 90 iteration is 0.07887835447567682\n",
      "The distance at 91 iteration is 0.075723220236668\n",
      "The distance at 92 iteration is 0.07269429138013095\n",
      "The distance at 93 iteration is 0.06978651968785243\n",
      "The distance at 94 iteration is 0.06699505887122825\n",
      "The distance at 95 iteration is 0.064315256493515\n",
      "The distance at 96 iteration is 0.06174264621577663\n",
      "The distance at 97 iteration is 0.05927294035299724\n",
      "The distance at 98 iteration is 0.05690202272776901\n",
      "The distance at 99 iteration is 0.054625941809902656\n",
      "The distance at 100 iteration is 0.05244090413064839\n",
      "The distance at 101 iteration is 0.05034326796003086\n",
      "The distance at 102 iteration is 0.04832953723737887\n",
      "The distance at 103 iteration is 0.046396355744548146\n",
      "The distance at 104 iteration is 0.04454050151213096\n",
      "The distance at 105 iteration is 0.042758881449600494\n",
      "The distance at 106 iteration is 0.04104852618999644\n",
      "The distance at 107 iteration is 0.03940658514110851\n",
      "The distance at 108 iteration is 0.03783032173447509\n",
      "The distance at 109 iteration is 0.03631710886429573\n",
      "The distance at 110 iteration is 0.034864424509109426\n",
      "The distance at 111 iteration is 0.03346984752825222\n",
      "The distance at 112 iteration is 0.032131053626756056\n",
      "The distance at 113 iteration is 0.030845811481384544\n",
      "The distance at 114 iteration is 0.02961197902189383\n",
      "The distance at 115 iteration is 0.028427499860825378\n",
      "The distance at 116 iteration is 0.027290399866259918\n",
      "The distance at 117 iteration is 0.026198783871492992\n",
      "The distance at 118 iteration is 0.025150832516544597\n",
      "The distance at 119 iteration is 0.02414479921580437\n",
      "The distance at 120 iteration is 0.02317900724712274\n",
      "The distance at 121 iteration is 0.022251846957189514\n",
      "The distance at 122 iteration is 0.021361773078865554\n",
      "The distance at 123 iteration is 0.02050730215567853\n",
      "The distance at 124 iteration is 0.019687010069446842\n",
      "The distance at 125 iteration is 0.018899529666654757\n",
      "The distance at 126 iteration is 0.01814354847996924\n",
      "The distance at 127 iteration is 0.01741780654074887\n",
      "The distance at 128 iteration is 0.016721094279120052\n",
      "The distance at 129 iteration is 0.016052250507968324\n",
      "The distance at 130 iteration is 0.015410160487647317\n",
      "The distance at 131 iteration is 0.014793754068136877\n",
      "The distance at 132 iteration is 0.014202003905438687\n",
      "The distance at 133 iteration is 0.013633923749196697\n",
      "The distance at 134 iteration is 0.013088566799240198\n",
      "The distance at 135 iteration is 0.012565024127269453\n",
      "The distance at 136 iteration is 0.012062423162191749\n",
      "The distance at 137 iteration is 0.011579926235711469\n",
      "The distance at 138 iteration is 0.011116729186284147\n",
      "The distance at 139 iteration is 0.010672060018833918\n",
      "The distance at 140 iteration is 0.010245177618088519\n",
      "The distance at 141 iteration is 0.009835370513357589\n",
      "The distance at 142 iteration is 0.00944195569283579\n",
      "The distance at 143 iteration is 0.009064277465142823\n",
      "The distance at 144 iteration is 0.008701706366508688\n",
      "The distance at 145 iteration is 0.00835363811188472\n",
      "The distance at 146 iteration is 0.008019492587408195\n",
      "The distance at 147 iteration is 0.007698712883893677\n",
      "The distance at 148 iteration is 0.0073907643685231506\n",
      "The distance at 149 iteration is 0.0070951337938254255\n",
      "The distance at 150 iteration is 0.006811328442054787\n",
      "The distance at 151 iteration is 0.006538875304372027\n",
      "The distance at 152 iteration is 0.0062773202921846405\n",
      "The distance at 153 iteration is 0.006026227480532498\n",
      "The distance at 154 iteration is 0.005785178381316314\n",
      "The distance at 155 iteration is 0.005553771246056272\n",
      "The distance at 156 iteration is 0.005331620396219705\n",
      "The distance at 157 iteration is 0.005118355580378875\n",
      "The distance at 158 iteration is 0.004913621357147235\n"
     ]
    },
    {
     "name": "stdout",
     "output_type": "stream",
     "text": [
      "The distance at 159 iteration is 0.0047170765028567985\n",
      "The distance at 160 iteration is 0.004528393442782885\n",
      "The distance at 161 iteration is 0.00434725770503519\n",
      "The distance at 162 iteration is 0.004173367396845151\n",
      "The distance at 163 iteration is 0.0040064327009901035\n",
      "The distance at 164 iteration is 0.003846175392936857\n",
      "The distance at 165 iteration is 0.0036923283772267723\n",
      "The distance at 166 iteration is 0.003544635242150207\n",
      "The distance at 167 iteration is 0.003402849832468746\n",
      "The distance at 168 iteration is 0.0032667358391620382\n",
      "The distance at 169 iteration is 0.003136066405588167\n",
      "The distance at 170 iteration is 0.0030106237493896515\n",
      "The distance at 171 iteration is 0.0028901987994061074\n",
      "The distance at 172 iteration is 0.0027745908474514636\n",
      "The distance at 173 iteration is 0.002663607213520436\n",
      "The distance at 174 iteration is 0.002557062925021114\n",
      "The distance at 175 iteration is 0.002454780408015722\n",
      "The distance at 176 iteration is 0.0023565891916774717\n",
      "The distance at 177 iteration is 0.0022623256240166256\n",
      "The distance at 178 iteration is 0.002171832599060508\n",
      "The distance at 179 iteration is 0.002084959295103772\n",
      "The distance at 180 iteration is 0.0020015609233183795\n",
      "The distance at 181 iteration is 0.0019214984863822338\n",
      "The distance at 182 iteration is 0.0018446385469275128\n",
      "The distance at 183 iteration is 0.001770853005069739\n",
      "The distance at 184 iteration is 0.0017000188848470543\n",
      "The distance at 185 iteration is 0.0016320181294560143\n",
      "The distance at 186 iteration is 0.0015667374042891424\n",
      "The distance at 187 iteration is 0.001504067908115303\n",
      "The distance at 188 iteration is 0.0014439051918060386\n",
      "The distance at 189 iteration is 0.001386148984138913\n",
      "The distance at 190 iteration is 0.0013307030247773355\n",
      "The distance at 191 iteration is 0.0012774749037589572\n",
      "The distance at 192 iteration is 0.001226375907634747\n",
      "The distance at 193 iteration is 0.0011773208713492522\n",
      "The distance at 194 iteration is 0.001130228036487324\n",
      "The distance at 195 iteration is 0.0010850189150062306\n",
      "The distance at 196 iteration is 0.0010416181584105288\n",
      "The distance at 197 iteration is 0.0009999534320996872\n",
      "The distance at 198 iteration is 0.000959955294817405\n",
      "The distance at 199 iteration is 0.0009215570830178876\n",
      "The distance at 200 iteration is 0.0008846947997085408\n",
      "The distance at 201 iteration is 0.0008493070077122411\n",
      "The distance at 202 iteration is 0.0008153347274344469\n",
      "The distance at 203 iteration is 0.0007827213383535536\n",
      "The distance at 204 iteration is 0.0007514124848171377\n",
      "The distance at 205 iteration is 0.0007213559853909146\n",
      "The distance at 206 iteration is 0.0006925017459593619\n",
      "The distance at 207 iteration is 0.000664801676137472\n",
      "The distance at 208 iteration is 0.0006382096091073208\n",
      "The distance at 209 iteration is 0.0006126812247373437\n",
      "The distance at 210 iteration is 0.0005881739757569449\n",
      "The distance at 211 iteration is 0.000564647016744857\n",
      "The distance at 212 iteration is 0.0005420611360591465\n",
      "The distance at 213 iteration is 0.0005203786906378127\n",
      "The distance at 214 iteration is 0.0004995635430020684\n",
      "The distance at 215 iteration is 0.00047958100128653314\n",
      "The distance at 216 iteration is 0.00046039776125894605\n",
      "The distance at 217 iteration is 0.0004419818507983564\n",
      "The distance at 218 iteration is 0.0004243025767607378\n",
      "The distance at 219 iteration is 0.0004073304736920136\n",
      "The distance at 220 iteration is 0.00039103725475797546\n",
      "The distance at 221 iteration is 0.00037539576456424584\n",
      "The distance at 222 iteration is 0.0003603799339799707\n",
      "The distance at 223 iteration is 0.0003459647366241825\n",
      "The distance at 224 iteration is 0.00033212614715694144\n",
      "The distance at 225 iteration is 0.0003188411013042014\n",
      "The distance at 226 iteration is 0.0003060874572611283\n",
      "The distance at 227 iteration is 0.0002938439589428299\n",
      "The distance at 228 iteration is 0.0002820902006135384\n",
      "The distance at 229 iteration is 0.00027080659256739636\n",
      "The distance at 230 iteration is 0.00025997432888402727\n",
      "The distance at 231 iteration is 0.000249575355695697\n",
      "The distance at 232 iteration is 0.0002395923415008383\n",
      "The distance at 233 iteration is 0.00023000864784705755\n",
      "The distance at 234 iteration is 0.0002208083019326068\n",
      "The distance at 235 iteration is 0.0002119759698615553\n",
      "The distance at 236 iteration is 0.00020349693106425093\n",
      "The distance at 237 iteration is 0.0001953570538120175\n",
      "The distance at 238 iteration is 0.00018754277168397948\n",
      "The distance at 239 iteration is 0.0001800410608296943\n",
      "The distance at 240 iteration is 0.0001728394183828641\n",
      "The distance at 241 iteration is 0.00016592584164243362\n",
      "The distance at 242 iteration is 0.00015928880796423073\n",
      "The distance at 243 iteration is 0.00015291725566157766\n",
      "The distance at 244 iteration is 0.00014680056543170394\n",
      "The distance at 245 iteration is 0.00014092854283376255\n",
      "The distance at 246 iteration is 0.0001352914011079065\n",
      "The distance at 247 iteration is 0.0001298797451028122\n",
      "The distance at 248 iteration is 0.00012468455527425704\n",
      "The distance at 249 iteration is 0.00011969717306214989\n",
      "The distance at 250 iteration is 0.00011490928615387475\n",
      "The distance at 251 iteration is 0.00011031291472818339\n",
      "The distance at 252 iteration is 0.00010590039811120278\n",
      "The distance at 253 iteration is 0.0001016643821856178\n",
      "The distance at 254 iteration is 9.759780691354081e-05\n",
      "The distance at 255 iteration is 9.369389464097821e-05\n",
      "The distance at 256 iteration is 8.994613885704439e-05\n",
      "The distance at 257 iteration is 8.634829332265781e-05\n",
      "The distance at 258 iteration is 8.289436156871943e-05\n",
      "The distance at 259 iteration is 7.957858711904464e-05\n",
      "The distance at 260 iteration is 7.639544362803008e-05\n",
      "The distance at 261 iteration is 7.333962589939347e-05\n",
      "The distance at 262 iteration is 7.040604086228086e-05\n",
      "The distance at 263 iteration is 6.758979921528407e-05\n",
      "The distance at 264 iteration is 6.488620724098837e-05\n",
      "The distance at 265 iteration is 6.229075899000236e-05\n",
      "The distance at 266 iteration is 5.979912862130732e-05\n",
      "The distance at 267 iteration is 5.740716349578179e-05\n",
      "The distance at 268 iteration is 5.5110876928665675e-05\n",
      "The distance at 269 iteration is 5.290644185151905e-05\n",
      "The distance at 270 iteration is 5.079018418996384e-05\n",
      "The distance at 271 iteration is 4.875857682407059e-05\n",
      "The distance at 272 iteration is 4.680823377611887e-05\n",
      "The distance at 273 iteration is 4.493590441256856e-05\n",
      "The distance at 274 iteration is 4.313846824288703e-05\n",
      "The distance at 275 iteration is 4.1412929519424324e-05\n",
      "The distance at 276 iteration is 3.975641232045746e-05\n",
      "The distance at 277 iteration is 3.816615586060834e-05\n",
      "The distance at 278 iteration is 3.663950960230977e-05\n",
      "The distance at 279 iteration is 3.5173929219922684e-05\n",
      "The distance at 280 iteration is 3.3766972052262645e-05\n",
      "The distance at 281 iteration is 3.2416293180403954e-05\n",
      "The distance at 282 iteration is 3.111964144864032e-05\n",
      "The distance at 283 iteration is 2.9874855798084354e-05\n",
      "The distance at 284 iteration is 2.8679861571845322e-05\n",
      "The distance at 285 iteration is 2.753266711863489e-05\n",
      "The distance at 286 iteration is 2.6431360439005402e-05\n",
      "The distance at 287 iteration is 2.5374106044750988e-05\n",
      "The distance at 288 iteration is 2.4359141775676107e-05\n",
      "The distance at 289 iteration is 2.338477611374401e-05\n",
      "The distance at 290 iteration is 2.2449385085110407e-05\n",
      "The distance at 291 iteration is 2.1551409673747912e-05\n",
      "The distance at 292 iteration is 2.068935327770305e-05\n",
      "The distance at 293 iteration is 1.98617791511424e-05\n",
      "The distance at 294 iteration is 1.906730801692902e-05\n",
      "The distance at 295 iteration is 1.8304615707620542e-05\n",
      "The distance at 296 iteration is 1.757243104805184e-05\n",
      "The distance at 297 iteration is 1.6869533823182792e-05\n",
      "The distance at 298 iteration is 1.6194752461728967e-05\n",
      "The distance at 299 iteration is 1.5546962373491624e-05\n",
      "The distance at 300 iteration is 1.4925083888783774e-05\n",
      "The distance at 301 iteration is 1.4328080538916765e-05\n",
      "The distance at 302 iteration is 1.3754957322476002e-05\n",
      "The distance at 303 iteration is 1.320475901422924e-05\n",
      "The distance at 304 iteration is 1.2676568644565123e-05\n",
      "The distance at 305 iteration is 1.216950592208832e-05\n",
      "The distance at 306 iteration is 1.1682725684636353e-05\n",
      "The distance at 307 iteration is 1.121541666293524e-05\n"
     ]
    },
    {
     "name": "stdout",
     "output_type": "stream",
     "text": [
      "The distance at 308 iteration is 1.0766799988459752e-05\n",
      "The distance at 309 iteration is 1.0336128013932466e-05\n",
      "The distance at 310 iteration is 9.922682906449154e-06\n",
      "The distance at 311 iteration is 9.525775553242966e-06\n",
      "The distance at 312 iteration is 9.144744538502891e-06\n",
      "The distance at 313 iteration is 8.778954779131709e-06\n",
      "The distance at 314 iteration is 8.427796601040427e-06\n",
      "The distance at 315 iteration is 8.0906847301776e-06\n",
      "The distance at 316 iteration is 7.767057326191207e-06\n",
      "The distance at 317 iteration is 7.456375044512242e-06\n",
      "The distance at 318 iteration is 7.158120041594884e-06\n",
      "The distance at 319 iteration is 6.871795250162904e-06\n",
      "The distance at 320 iteration is 6.596923455504111e-06\n",
      "The distance at 321 iteration is 6.333046513873342e-06\n",
      "The distance at 322 iteration is 6.079724641949724e-06\n",
      "The distance at 323 iteration is 5.836535677872234e-06\n",
      "The distance at 324 iteration is 5.603074242799266e-06\n",
      "The distance at 325 iteration is 5.378951271950427e-06\n",
      "The distance at 326 iteration is 5.1637932187986735e-06\n",
      "The distance at 327 iteration is 4.957241500846976e-06\n",
      "The distance at 328 iteration is 4.758951845929005e-06\n",
      "The distance at 329 iteration is 4.568593780618357e-06\n",
      "The distance at 330 iteration is 4.385850019161808e-06\n",
      "The distance at 331 iteration is 4.210416022942809e-06\n",
      "The distance at 332 iteration is 4.041999375203886e-06\n",
      "The distance at 333 iteration is 3.880319411564415e-06\n",
      "The distance at 334 iteration is 3.725106637375575e-06\n",
      "The distance at 335 iteration is 3.5761023866598407e-06\n",
      "The distance at 336 iteration is 3.4330582820985e-06\n",
      "The distance at 337 iteration is 3.2957359650254148e-06\n",
      "The distance at 338 iteration is 3.1639065269928324e-06\n",
      "The distance at 339 iteration is 3.0373502823977105e-06\n",
      "The distance at 340 iteration is 2.9158562568909474e-06\n",
      "The distance at 341 iteration is 2.7992220452688343e-06\n",
      "The distance at 342 iteration is 2.6872531435628844e-06\n",
      "The distance at 343 iteration is 2.5797630343049605e-06\n",
      "The distance at 344 iteration is 2.4765724901953945e-06\n",
      "The distance at 345 iteration is 2.3775096025246967e-06\n",
      "The distance at 346 iteration is 2.282409212739367e-06\n",
      "The distance at 347 iteration is 2.191112855598476e-06\n",
      "The distance at 348 iteration is 2.1034683186371694e-06\n",
      "The distance at 349 iteration is 2.019329613744958e-06\n",
      "The distance at 350 iteration is 1.9385564229423835e-06\n",
      "The distance at 351 iteration is 1.861014183646148e-06\n",
      "The distance at 352 iteration is 1.7865736055000525e-06\n",
      "The distance at 353 iteration is 1.7151106845858521e-06\n",
      "The distance at 354 iteration is 1.6465062344650505e-06\n",
      "The distance at 355 iteration is 1.5806459998657374e-06\n",
      "The distance at 356 iteration is 1.5174201735135284e-06\n",
      "The distance at 357 iteration is 1.4567233677098557e-06\n",
      "The distance at 358 iteration is 1.3984544295908563e-06\n",
      "The distance at 359 iteration is 1.3425162421754067e-06\n",
      "The distance at 360 iteration is 1.2888156106782844e-06\n",
      "The distance at 361 iteration is 1.2372629782930744e-06\n",
      "The distance at 362 iteration is 1.1877724830355874e-06\n",
      "The distance at 363 iteration is 1.1402615740507827e-06\n",
      "The distance at 364 iteration is 1.0946511110887513e-06\n",
      "The distance at 365 iteration is 1.0508651087093313e-06\n",
      "The distance at 366 iteration is 1.0088304662758674e-06\n",
      "Value function converged after this many iterations: 367\n"
     ]
    }
   ],
   "source": [
    "'''\n",
    "------------------------------------------------------------------------\n",
    "Value Function Iteration    \n",
    "------------------------------------------------------------------------\n",
    "VFtol_2     : scalar, tolerance required for value function to converge\n",
    "VFdist_2    : scalar, distance between last two value functions\n",
    "VFmaxiter_2 : integer, maximum number of iterations for value function\n",
    "V_2         : vector, the value functions at each iteration\n",
    "Vmat_2      : matrix, the value for each possible combination of w and w'\n",
    "Vstore_2    : matrix, stores V at each iteration \n",
    "VFiter_2    : integer, current iteration number\n",
    "TV_2        : vector, the value function after applying the Bellman operator\n",
    "PF_2        : vector, indicies of choices of w' for all w \n",
    "VF_2        : vector, the \"true\" value function\n",
    "------------------------------------------------------------------------\n",
    "'''\n",
    "VFtol_2 = 1e-6 \n",
    "VFdist_2 = 7.0 \n",
    "VFmaxiter_2 = 500 \n",
    "# initial guess at value function\n",
    "V_2 = np.zeros((size_k, size_z)) \n",
    "# initialize Vmat matrix\n",
    "Vmat_2 = np.zeros((size_k, size_k, size_z))\n",
    "#initialize Vstore array\n",
    "Vstore_2 = np.zeros((size_k, size_z, VFmaxiter_2)) \n",
    "VFiter_2 = 1 \n",
    "while VFdist_2 > VFtol_2 and VFiter_2 < VFmaxiter_2:\n",
    "    print(\"The distance at {} iteration is {}\".format(VFiter_2, VFdist_2))\n",
    "    # loop over k_t\n",
    "    for i in range(size_k): \n",
    "        # loop over k_t+1\n",
    "        for j in range(size_k):\n",
    "            #loop over z_t\n",
    "            for m in range(size_z): \n",
    "                EV = 0\n",
    "                for n in range(size_z):\n",
    "                    EV += pi_z[m, n]*V_2[j, n]\n",
    "                Vmat_2[i, j, m] = u[i, j, m] + beta * EV\n",
    "    # store value function at each iteration for graphing later            \n",
    "    Vstore_2[:,:, VFiter_2] = V_2.reshape(size_k, size_z,) \n",
    "    TV_2 = Vmat_2.max(1)\n",
    "    PF_2 = np.argmax(Vmat_2, axis=1)\n",
    "    VFdist_2 = (np.absolute(V_2 - TV_2)).max()\n",
    "    V_2 = TV_2\n",
    "    VFiter_2 += 1\n",
    "    \n",
    "if VFiter_2 < VFmaxiter_2:\n",
    "    print('Value function converged after this many iterations:', VFiter_2)\n",
    "else:\n",
    "    print('Value function did not converge') \n",
    "    \n",
    "# solution to the functional equation    \n",
    "VF_2 = V_2 "
   ]
  },
  {
   "cell_type": "code",
   "execution_count": 35,
   "metadata": {},
   "outputs": [
    {
     "data": {
      "text/plain": [
       "<Figure size 432x288 with 0 Axes>"
      ]
     },
     "metadata": {},
     "output_type": "display_data"
    },
    {
     "data": {
      "image/png": "[encoded data removed]",
      "text/plain": [
       "<Figure size 432x288 with 1 Axes>"
      ]
     },
     "metadata": {},
     "output_type": "display_data"
    }
   ],
   "source": [
    "# Plot value function\n",
    "plt.figure()\n",
    "fig2, ax2 = plt.subplots()\n",
    "ax2.plot(k_grid[1:], VF_2[1:, 0], label='$z$ = ' + str(round(z_grid[0],4)))\n",
    "ax2.plot(k_grid[1:], VF_2[1:, 10], label='$z$ = ' + str(round(z_grid[10],4)))\n",
    "ax2.plot(k_grid[1:], VF_2[1:, 15], label='$z$ = ' + str(round(z_grid[15],4)))\n",
    "ax2.plot(k_grid[1:], VF_2[1:, 20], label='$z$ = ' + str(round(z_grid[20],4)))\n",
    "ax2.plot(k_grid[1:], VF_2[1:, (size_z-1)], label='$z$ = ' + str(round(z_grid[(size_z-1)],4)))\n",
    "# Now add the legend with some customizations.\n",
    "legend = ax2.legend(loc='lower right', shadow=False)\n",
    "\n",
    "for label in legend.get_texts():\n",
    "    label.set_fontsize('large')\n",
    "for label in legend.get_lines():\n",
    "    label.set_linewidth(1.5)  \n",
    "plt.xlabel('Size of Capital')\n",
    "plt.ylabel('Value Function')\n",
    "plt.title('Value Function -- The Neoclassical Growth Model 2')\n",
    "plt.show()"
   ]
  },
  {
   "cell_type": "code",
   "execution_count": 36,
   "metadata": {},
   "outputs": [
    {
     "data": {
      "text/plain": [
       "<Figure size 432x288 with 0 Axes>"
      ]
     },
     "metadata": {},
     "output_type": "display_data"
    },
    {
     "data": {
      "image/png": "[encoded data removed]",
      "text/plain": [
       "<Figure size 432x288 with 1 Axes>"
      ]
     },
     "metadata": {},
     "output_type": "display_data"
    }
   ],
   "source": [
    "#Plot optimal consumption rule as a function of capital\n",
    "opt_k = k_grid[PF_2]\n",
    "opt_c = z_grid * k_grid ** (alpha) + (1 - delta) * k_grid - opt_k\n",
    "plt.figure()\n",
    "fig, ax3 = plt.subplots()\n",
    "ax3.plot(k_grid[:], opt_c[:][10], label='Consumption')\n",
    "ax3.plot(k_grid[:], opt_c[:][14], label='Consumption')\n",
    "ax3.plot(k_grid[:], opt_c[:][19], label='Consumption')\n",
    "\n",
    "for label in legend.get_texts():\n",
    "    label.set_fontsize('large')\n",
    "for label in legend.get_lines():\n",
    "    label.set_linewidth(1.5)  \n",
    "plt.xlabel('Size of Capital')\n",
    "plt.ylabel('Optimal Consumption')\n",
    "plt.title('Policy Function, consumption - The Neoclassical Growth Model 2')\n",
    "plt.show()"
   ]
  },
  {
   "cell_type": "code",
   "execution_count": 37,
   "metadata": {},
   "outputs": [
    {
     "data": {
      "text/plain": [
       "<Figure size 432x288 with 0 Axes>"
      ]
     },
     "metadata": {},
     "output_type": "display_data"
    },
    {
     "data": {
      "image/png": "[encoded data removed]",
      "text/plain": [
       "<Figure size 432x288 with 1 Axes>"
      ]
     },
     "metadata": {},
     "output_type": "display_data"
    }
   ],
   "source": [
    "#Plot optimal capital in period t + 1 rule as a function of capital size\n",
    "plt.figure()\n",
    "fig, ax4 = plt.subplots()\n",
    "ax4.plot(k_grid[:], opt_k[:][5], label='Capital in period $t+1$')\n",
    "ax4.plot(k_grid[:], opt_k[:][10], label='Capital in period $t+1$')\n",
    "ax4.plot(k_grid[:], opt_k[:][15], label='Capital in period $t+1$')\n",
    "# Now add the legend with some customizations.\n",
    "#legend = ax.legend(loc='upper left', shadow=False)\n",
    "# Set the fontsize\n",
    "for label in legend.get_texts():\n",
    "    label.set_fontsize('large')\n",
    "for label in legend.get_lines():\n",
    "    label.set_linewidth(1.5)  # the legend line width\n",
    "plt.xlabel('Size of Capital in period $t$')\n",
    "plt.ylabel('Optimal Capital in period $t+1$')\n",
    "plt.title('Policy Function, capital next period - The Neoclassical Growth Model 2')\n",
    "plt.show()"
   ]
  },
  {
   "cell_type": "markdown",
   "metadata": {},
   "source": [
    "### Problem 4:"
   ]
  },
  {
   "cell_type": "markdown",
   "metadata": {},
   "source": [
    "#### (1) Write down the Bellman equation representing this optimal stopping problem."
   ]
  },
  {
   "cell_type": "markdown",
   "metadata": {},
   "source": [
    "** Answer **:"
   ]
  },
  {
   "cell_type": "markdown",
   "metadata": {},
   "source": [
    "The Bellman equation is:"
   ]
  },
  {
   "cell_type": "markdown",
   "metadata": {},
   "source": [
    "<t1><center> $V(w) = \\max \\lbrace V^{U}(w), V^{E}(w)\\rbrace$, </center></t1>"
   ]
  },
  {
   "cell_type": "markdown",
   "metadata": {},
   "source": [
    "Where:"
   ]
  },
  {
   "cell_type": "markdown",
   "metadata": {},
   "source": [
    "<t1><center> $V^{U}(w) = b + \\beta EV(w) $, </center></t1>"
   ]
  },
  {
   "cell_type": "markdown",
   "metadata": {},
   "source": [
    "<t1><center> $V^{E}(w) = E_{0}\\sum^{\\infty}_{t=0} \\beta^{t}w = \\frac{w}{1-\\beta}$. </center></t1>"
   ]
  },
  {
   "cell_type": "markdown",
   "metadata": {},
   "source": [
    "#### (2) Solve this model, using the following parameterization:"
   ]
  },
  {
   "cell_type": "markdown",
   "metadata": {},
   "source": [
    "** Answer **:"
   ]
  },
  {
   "cell_type": "code",
   "execution_count": 87,
   "metadata": {
    "collapsed": true
   },
   "outputs": [],
   "source": [
    "# Set parameters\n",
    "# beta: Rate of time preference\n",
    "# b : Unemployment beneﬁts\n",
    "# mu: Mean of log wages\n",
    "# sigma: Standard deviation of wage draws\n",
    "\n",
    "beta = 0.96\n",
    "b = 0.05\n",
    "mu = 0\n",
    "sigma = 0.15\n",
    "size_w = 100\n",
    "rho = 0"
   ]
  },
  {
   "cell_type": "code",
   "execution_count": 80,
   "metadata": {},
   "outputs": [],
   "source": [
    "'''\n",
    "------------------------------------------------------------------------\n",
    "Create Grid for State Space\n",
    "------------------------------------------------------------------------\n",
    "ub_w      : scalar, upper bound of wage grid\n",
    "size_w    : integer, number of grid points in wage state space\n",
    "w_grid    : vector, size_w x 1 vector of grid points\n",
    "------------------------------------------------------------------------\n",
    "'''\n",
    "ln_w_grid, pi_t = ar.addacooper(size_w, mu, rho, sigma)\n",
    "w_grid = np.exp(ln_w_grid)\n",
    "pi = np.transpose(pi_t)"
   ]
  },
  {
   "cell_type": "code",
   "execution_count": 81,
   "metadata": {
    "collapsed": true
   },
   "outputs": [],
   "source": [
    "'''\n",
    "------------------------------------------------------------------------\n",
    "Create grid of current utility values    \n",
    "------------------------------------------------------------------------\n",
    "U  : matrix, current period utility value for all possible\n",
    "     choices of w and w' (rows are w, columns w')\n",
    "------------------------------------------------------------------------\n",
    "'''\n",
    "u = np.zeros(size_w) \n",
    "for i in range(size_w): \n",
    "        u[i] = (w_grid[i])/(1-beta)"
   ]
  },
  {
   "cell_type": "code",
   "execution_count": 82,
   "metadata": {},
   "outputs": [
    {
     "name": "stdout",
     "output_type": "stream",
     "text": [
      "The distance at 1 iteration is 7.0\n",
      "The distance at 2 iteration is 35.94578546211266\n",
      "Value function converged after this many iterations: 3\n"
     ]
    }
   ],
   "source": [
    "'''\n",
    "------------------------------------------------------------------------\n",
    "Value Function Iteration    \n",
    "------------------------------------------------------------------------\n",
    "VFtol       : scalar, tolerance required for value function to converge\n",
    "VFdist      : scalar, distance between last two value functions\n",
    "VFmaxiter   : integer, maximum number of iterations for value function\n",
    "V           : matrix, the value functions at each iteration\n",
    "TV          : matrix, the value function after applying the Bellman operator\n",
    "PF_discrete : matrix, matrix of policy function: eat=1, not eat=0 \n",
    "Vstore      : array, stores V at each iteration \n",
    "VFiter      : integer, current iteration number\n",
    "EV          : scalar, expected value function for a given state\n",
    "U_eat       : matrix, utility from eating cake now\n",
    "Vwait       : matrix, value of waiting to eat the cake\n",
    "VF          : vector, the \"true\" value function\n",
    "------------------------------------------------------------------------\n",
    "'''\n",
    "VFtol_3 = 1e-8 \n",
    "VFdist_3 = 7.0 \n",
    "VFmaxiter_3 = 500 \n",
    "# initial guess at value function\n",
    "V_3 = np.zeros(size_w) \n",
    "TV_3 = np.zeros(size_w)\n",
    "PF_discrete = np.zeros(size_w)\n",
    "# initialize Vmat matrix\n",
    "Vstore_3 = np.zeros((size_w, VFmaxiter_3)) \n",
    "VFiter_3 = 1 \n",
    "while VFdist_3 > VFtol_3 and VFiter_3 < VFmaxiter_3:\n",
    "    print(\"The distance at {} iteration is {}\".format(VFiter_3, VFdist_3))\n",
    "    for i in range(size_w):\n",
    "        EV = 0\n",
    "        for j in range(size_w): \n",
    "            EV += pi[i, j] * V_3[j]   \n",
    "        u_emp = u[i]\n",
    "        V_unemp = b + beta * EV \n",
    "        TV_3[i] = max(u_emp, V_unemp)\n",
    "        PF_discrete[i] = u_emp >= V_unemp  # = 1 if take job\n",
    "        \n",
    "    # store value function at each iteration for graphing later \n",
    "    Vstore_3[:, VFiter_3] = TV_3 \n",
    "    VFdist_3 = (np.absolute(V_3 - TV_3)).max()  # check distance\n",
    "    V_3 = TV_3\n",
    "    VFiter_3 += 1 \n",
    "    \n",
    "if VFiter_3 < VFmaxiter_3:\n",
    "    print('Value function converged after this many iterations:', VFiter_3)\n",
    "else:\n",
    "    print('Value function did not converge') \n",
    "    \n",
    "VF_3 = V_3"
   ]
  },
  {
   "cell_type": "code",
   "execution_count": 83,
   "metadata": {},
   "outputs": [
    {
     "name": "stdout",
     "output_type": "stream",
     "text": [
      "1.03472481446\n"
     ]
    }
   ],
   "source": [
    "'''\n",
    "------------------------------------------------------------------------\n",
    "Find threshold policy functions   \n",
    "------------------------------------------------------------------------\n",
    "'''\n",
    "threshold_w = w_grid[np.argmax(PF_discrete)]\n",
    "print(threshold_w)"
   ]
  },
  {
   "cell_type": "code",
   "execution_count": 84,
   "metadata": {},
   "outputs": [
    {
     "data": {
      "text/plain": [
       "<Figure size 432x288 with 0 Axes>"
      ]
     },
     "metadata": {},
     "output_type": "display_data"
    },
    {
     "data": {
      "image/png": "[encoded data removed]",
      "text/plain": [
       "<Figure size 432x288 with 1 Axes>"
      ]
     },
     "metadata": {},
     "output_type": "display_data"
    }
   ],
   "source": [
    "# Plot value function \n",
    "plt.figure()\n",
    "fig, ax5 = plt.subplots()\n",
    "ax5.plot(w_grid[:], VF_3[:])\n",
    " \n",
    "plt.xlabel('Wage Offer')\n",
    "plt.ylabel('Value Function')\n",
    "plt.title('Value Function - The search and matching model')\n",
    "plt.show()"
   ]
  },
  {
   "cell_type": "code",
   "execution_count": 85,
   "metadata": {},
   "outputs": [
    {
     "name": "stdout",
     "output_type": "stream",
     "text": [
      "The distance at 1 iteration is 7.0\n",
      "The distance at 2 iteration is 35.94578546211266\n",
      "Value function converged after this many iterations: 3\n",
      "The distance at 1 iteration is 7.0\n",
      "The distance at 2 iteration is 35.94578546211266\n",
      "Value function converged after this many iterations: 3\n",
      "The distance at 1 iteration is 7.0\n",
      "The distance at 2 iteration is 35.94578546211266\n",
      "Value function converged after this many iterations: 3\n",
      "The distance at 1 iteration is 7.0\n",
      "The distance at 2 iteration is 35.94578546211266\n",
      "Value function converged after this many iterations: 3\n",
      "The distance at 1 iteration is 7.0\n",
      "The distance at 2 iteration is 35.94578546211266\n",
      "Value function converged after this many iterations: 3\n",
      "The distance at 1 iteration is 7.0\n",
      "The distance at 2 iteration is 35.94578546211266\n",
      "Value function converged after this many iterations: 3\n",
      "The distance at 1 iteration is 7.0\n",
      "The distance at 2 iteration is 35.94578546211266\n",
      "Value function converged after this many iterations: 3\n",
      "The distance at 1 iteration is 7.0\n",
      "The distance at 2 iteration is 35.94578546211266\n",
      "Value function converged after this many iterations: 3\n",
      "The distance at 1 iteration is 7.0\n",
      "The distance at 2 iteration is 35.94578546211266\n",
      "Value function converged after this many iterations: 3\n",
      "The distance at 1 iteration is 7.0\n",
      "The distance at 2 iteration is 35.94578546211266\n",
      "Value function converged after this many iterations: 3\n",
      "The distance at 1 iteration is 7.0\n",
      "The distance at 2 iteration is 35.94578546211266\n",
      "Value function converged after this many iterations: 3\n",
      "The distance at 1 iteration is 7.0\n",
      "The distance at 2 iteration is 35.94578546211266\n",
      "Value function converged after this many iterations: 3\n",
      "The distance at 1 iteration is 7.0\n",
      "The distance at 2 iteration is 35.94578546211266\n",
      "Value function converged after this many iterations: 3\n",
      "The distance at 1 iteration is 7.0\n",
      "The distance at 2 iteration is 35.94578546211266\n",
      "Value function converged after this many iterations: 3\n",
      "The distance at 1 iteration is 7.0\n",
      "The distance at 2 iteration is 35.94578546211266\n",
      "Value function converged after this many iterations: 3\n",
      "The distance at 1 iteration is 7.0\n",
      "The distance at 2 iteration is 35.94578546211266\n",
      "Value function converged after this many iterations: 3\n",
      "The distance at 1 iteration is 7.0\n",
      "The distance at 2 iteration is 35.94578546211266\n",
      "Value function converged after this many iterations: 3\n",
      "The distance at 1 iteration is 7.0\n",
      "The distance at 2 iteration is 35.94578546211266\n",
      "Value function converged after this many iterations: 3\n",
      "The distance at 1 iteration is 7.0\n",
      "The distance at 2 iteration is 35.94578546211266\n",
      "Value function converged after this many iterations: 3\n",
      "The distance at 1 iteration is 7.0\n",
      "The distance at 2 iteration is 35.94578546211266\n",
      "Value function converged after this many iterations: 3\n"
     ]
    }
   ],
   "source": [
    "#Set grid of b\n",
    "grid_b = np.linspace(0.05, 1, 20)\n",
    "threshold_vec = np.zeros(20)\n",
    "\n",
    "#Begin for loop\n",
    "for m in range(20):\n",
    "    VFtol_4 = 1e-8 \n",
    "    VFdist_4 = 7.0 \n",
    "    VFmaxiter_4 = 500 \n",
    "    V_4 = np.zeros(size_w) # initial guess at value function\n",
    "    TV_4 = np.zeros(size_w)\n",
    "    PF_discrete_2 = np.zeros(size_w)\n",
    "    Vstore_4 = np.zeros((size_w, VFmaxiter_4)) #initialize Vstore array\n",
    "    VFiter_4 = 1 \n",
    "    while VFdist_4 > VFtol_4 and VFiter_4 < VFmaxiter_4:\n",
    "        print(\"The distance at {} iteration is {}\".format(VFiter_4, VFdist_4))\n",
    "        for i in range(size_w): # loop over w\n",
    "            EV = 0\n",
    "            for j in range(size_w):  # loop over w\n",
    "                EV += pi[i, j] * V_4[j]    \n",
    "            u_emp = u[i]\n",
    "            V_unemp = grid_b[m] + beta * EV \n",
    "            TV_4[i] = max(u_emp, V_unemp)\n",
    "            PF_discrete_2[i] = u_emp >= V_unemp\n",
    "            \n",
    "        Vstore_4[:, VFiter_4] = TV_4 # store value function at each iteration for graphing later \n",
    "        VFdist_4 = (np.absolute(V_4 - TV_4)).max()  # check distance\n",
    "        V_4 = TV_4\n",
    "        VFiter_4 += 1  \n",
    "        \n",
    "    if VFiter_4 < VFmaxiter_4:\n",
    "        print('Value function converged after this many iterations:', VFiter_4)\n",
    "    else:\n",
    "        print('Value function did not converge')\n",
    "        \n",
    "    VF_4 = V_4 # solution to the functional equation\n",
    "    threshold_vec[m]= w_grid[np.argmax(PF_discrete_2)]"
   ]
  },
  {
   "cell_type": "code",
   "execution_count": 86,
   "metadata": {},
   "outputs": [
    {
     "name": "stdout",
     "output_type": "stream",
     "text": [
      "[ 1.03472481  1.03472481  1.04279291  1.04279291  1.05104386  1.05104386\n",
      "  1.05950847  1.05950847  1.05950847  1.06822176  1.06822176  1.07722417\n",
      "  1.07722417  1.08656302  1.08656302  1.08656302  1.09629462  1.09629462\n",
      "  1.10648704  1.10648704]\n"
     ]
    }
   ],
   "source": [
    "print(threshold_vec)"
   ]
  },
  {
   "cell_type": "code",
   "execution_count": 70,
   "metadata": {},
   "outputs": [
    {
     "data": {
      "text/plain": [
       "<Figure size 432x288 with 0 Axes>"
      ]
     },
     "metadata": {},
     "output_type": "display_data"
    },
    {
     "data": {
      "image/png": "[encoded data removed]",
      "text/plain": [
       "<Figure size 432x288 with 1 Axes>"
      ]
     },
     "metadata": {},
     "output_type": "display_data"
    }
   ],
   "source": [
    "# Plot resevation wage as function of benefits \n",
    "plt.figure()\n",
    "fig, ax6 = plt.subplots()\n",
    "ax6.plot(grid_b[:], threshold_vec[:])\n",
    "\n",
    "plt.xlabel('Benefits')\n",
    "plt.ylabel('Threshold wage offer')\n",
    "plt.title('Threshold wage - The search and matching model')\n",
    "plt.show()\n"
   ]
  },
  {
   "cell_type": "code",
   "execution_count": null,
   "metadata": {
    "collapsed": true
   },
   "outputs": [],
   "source": []
  }
 ],
 "metadata": {
  "kernelspec": {
   "display_name": "Python 3",
   "language": "python",
   "name": "python3"
  },
  "language_info": {
   "codemirror_mode": {
    "name": "ipython",
    "version": 3
   },
   "file_extension": ".py",
   "mimetype": "text/x-python",
   "name": "python",
   "nbconvert_exporter": "python",
   "pygments_lexer": "ipython3",
   "version": "3.6.3"
  }
 },
 "nbformat": 4,
 "nbformat_minor": 2
}
