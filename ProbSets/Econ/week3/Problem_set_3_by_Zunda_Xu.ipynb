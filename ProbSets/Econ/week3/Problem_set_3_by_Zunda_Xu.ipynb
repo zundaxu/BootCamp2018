{
 "cells": [
  {
   "cell_type": "markdown",
   "metadata": {},
   "source": [
    "### Econ Problem Set 3: Overlapping Generations Models"
   ]
  },
  {
   "cell_type": "markdown",
   "metadata": {},
   "source": [
    "#### Dr. Evans, Boot Camp 2018\n",
    "#### Name: Zunda Xu (zunda@uchicago.edu)"
   ]
  },
  {
   "cell_type": "code",
   "execution_count": 1,
   "metadata": {
    "collapsed": true
   },
   "outputs": [],
   "source": [
    "# First import the libraries and packages used in this problem set\n",
    "import numpy as np\n",
    "import time\n",
    "import scipy.optimize as opt\n",
    "import scipy.linalg as la\n",
    "import matplotlib.pyplot as plt\n",
    "\n",
    "%matplotlib inline"
   ]
  },
  {
   "cell_type": "code",
   "execution_count": 4,
   "metadata": {
    "collapsed": true
   },
   "outputs": [],
   "source": [
    "# Set the parameters following the calibration\n",
    "\n",
    "# beta: 20-year discount factor\n",
    "beta = 0.96**20 \n",
    "# delta: 20-year capital depreciation rate\n",
    "delta = 1 - (1 - 0.05)**20 \n",
    "# sigma: risk-aversion parameter\n",
    "sigma = 3\n",
    "# A: productivity scale parameter\n",
    "A = 1\n",
    "# alpha: capital share of income\n",
    "alpha = 0.35                  "
   ]
  },
  {
   "cell_type": "markdown",
   "metadata": {},
   "source": [
    "#### Exercise 2.1 - Write a feasible function"
   ]
  },
  {
   "cell_type": "code",
   "execution_count": 6,
   "metadata": {
    "collapsed": true
   },
   "outputs": [],
   "source": [
    "def feasible(f_params, bvec_guess):\n",
    "    \"\"\"\n",
    "    Inputs: \n",
    "    f_params: A tuple, which is in the format of (nvec, A, alpha, delta), where\n",
    "              nvec represents labour supply of various generations, A means \n",
    "              productivity scale parameter, alpha is capital share of income and\n",
    "              delta represents 20-year capital depreciation rate.\n",
    "    bvec_guess: a guess for the steady-state savings vector.\n",
    "   \n",
    "    Returns:\n",
    "    b_cnstr : ith entry True if ith bvec_guess is responsible for any nonnegativity\n",
    "              constraint violation in c_cnstr.\n",
    "    c_cnstr : True if c_s <= 0 for s=1,2,3.\n",
    "    K_cnstr : True if K <= 0.\n",
    "    \n",
    "    \"\"\"\n",
    "    b_cnstr = np.array([False, False])\n",
    "    c_cnstr = np.array([False, False, False])\n",
    "    K_cnstr = bvec_guess.sum() <= 0\n",
    "    \n",
    "    c = np.zeros((3, 1))\n",
    "    K = bvec_guess.sum()\n",
    "    L = f_params[0].sum()\n",
    "    r = f_params[2] * f_params[1] * (L / K)**(1 - f_params[2]) - f_params[3]\n",
    "    w = (1 - f_params[2]) * f_params[1] * (K / L)**f_params[2]\n",
    "    c[0] = w * f_params[0][0] - bvec_guess[0]\n",
    "    c[1] = w * f_params[0][1] + (1 + r) * bvec_guess[1]\n",
    "    c[2] = w * f_params[0][2] + (1 + r) * bvec_guess[1]\n",
    "    \n",
    "    c_cnstr = c <= 0\n",
    "    if c_cnstr[0]:\n",
    "        b_cnstr[0] = True\n",
    "    if c_cnstr[1]:\n",
    "        b_cnstr[0] = True\n",
    "        b_cnstr[1] = True\n",
    "    if c_cnstr[2]:\n",
    "        b_cnstr[1] = True\n",
    "        \n",
    "    return b_cnstr, c_cnstr, K_cnstr"
   ]
  },
  {
   "cell_type": "markdown",
   "metadata": {},
   "source": [
    "##### Part (a)"
   ]
  },
  {
   "cell_type": "code",
   "execution_count": 7,
   "metadata": {},
   "outputs": [],
   "source": [
    "nvec = np.array([1, 1, 0.2])\n",
    "f_params = (nvec, A, alpha, delta)\n",
    "bvec_guess_1 = np.array([1, 1.2])\n",
    "b_cnstr_1, c_cnstr_1, K_cnstr_1 = feasible(f_params, bvec_guess_1)"
   ]
  },
  {
   "cell_type": "code",
   "execution_count": 9,
   "metadata": {},
   "outputs": [
    {
     "name": "stdout",
     "output_type": "stream",
     "text": [
      "[ True False]\n",
      "[ True False False]\n",
      "False\n"
     ]
    }
   ],
   "source": [
    "print(b_cnstr_1)\n",
    "print(c_cnstr_1.T[0])\n",
    "print(K_cnstr_1)"
   ]
  },
  {
   "cell_type": "markdown",
   "metadata": {},
   "source": [
    "##### Part (b)"
   ]
  },
  {
   "cell_type": "code",
   "execution_count": 12,
   "metadata": {},
   "outputs": [
    {
     "name": "stdout",
     "output_type": "stream",
     "text": [
      "[False False]\n",
      "[False False False]\n",
      "False\n"
     ]
    }
   ],
   "source": [
    "bvec_guess_2 = np.array([0.06, -0.001])\n",
    "b_cnstr_2, c_cnstr_2, K_cnstr_2 = feasible(f_params, bvec_guess_2)\n",
    "print(b_cnstr_2)\n",
    "print(c_cnstr_2.T[0])\n",
    "print(K_cnstr_2)                       "
   ]
  },
  {
   "cell_type": "markdown",
   "metadata": {},
   "source": [
    "##### Part (c)"
   ]
  },
  {
   "cell_type": "code",
   "execution_count": 13,
   "metadata": {},
   "outputs": [
    {
     "name": "stdout",
     "output_type": "stream",
     "text": [
      "[False False]\n",
      "[False False False]\n",
      "False\n"
     ]
    }
   ],
   "source": [
    "bvec_guess_3 = np.array([0.1, 0.1])\n",
    "b_cnstr_3, c_cnstr_3, K_cnstr_3 = feasible(f_params, bvec_guess_3)\n",
    "print(b_cnstr_3)\n",
    "print(c_cnstr_3.T[0])\n",
    "print(K_cnstr_3)  "
   ]
  },
  {
   "cell_type": "markdown",
   "metadata": {},
   "source": [
    "#### Exercise 2.2 - Write a $get\\_SS(  )$ function"
   ]
  },
  {
   "cell_type": "code",
   "execution_count": 14,
   "metadata": {
    "collapsed": true
   },
   "outputs": [],
   "source": [
    "# First we define some auxiliary functions\n",
    "\n",
    "def u_prime(c, params):\n",
    "    \"\"\" \n",
    "    Compute the derivative of utility function\n",
    "    \n",
    "    \"\"\"\n",
    "    if c >= 1e-6:\n",
    "        return c**(-params[1])\n",
    "    else:\n",
    "        return 1e6**3\n",
    "    \n",
    "def get_r(b_ss, params):\n",
    "    \"\"\" \n",
    "    Compute the steady-state interest rate\n",
    "    \n",
    "    \"\"\"\n",
    "    arg = params[2].sum() / b_ss.sum()\n",
    "    r = params[5] * params[4] * arg**(1 - params[5]) - params[6]\n",
    "    return r\n",
    "\n",
    "def get_w(b_ss, params):\n",
    "    \"\"\" \n",
    "    Comute the steady-state wage \n",
    "    \n",
    "    \"\"\"\n",
    "    arg = b_ss.sum() / params[2].sum()\n",
    "    w = (1 - params[5]) * params[4] * arg**params[5]\n",
    "    return w\n"
   ]
  },
  {
   "cell_type": "code",
   "execution_count": 15,
   "metadata": {
    "collapsed": true
   },
   "outputs": [],
   "source": [
    "def get_EulErr(b_ss, params):\n",
    "    \"\"\" \n",
    "    Compute the steady-state Euler equations errors\n",
    "    \n",
    "    \"\"\" \n",
    "    r_ss = get_r(b_ss, params)\n",
    "    w_ss = get_w(b_ss, params)\n",
    "    \n",
    "    c1_ss = params[2][0] * w_ss - b_ss[0]\n",
    "    c2_ss = params[2][1] * w_ss + (1 + r_ss) * b_ss[0] - b_ss[1]\n",
    "    c3_ss = params[2][2] * w_ss + (1 + r_ss) * b_ss[1]\n",
    "    \n",
    "    eulerr1_ss = u_prime(c1_ss, params) - params[0] * (1 + r_ss) * u_prime(c2_ss, params)\n",
    "    eulerr2_ss = u_prime(c2_ss, params) - params[0] * (1 + r_ss) * u_prime(c3_ss, params)\n",
    "    \n",
    "    return np.array([eulerr1_ss, eulerr2_ss])"
   ]
  },
  {
   "cell_type": "code",
   "execution_count": 19,
   "metadata": {
    "collapsed": true
   },
   "outputs": [],
   "source": [
    "# Define the auxilary plot funciton\n",
    "def plot_c_ss(c_ss):\n",
    "    x = np.arange(3)\n",
    "    plt.bar(x, c_ss)\n",
    "    plt.xticks(x, ('C 1', 'C 2', 'C 3'))\n",
    "    plt.title('Steady-state distribution of consumption')\n",
    "    plt.show()\n",
    "    \n",
    "def plot_b_ss(b_ss):\n",
    "    x = np.arange(2)\n",
    "    plt.bar(x, b_ss)\n",
    "    plt.xticks(x, ('b 2', 'b 3'))\n",
    "    plt.title('Steady-state distribution of savings')\n",
    "    plt.show()"
   ]
  },
  {
   "cell_type": "code",
   "execution_count": 20,
   "metadata": {
    "collapsed": true
   },
   "outputs": [],
   "source": [
    "def get_ss(params, bvec_guess, ss_graphs = False):\n",
    "    \"\"\"\n",
    "    Inputs:\n",
    "    \n",
    "    params : A tuple in the format of (beta, sigma, nvec, L, A, alpha, delta, SS tol).\n",
    "    bvec_guess : The guess for steady-state savings vector.\n",
    "    ss_graphs : If true, generates a figure of the steady-state distribution of consumption and savings.\n",
    "    \n",
    "    Returns:\n",
    "    ss_output : A dictionary with the steady-state solution values for the following endogenous objects.\n",
    "    \n",
    "    \"\"\"\n",
    "    start_time = time.clock()\n",
    "    \n",
    "    opt_result = opt.root(get_EulErr, bvec_guess, args = params, tol = params[7])\n",
    "    \n",
    "    b_ss = opt_result.x\n",
    "    r_ss = get_r(b_ss, params)\n",
    "    w_ss = get_w(b_ss, params)\n",
    "    \n",
    "    c1_ss = params[2][0] * w_ss - b_ss[0]\n",
    "    c2_ss = params[2][1] * w_ss + (1 + r_ss) * b_ss[0] - b_ss[1]\n",
    "    c3_ss = params[2][2] * w_ss + (1 + r_ss) * b_ss[1]\n",
    "    \n",
    "    c_ss = np.array([c1_ss, c2_ss, c3_ss])\n",
    "    K_ss = b_ss.sum()\n",
    "    L_ss = params[2].sum()\n",
    "    Y_ss = params[4] * K_ss**params[5] * L_ss**(1 - params[5])\n",
    "    C_ss = Y_ss - params[6] * K_ss\n",
    "    EulErr_ss = opt_result.fun\n",
    "    RCerr_ss = Y_ss - C_ss - params[6] * K_ss\n",
    "    \n",
    "    ss_time = time.clock() - start_time\n",
    "    \n",
    "    if ss_graphs:\n",
    "        plot_c_ss(c_ss)\n",
    "        plot_b_ss(b_ss)\n",
    "    \n",
    "    ss_output = {\n",
    "        'b_ss': b_ss, 'c_ss': c_ss, 'w_ss': w_ss, 'r_ss': r_ss,\n",
    "        'K_ss': K_ss, 'Y_ss': Y_ss, 'C_ss': C_ss,\n",
    "        'EulErr_ss': EulErr_ss, 'RCerr_ss': RCerr_ss,\n",
    "        'ss_time': ss_time}\n",
    "    \n",
    "    return ss_output"
   ]
  },
  {
   "cell_type": "markdown",
   "metadata": {},
   "source": [
    "##### Part(a) and (b)"
   ]
  },
  {
   "cell_type": "code",
   "execution_count": 24,
   "metadata": {},
   "outputs": [
    {
     "data": {
      "image/png": "[encoded data removed]",
      "text/plain": [
       "<Figure size 432x288 with 1 Axes>"
      ]
     },
     "metadata": {},
     "output_type": "display_data"
    },
    {
     "data": {
      "image/png": "[encoded data removed]",
      "text/plain": [
       "<Figure size 432x288 with 1 Axes>"
      ]
     },
     "metadata": {},
     "output_type": "display_data"
    },
    {
     "data": {
      "text/plain": [
       "{'C_ss': 0.63290128279303526,\n",
       " 'EulErr_ss': array([  4.58641125e-10,  -8.88931595e-10]),\n",
       " 'K_ss': 0.077724326117900477,\n",
       " 'RCerr_ss': 6.9388939039072284e-18,\n",
       " 'Y_ss': 0.68276253216897786,\n",
       " 'b_ss': array([ 0.01931274,  0.05841159]),\n",
       " 'c_ss': array([ 0.18241256,  0.20961491,  0.24087382]),\n",
       " 'r_ss': 2.4330302535700885,\n",
       " 'ss_time': 0.0008119999999998129,\n",
       " 'w_ss': 0.20172529359537983}"
      ]
     },
     "execution_count": 24,
     "metadata": {},
     "output_type": "execute_result"
    }
   ],
   "source": [
    "bvec_guess = np.array([0.1, 0.1])\n",
    "ss_tol = 1e-6\n",
    "L = nvec.sum()\n",
    "params = [beta, sigma, nvec, L, A, alpha, delta, ss_tol]\n",
    "get_ss(params, bvec_guess, ss_graphs = True)"
   ]
  },
  {
   "cell_type": "markdown",
   "metadata": {},
   "source": [
    "##### Part (c) :"
   ]
  },
  {
   "cell_type": "code",
   "execution_count": 25,
   "metadata": {},
   "outputs": [
    {
     "data": {
      "image/png": "[encoded data removed]",
      "text/plain": [
       "<Figure size 432x288 with 1 Axes>"
      ]
     },
     "metadata": {},
     "output_type": "display_data"
    },
    {
     "data": {
      "image/png": "[encoded data removed]",
      "text/plain": [
       "<Figure size 432x288 with 1 Axes>"
      ]
     },
     "metadata": {},
     "output_type": "display_data"
    },
    {
     "data": {
      "text/plain": [
       "{'C_ss': 0.691283104418148,\n",
       " 'EulErr_ss': array([ -6.82537689e-08,  -2.50616949e-08]),\n",
       " 'K_ss': 0.10504252544893955,\n",
       " 'RCerr_ss': 0.0,\n",
       " 'Y_ss': 0.75866936323940171,\n",
       " 'b_ss': array([ 0.02817696,  0.07686557]),\n",
       " 'c_ss': array([ 0.19597535,  0.22861559,  0.26669216]),\n",
       " 'r_ss': 1.8863600000635481,\n",
       " 'ss_time': 0.0007529999999995596,\n",
       " 'w_ss': 0.22415231186618687}"
      ]
     },
     "execution_count": 25,
     "metadata": {},
     "output_type": "execute_result"
    }
   ],
   "source": [
    "# Set beta to 0.55\n",
    "beta = 0.55 \n",
    "params = [beta, sigma, nvec, L, A, alpha, delta, ss_tol]\n",
    "get_ss(params, bvec_guess, ss_graphs = True)"
   ]
  },
  {
   "cell_type": "markdown",
   "metadata": {},
   "source": [
    "#### Exercise 2.3 - TPI"
   ]
  },
  {
   "cell_type": "code",
   "execution_count": 26,
   "metadata": {
    "collapsed": true
   },
   "outputs": [],
   "source": [
    "# Set parameters\n",
    "# 20-year discount factor\n",
    "beta = 0.96**20  \n",
    "# Steady-state horizon\n",
    "T = 30 \n",
    "# tolerance epsilon\n",
    "epsilon = 1e-9                   \n",
    "xi = 0.3\n",
    "# Labour supply\n",
    "nvec = np.array([1, 1, 0.2])\n",
    "# tolerance for Euler errors\n",
    "eul_tol = 1e-6                \n",
    "max_iter = 10000\n",
    "params = [beta, sigma, nvec, L, A, alpha, delta, eul_tol, max_iter]"
   ]
  },
  {
   "cell_type": "code",
   "execution_count": 28,
   "metadata": {},
   "outputs": [],
   "source": [
    "# Solve for the steady-state first\n",
    "output_ss = get_ss(params, bvec_guess)\n",
    "b2_bar = output_ss['b_ss'][0]\n",
    "b3_bar = output_ss['b_ss'][1]\n",
    "b_ss = np.array([b2_bar, b3_bar])"
   ]
  },
  {
   "cell_type": "code",
   "execution_count": 29,
   "metadata": {
    "collapsed": true
   },
   "outputs": [],
   "source": [
    "# Set initial condition\n",
    "b2_1 = 0.8 * b2_bar\n",
    "b3_1 = 1.1 * b3_bar\n",
    "bvec_guess = np.array([b2_1, b3_1])"
   ]
  },
  {
   "cell_type": "code",
   "execution_count": 30,
   "metadata": {
    "collapsed": true
   },
   "outputs": [],
   "source": [
    "# Initial linear guess path of K\n",
    "K_1 = b2_1 + b3_1\n",
    "K_bar = b2_bar + b3_bar\n",
    "K_path = np.linspace(K_1, K_bar, T)\n",
    "K_path = np.append(K_path, K_bar)"
   ]
  },
  {
   "cell_type": "code",
   "execution_count": 31,
   "metadata": {
    "collapsed": true
   },
   "outputs": [],
   "source": [
    "# Define a function to get interest rates and wages paths depending on capital path\n",
    "def get_wr_paths(T, K_path, K_bar, params):\n",
    "    \n",
    "    r_path = np.zeros(T)\n",
    "    w_path = np.zeros(T)\n",
    "    for i in range(T):\n",
    "        r_path[i] = get_r(K_path[i], params)\n",
    "        w_path[i] = get_w(K_path[i], params)\n",
    "    r_bar = get_r(K_bar, params)\n",
    "    w_bar = get_w(K_bar, params)\n",
    "    r_path = np.append(r_path, r_bar)\n",
    "    w_path = np.append(w_path, w_bar)\n",
    "    \n",
    "    return np.array([r_path, w_path])"
   ]
  },
  {
   "cell_type": "code",
   "execution_count": 49,
   "metadata": {
    "collapsed": true
   },
   "outputs": [],
   "source": [
    "# Define a function to compute the Euler Errors for b3_2\n",
    "def b3_2_EulErr(b3_2, b3_2_params):\n",
    "    \"\"\" \n",
    "    b3_2_params = (b2_1, b2_2, r_path, w_path, params)\n",
    "    \n",
    "    \"\"\"\n",
    "    \n",
    "    b2_1 = b3_2_params[0]\n",
    "    b2_2 = b3_2_params[1]\n",
    "    r_path = b3_2_params[2]\n",
    "    w_path = b3_2_params[3]\n",
    "    params = b3_2_params[4]\n",
    "    \n",
    "    c1 = (1 + r_path[0]) * b2_1 + w_path[0] * params[2][1] - b3_2\n",
    "    u1 = u_prime(c1, params)\n",
    "    c2 = (1 + r_path[1]) * b3_2 + w_path[1] * params[2][2]\n",
    "    u2 = u_prime(c2, params)\n",
    "    \n",
    "    EulErr = u1 - params[0] * (1 + r_path[1]) * u2\n",
    "    \n",
    "    return EulErr"
   ]
  },
  {
   "cell_type": "code",
   "execution_count": 50,
   "metadata": {
    "collapsed": true
   },
   "outputs": [],
   "source": [
    "# Define a function to get the Euler errors for b3_2\n",
    "def get_b3_2(b2_1, b2_2, r_path, w_path, params, bvec_guess):\n",
    "    \n",
    "    b3_2_params = [b2_1, b2_2, r_path, w_path, params]\n",
    "    opt_result = opt.root(b3_2_EulErr, \n",
    "                      bvec_guess[0], \n",
    "                      args = b3_2_params, \n",
    "                      tol = params[7])\n",
    "    b3_2 = opt_result.x\n",
    "    b3_2_EulErrs = opt_result.fun\n",
    "    \n",
    "    return np.array([b3_2, b3_2_EulErrs])"
   ]
  },
  {
   "cell_type": "code",
   "execution_count": 34,
   "metadata": {
    "collapsed": true
   },
   "outputs": [],
   "source": [
    "# Define a function to compute Euler error for b2_t and b3_{t+1}\n",
    "\n",
    "def b_EulErr(b, b_params):\n",
    "    \"\"\" \n",
    "    Inputs:\n",
    "    \n",
    "    b = (b2_t, b3_t1)\n",
    "    b_params = (t, r_path, w_path, params)\n",
    "    \n",
    "    \"\"\"\n",
    "    \n",
    "    t  = b_params[0]\n",
    "    r_path = b_params[1]\n",
    "    w_path = b_params[2]\n",
    "    params = b_params[3]\n",
    "    \n",
    "    c2_1 = w_path[t] * params[2][0] - b[0]\n",
    "    u2_1 = u_prime(c2_1, params)\n",
    "    c2_2 = (1 + r_path[t+1]) * b[0] + w_path[t+1] * params[2][1] - b[1]\n",
    "    u2_2 = u_prime(c2_2, params)\n",
    "    b2_EulErrs = u2_1 - params[0] * (1 + r_path[t+1]) * u2_2\n",
    "    \n",
    "    c3_1 = (1 + r_path[t+1]) * b[0] + w_path[t+1] * params[2][1] - b[1]\n",
    "    u3_1 = u_prime(c3_1, params)\n",
    "    c3_2 = (1 + r_path[t+2]) * b[1] + w_path[t+2] * params[2][2]\n",
    "    u3_2 = u_prime(c3_2, params)\n",
    "    b3_EulErrs = u3_1 - params[0] * (1 + r_path[t+2]) * u3_2\n",
    "        \n",
    "    return np.array([b2_EulErrs, b3_EulErrs])"
   ]
  },
  {
   "cell_type": "code",
   "execution_count": 35,
   "metadata": {
    "collapsed": true
   },
   "outputs": [],
   "source": [
    "# Define a function to get the Euler errors for b2_t and b3_{t+1}\n",
    "\n",
    "def get_b(t, r_path, w_path, params, bvec_guess):\n",
    "    \n",
    "    b_params = [t, r_path, w_path, params]\n",
    "    opt_result = opt.root(b_EulErr, \n",
    "                      bvec_guess, \n",
    "                      args = b_params, \n",
    "                      tol = params[7])\n",
    "    b = opt_result.x\n",
    "    b_EulErrs = opt_result.fun\n",
    "    \n",
    "    return np.array([b, b_EulErrs])"
   ]
  },
  {
   "cell_type": "code",
   "execution_count": 36,
   "metadata": {
    "collapsed": true
   },
   "outputs": [],
   "source": [
    "# Define a function to compute aggregate errors for each time path\n",
    "\n",
    "def aggregate_errs(K_path, r_path, w_path, b_mat, params):\n",
    "    \n",
    "    L = params[2].sum()\n",
    "    C = L * w_path[:-1] + (1 + r_path[:-1]) * b_mat[:-1,0] - b_mat[1:,0] + (1 + r_path[:-1]) * b_mat[:-1,1] - b_mat[1:,1]\n",
    "    Y = params[4] * (K_path[:-1]**params[5]) * L**(1 - params[5])\n",
    "    \n",
    "    agg_err = Y - C - K_path[1:] + (1 - params[6]) * K_path[:-1]\n",
    "    max_agg_err = np.abs(agg_err).max()\n",
    "    \n",
    "    return max_agg_err"
   ]
  },
  {
   "cell_type": "code",
   "execution_count": 45,
   "metadata": {
    "collapsed": true
   },
   "outputs": [],
   "source": [
    "# Define a function to compute time path of the b_2t and b_3t, Euler errors and aggregate resources errors\n",
    "\n",
    "def bt_timepath(T, r_path, w_path, K_path, bvec_guess, b_ss, params):\n",
    "    \n",
    "    b_mat = np.zeros((T+1, 2))\n",
    "    b_mat[0,:] = bvec_guess\n",
    "    EulErrs = np.zeros((T+1, 2))\n",
    "    col = [0,1]\n",
    "    for i in range(T-1):\n",
    "        row = [i+1, i+2]\n",
    "        b_mat[row, col], EulErrs[row, col] = get_b(i, r_path, w_path, params, bvec_guess)\n",
    "    \n",
    "    b_mat[1,1], EulErrs[1,1] = get_b3_2(b_mat[0,0], b_mat[0,1], r_path, w_path, params, bvec_guess)\n",
    "    max_EulErrs = np.abs(EulErrs).max(axis = 0)\n",
    "    agg_errs = aggregate_errs(K_path, r_path, w_path, b_mat, params)\n",
    "    \n",
    "    return b_mat, max_EulErrs, agg_errs"
   ]
  },
  {
   "cell_type": "code",
   "execution_count": 46,
   "metadata": {
    "collapsed": true
   },
   "outputs": [],
   "source": [
    "# Define a function to compute K'\n",
    "def K_prime(b_mat, K_bar):\n",
    "    \n",
    "    K_pri_path = b_mat[:-1,:].sum(axis = 1)\n",
    "    K_pri_path = np.append(K_pri_path, K_bar)\n",
    "    \n",
    "    return K_pri_path"
   ]
  },
  {
   "cell_type": "code",
   "execution_count": 47,
   "metadata": {
    "collapsed": true
   },
   "outputs": [],
   "source": [
    "# Define a function to compute TPI to get the equilibrium time path of the economy\n",
    "\n",
    "def TPI(T, K_path, K_bar, bvec_guess, b_ss, params, epsilon, max_iter):\n",
    "    \n",
    "    dist = epsilon + 1\n",
    "    i = 0\n",
    "    \n",
    "    while (dist > epsilon) & (i < max_iter):\n",
    "        i += 1\n",
    "        r_path, w_path = get_wr_paths(T, K_path, K_bar, params)\n",
    "        b_mat, max_EulErrs, max_agg_errs = bt_timepath(T, r_path, w_path, K_path, bvec_guess, b_ss, params)\n",
    "        K_pri_path = K_prime(b_mat, K_bar)\n",
    "        dist = la.norm(K_pri_path - K_path, 2)\n",
    "        K_path = xi * K_pri_path + (1 - xi) * K_path\n",
    "        \n",
    "    print('Maximum of the absolute values of the Euler errors for generation 2 is: ', max_EulErrs[0])\n",
    "    print('Maximum of the absolute values of the Euler errors for generation 3 is: ', max_EulErrs[1])\n",
    "    print('Maximum of the absolute value of all the aggregate resource constraint error is:', max_agg_errs)\n",
    "    \n",
    "    return K_path, r_path, w_path"
   ]
  },
  {
   "cell_type": "markdown",
   "metadata": {},
   "source": [
    "##### Part (a)"
   ]
  },
  {
   "cell_type": "code",
   "execution_count": 51,
   "metadata": {},
   "outputs": [
    {
     "name": "stdout",
     "output_type": "stream",
     "text": [
      "Maximum of the absolute values of the Euler errors for generation 2 is:  3.21339115317e-07\n",
      "Maximum of the absolute values of the Euler errors for generation 3 is:  9.46420044556e-08\n",
      "Maximum of the absolute value of all the aggregate resource constraint error is: 0.0193127346375\n"
     ]
    }
   ],
   "source": [
    "Ks_path, rs_path, ws_path = TPI(T, K_path, K_bar, bvec_guess, b_ss, params, epsilon, max_iter)"
   ]
  },
  {
   "cell_type": "markdown",
   "metadata": {},
   "source": [
    "##### Part (b)"
   ]
  },
  {
   "cell_type": "code",
   "execution_count": 53,
   "metadata": {},
   "outputs": [
    {
     "data": {
      "image/png": "[encoded data removed]",
      "text/plain": [
       "<Figure size 432x288 with 1 Axes>"
      ]
     },
     "metadata": {},
     "output_type": "display_data"
    }
   ],
   "source": [
    "# Plot the equilibrium time paths of the aggregate capital stock\n",
    "plt.plot(Ks_path)\n",
    "plt.title('Equilibrium time path of aggregate capital stock')\n",
    "plt.xlabel('time')\n",
    "plt.ylabel('Capital stock')\n",
    "plt.show()"
   ]
  },
  {
   "cell_type": "code",
   "execution_count": 54,
   "metadata": {},
   "outputs": [
    {
     "data": {
      "image/png": "[encoded data removed]",
      "text/plain": [
       "<Figure size 432x288 with 1 Axes>"
      ]
     },
     "metadata": {},
     "output_type": "display_data"
    }
   ],
   "source": [
    "# Plot the equilibrium time paths of wages\n",
    "plt.plot(ws_path)\n",
    "plt.title('Equilibrium time path of wages')\n",
    "plt.xlabel('time')\n",
    "plt.ylabel('Wages')\n",
    "plt.show()"
   ]
  },
  {
   "cell_type": "code",
   "execution_count": 55,
   "metadata": {},
   "outputs": [
    {
     "data": {
      "image/png": "[encoded data removed]",
      "text/plain": [
       "<Figure size 432x288 with 1 Axes>"
      ]
     },
     "metadata": {},
     "output_type": "display_data"
    }
   ],
   "source": [
    "# Plot the equilibrium time paths of interest rate\n",
    "plt.plot(rs_path)\n",
    "plt.title('Equilibrium time path of interest rate')\n",
    "plt.xlabel('time')\n",
    "plt.ylabel('Interest rate')\n",
    "plt.show()"
   ]
  },
  {
   "cell_type": "markdown",
   "metadata": {},
   "source": [
    "##### Part (c)"
   ]
  },
  {
   "cell_type": "code",
   "execution_count": 56,
   "metadata": {
    "collapsed": true
   },
   "outputs": [],
   "source": [
    "Ks_dist = np.abs(Ks_path - K_bar)\n",
    "err = 1e-5\n",
    "loc = np.where(Ks_dist < err)[0]"
   ]
  },
  {
   "cell_type": "code",
   "execution_count": 59,
   "metadata": {},
   "outputs": [
    {
     "name": "stdout",
     "output_type": "stream",
     "text": [
      "Number of periods taken by the economy to get within 0.00001 of the steady state aggregate capital stock K is: \n",
      "2\n"
     ]
    }
   ],
   "source": [
    "print('Number of periods taken by the economy to get within 0.00001 of the steady state aggregate capital stock K is: ')\n",
    "print(loc.min())"
   ]
  },
  {
   "cell_type": "code",
   "execution_count": 60,
   "metadata": {},
   "outputs": [
    {
     "name": "stdout",
     "output_type": "stream",
     "text": [
      "The period after which the economy stays within 0.00001 of the steady state aggregate capital is: \n",
      "10\n"
     ]
    }
   ],
   "source": [
    "loc_cons = np.ediff1d(loc) == 1\n",
    "print('The period after which the economy stays within 0.00001 of the steady state aggregate capital is: ')\n",
    "print(loc[-len(loc_cons)])"
   ]
  },
  {
   "cell_type": "code",
   "execution_count": null,
   "metadata": {
    "collapsed": true
   },
   "outputs": [],
   "source": []
  }
 ],
 "metadata": {
  "kernelspec": {
   "display_name": "Python 3",
   "language": "python",
   "name": "python3"
  },
  "language_info": {
   "codemirror_mode": {
    "name": "ipython",
    "version": 3
   },
   "file_extension": ".py",
   "mimetype": "text/x-python",
   "name": "python",
   "nbconvert_exporter": "python",
   "pygments_lexer": "ipython3",
   "version": "3.6.3"
  }
 },
 "nbformat": 4,
 "nbformat_minor": 2
}
